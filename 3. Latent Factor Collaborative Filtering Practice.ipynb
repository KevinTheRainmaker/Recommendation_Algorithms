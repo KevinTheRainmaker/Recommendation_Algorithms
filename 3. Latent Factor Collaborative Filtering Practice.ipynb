{
 "cells": [
  {
   "cell_type": "markdown",
   "metadata": {},
   "source": [
    "# Latent Factor Collaborative Filtering Using Matrix Factorizations"
   ]
  },
  {
   "cell_type": "markdown",
   "metadata": {},
   "source": [
    "## SGD 기반 행렬 분해 기법 사용\n",
    "행렬 분해 잠재 요인 협업 필터링은 SVD나 NMF 등을 적용할 수 있는데, 일반적으로 행렬 분해에는 SVD가 자주 사용된다.\n",
    "하지만 User-Item 평점 행렬의 경우 NaN 값의 데이터가 많은 Sparse Matrix이기 때문에 주로 SGD나 ALS 방식 기반의 행렬 분해를 이용한다.\n",
    "여기서는 SGD 기반의 행렬 분해를 구현하고 이를 기반으로 사용자에게 영화를 추천해보도록 하자."
   ]
  },
  {
   "cell_type": "markdown",
   "metadata": {},
   "source": [
    "----"
   ]
  },
  {
   "cell_type": "code",
   "execution_count": 1,
   "metadata": {},
   "outputs": [
    {
     "data": {
      "text/plain": [
       "{'python_version': '3.9.7.final.0 (64 bit)',\n",
       " 'cpuinfo_version': [8, 0, 0],\n",
       " 'cpuinfo_version_string': '8.0.0',\n",
       " 'arch': 'ARM_8',\n",
       " 'bits': 64,\n",
       " 'count': 8,\n",
       " 'arch_string_raw': 'arm64',\n",
       " 'brand_raw': 'Apple M1'}"
      ]
     },
     "execution_count": 1,
     "metadata": {},
     "output_type": "execute_result"
    }
   ],
   "source": [
    "import cpuinfo\n",
    "cpuinfo.get_cpu_info()"
   ]
  },
  {
   "cell_type": "markdown",
   "metadata": {},
   "source": [
    "---"
   ]
  },
  {
   "cell_type": "markdown",
   "metadata": {},
   "source": [
    "## Data Loading and Processing "
   ]
  },
  {
   "cell_type": "code",
   "execution_count": 2,
   "metadata": {},
   "outputs": [],
   "source": [
    "import pandas as pd\n",
    "import numpy as np\n",
    "import warnings\n",
    "warnings.filterwarnings('ignore')"
   ]
  },
  {
   "cell_type": "code",
   "execution_count": 3,
   "metadata": {},
   "outputs": [
    {
     "name": "stdout",
     "output_type": "stream",
     "text": [
      "(9742, 3)\n",
      "(100836, 4)\n"
     ]
    }
   ],
   "source": [
    "movies = pd.read_csv('./data/MovieLens_Dataset/ml-latest-small/movies.csv')\n",
    "ratings = pd.read_csv('./data/MovieLens_Dataset/ml-latest-small/ratings.csv')\n",
    "\n",
    "print(movies.shape)\n",
    "print(ratings.shape)"
   ]
  },
  {
   "cell_type": "code",
   "execution_count": 4,
   "metadata": {},
   "outputs": [
    {
     "data": {
      "text/html": [
       "<div>\n",
       "<style scoped>\n",
       "    .dataframe tbody tr th:only-of-type {\n",
       "        vertical-align: middle;\n",
       "    }\n",
       "\n",
       "    .dataframe tbody tr th {\n",
       "        vertical-align: top;\n",
       "    }\n",
       "\n",
       "    .dataframe thead th {\n",
       "        text-align: right;\n",
       "    }\n",
       "</style>\n",
       "<table border=\"1\" class=\"dataframe\">\n",
       "  <thead>\n",
       "    <tr style=\"text-align: right;\">\n",
       "      <th></th>\n",
       "      <th>movieId</th>\n",
       "      <th>title</th>\n",
       "      <th>genres</th>\n",
       "    </tr>\n",
       "  </thead>\n",
       "  <tbody>\n",
       "    <tr>\n",
       "      <th>0</th>\n",
       "      <td>1</td>\n",
       "      <td>Toy Story (1995)</td>\n",
       "      <td>Adventure|Animation|Children|Comedy|Fantasy</td>\n",
       "    </tr>\n",
       "    <tr>\n",
       "      <th>1</th>\n",
       "      <td>2</td>\n",
       "      <td>Jumanji (1995)</td>\n",
       "      <td>Adventure|Children|Fantasy</td>\n",
       "    </tr>\n",
       "    <tr>\n",
       "      <th>2</th>\n",
       "      <td>3</td>\n",
       "      <td>Grumpier Old Men (1995)</td>\n",
       "      <td>Comedy|Romance</td>\n",
       "    </tr>\n",
       "  </tbody>\n",
       "</table>\n",
       "</div>"
      ],
      "text/plain": [
       "   movieId                    title  \\\n",
       "0        1         Toy Story (1995)   \n",
       "1        2           Jumanji (1995)   \n",
       "2        3  Grumpier Old Men (1995)   \n",
       "\n",
       "                                        genres  \n",
       "0  Adventure|Animation|Children|Comedy|Fantasy  \n",
       "1                   Adventure|Children|Fantasy  \n",
       "2                               Comedy|Romance  "
      ]
     },
     "execution_count": 4,
     "metadata": {},
     "output_type": "execute_result"
    }
   ],
   "source": [
    "movies.head(3)"
   ]
  },
  {
   "cell_type": "code",
   "execution_count": 5,
   "metadata": {},
   "outputs": [
    {
     "data": {
      "text/html": [
       "<div>\n",
       "<style scoped>\n",
       "    .dataframe tbody tr th:only-of-type {\n",
       "        vertical-align: middle;\n",
       "    }\n",
       "\n",
       "    .dataframe tbody tr th {\n",
       "        vertical-align: top;\n",
       "    }\n",
       "\n",
       "    .dataframe thead th {\n",
       "        text-align: right;\n",
       "    }\n",
       "</style>\n",
       "<table border=\"1\" class=\"dataframe\">\n",
       "  <thead>\n",
       "    <tr style=\"text-align: right;\">\n",
       "      <th></th>\n",
       "      <th>userId</th>\n",
       "      <th>movieId</th>\n",
       "      <th>rating</th>\n",
       "      <th>timestamp</th>\n",
       "    </tr>\n",
       "  </thead>\n",
       "  <tbody>\n",
       "    <tr>\n",
       "      <th>0</th>\n",
       "      <td>1</td>\n",
       "      <td>1</td>\n",
       "      <td>4.0</td>\n",
       "      <td>964982703</td>\n",
       "    </tr>\n",
       "    <tr>\n",
       "      <th>1</th>\n",
       "      <td>1</td>\n",
       "      <td>3</td>\n",
       "      <td>4.0</td>\n",
       "      <td>964981247</td>\n",
       "    </tr>\n",
       "    <tr>\n",
       "      <th>2</th>\n",
       "      <td>1</td>\n",
       "      <td>6</td>\n",
       "      <td>4.0</td>\n",
       "      <td>964982224</td>\n",
       "    </tr>\n",
       "  </tbody>\n",
       "</table>\n",
       "</div>"
      ],
      "text/plain": [
       "   userId  movieId  rating  timestamp\n",
       "0       1        1     4.0  964982703\n",
       "1       1        3     4.0  964981247\n",
       "2       1        6     4.0  964982224"
      ]
     },
     "execution_count": 5,
     "metadata": {},
     "output_type": "execute_result"
    }
   ],
   "source": [
    "ratings.head(3)"
   ]
  },
  {
   "cell_type": "code",
   "execution_count": 6,
   "metadata": {},
   "outputs": [],
   "source": [
    "ratings = ratings[['userId', 'movieId','rating']]\n",
    "ratings_matrix = ratings.pivot_table('rating',index='userId', columns='movieId')"
   ]
  },
  {
   "cell_type": "code",
   "execution_count": 7,
   "metadata": {},
   "outputs": [],
   "source": [
    "rating_movies = pd.merge(ratings, movies, on='movieId')\n",
    "ratings_matrix = rating_movies.pivot_table('rating',index='userId', columns='title')\n",
    "ratings_matrix = ratings_matrix.fillna(0)"
   ]
  },
  {
   "cell_type": "markdown",
   "metadata": {},
   "source": [
    "---"
   ]
  },
  {
   "cell_type": "markdown",
   "metadata": {},
   "source": [
    "## RMSE"
   ]
  },
  {
   "cell_type": "code",
   "execution_count": 8,
   "metadata": {},
   "outputs": [],
   "source": [
    "from sklearn.metrics import mean_squared_error\n",
    "\n",
    "def get_rmse(R, P, Q, non_zeros):\n",
    "    error = 0\n",
    "    # 두 개의 분해된 행렬 P와 Q.T의 내적으로 예측 R 행렬 생성\n",
    "    full_pred_matrix = np.dot(P, Q.T)\n",
    "    \n",
    "    # 실제 R 행렬에서 Null값이 아닌 값의 위치 인덱스를 추출해서 실제 R 행렬과 예측 R 행렬 사이의 RMSE 추출\n",
    "    x_non_zero_ind = [non_zero[0] for non_zero in non_zeros]\n",
    "    y_non_zero_ind = [non_zero[1] for non_zero in non_zeros]\n",
    "    R_non_zeros = R[x_non_zero_ind, y_non_zero_ind]\n",
    "    full_pred_matrix_non_zeros = full_pred_matrix[x_non_zero_ind, y_non_zero_ind]\n",
    "    mse = mean_squared_error(R_non_zeros, full_pred_matrix_non_zeros)\n",
    "    rmse = np.sqrt(mse)\n",
    "    \n",
    "    return rmse"
   ]
  },
  {
   "cell_type": "markdown",
   "metadata": {},
   "source": [
    "---"
   ]
  },
  {
   "cell_type": "markdown",
   "metadata": {},
   "source": [
    "## Matrix Factorization Logic"
   ]
  },
  {
   "cell_type": "code",
   "execution_count": 15,
   "metadata": {},
   "outputs": [],
   "source": [
    "def factorize_matrix(R, K, steps=200, lr=0.01, r_lambda=0.01):\n",
    "    '''\n",
    "    R: 원본 R 행렬\n",
    "    K: 잠재 요인 차원 수\n",
    "    steps: SGD 반복 횟수\n",
    "    lr: 학습률(Learning Rate)\n",
    "    r_lambda: L2 Regulrization 계수\n",
    "    '''\n",
    "    num_users, num_items = R.shape\n",
    "    # P와 Q 행렬의 크기를 지정하고 정규 분포를 가진 랜덤한 값으로 초기 설정\n",
    "    P = np.random.normal(scale=1./K, size=(num_users, K))\n",
    "    Q = np.random.normal(scale=1./K, size=(num_items, K))\n",
    "    \n",
    "    prev_rmse = 10000\n",
    "    break_count = 0\n",
    "    \n",
    "    # R > 0 인 행 위치, 영 위치, 값 을 non_zeros 리스트 객체에 저장\n",
    "    non_zeros = [(i,j,R[i,j]) for i in range(num_users) for j in range(num_items) if R[i,j] > 0]\n",
    "    \n",
    "    for step in range(steps):\n",
    "        for i,j,r in non_zeros:\n",
    "            # 실제값과 예측값의 차이인 오류 도출\n",
    "            eij = r - np.dot(P[i, :], Q[j,:].T)\n",
    "            # Regularization을 반영한 SGD 업데이트 공식 적용\n",
    "            P[i,:] = P[i,:] + lr*(eij*Q[j,:] - r_lambda*P[i,:])\n",
    "            Q[j,:] = Q[j,:] + lr*(eij*P[i,:] - r_lambda*Q[j,:])\n",
    "            \n",
    "        rmse = get_rmse(R, P, Q, non_zeros)\n",
    "        # 10번마다 출력\n",
    "        if (step%10) == 0:\n",
    "            print(\"### iteration_stpe: \", step, \"rmse: \", rmse)\n",
    "            \n",
    "    return P,Q"
   ]
  },
  {
   "cell_type": "markdown",
   "metadata": {},
   "source": [
    "---"
   ]
  },
  {
   "cell_type": "code",
   "execution_count": 17,
   "metadata": {},
   "outputs": [
    {
     "name": "stdout",
     "output_type": "stream",
     "text": [
      "### iteration_stpe:  0 rmse:  2.907469480812062\n",
      "### iteration_stpe:  10 rmse:  0.7340433499766933\n",
      "### iteration_stpe:  20 rmse:  0.5128595402647591\n",
      "### iteration_stpe:  30 rmse:  0.3727746943336636\n",
      "### iteration_stpe:  40 rmse:  0.29546455244435\n",
      "### iteration_stpe:  50 rmse:  0.2513536429962661\n",
      "### iteration_stpe:  60 rmse:  0.2243935563592549\n",
      "### iteration_stpe:  70 rmse:  0.2065542418228327\n",
      "### iteration_stpe:  80 rmse:  0.19393901833847627\n",
      "### iteration_stpe:  90 rmse:  0.18454630758986915\n",
      "### iteration_stpe:  100 rmse:  0.17727068337830257\n",
      "### iteration_stpe:  110 rmse:  0.1714606074856677\n",
      "### iteration_stpe:  120 rmse:  0.16670944463323076\n",
      "### iteration_stpe:  130 rmse:  0.1627503914205024\n",
      "### iteration_stpe:  140 rmse:  0.1594007413770971\n",
      "### iteration_stpe:  150 rmse:  0.1565307988374228\n",
      "### iteration_stpe:  160 rmse:  0.15404569022305012\n",
      "### iteration_stpe:  170 rmse:  0.1518742391439788\n",
      "### iteration_stpe:  180 rmse:  0.1499618879524455\n",
      "### iteration_stpe:  190 rmse:  0.14826603743383374\n"
     ]
    }
   ],
   "source": [
    "P, Q = factorize_matrix(ratings_matrix.values, K=50)"
   ]
  },
  {
   "cell_type": "code",
   "execution_count": 18,
   "metadata": {},
   "outputs": [],
   "source": [
    "pred_matrix = np.dot(P, Q.T)"
   ]
  },
  {
   "cell_type": "code",
   "execution_count": 19,
   "metadata": {},
   "outputs": [
    {
     "data": {
      "text/html": [
       "<div>\n",
       "<style scoped>\n",
       "    .dataframe tbody tr th:only-of-type {\n",
       "        vertical-align: middle;\n",
       "    }\n",
       "\n",
       "    .dataframe tbody tr th {\n",
       "        vertical-align: top;\n",
       "    }\n",
       "\n",
       "    .dataframe thead th {\n",
       "        text-align: right;\n",
       "    }\n",
       "</style>\n",
       "<table border=\"1\" class=\"dataframe\">\n",
       "  <thead>\n",
       "    <tr style=\"text-align: right;\">\n",
       "      <th>title</th>\n",
       "      <th>'71 (2014)</th>\n",
       "      <th>'Hellboy': The Seeds of Creation (2004)</th>\n",
       "      <th>'Round Midnight (1986)</th>\n",
       "      <th>'Salem's Lot (2004)</th>\n",
       "      <th>'Til There Was You (1997)</th>\n",
       "      <th>'Tis the Season for Love (2015)</th>\n",
       "      <th>'burbs, The (1989)</th>\n",
       "      <th>'night Mother (1986)</th>\n",
       "      <th>(500) Days of Summer (2009)</th>\n",
       "      <th>*batteries not included (1987)</th>\n",
       "      <th>...</th>\n",
       "      <th>Zulu (2013)</th>\n",
       "      <th>[REC] (2007)</th>\n",
       "      <th>[REC]² (2009)</th>\n",
       "      <th>[REC]³ 3 Génesis (2012)</th>\n",
       "      <th>anohana: The Flower We Saw That Day - The Movie (2013)</th>\n",
       "      <th>eXistenZ (1999)</th>\n",
       "      <th>xXx (2002)</th>\n",
       "      <th>xXx: State of the Union (2005)</th>\n",
       "      <th>¡Three Amigos! (1986)</th>\n",
       "      <th>À nous la liberté (Freedom for Us) (1931)</th>\n",
       "    </tr>\n",
       "    <tr>\n",
       "      <th>userId</th>\n",
       "      <th></th>\n",
       "      <th></th>\n",
       "      <th></th>\n",
       "      <th></th>\n",
       "      <th></th>\n",
       "      <th></th>\n",
       "      <th></th>\n",
       "      <th></th>\n",
       "      <th></th>\n",
       "      <th></th>\n",
       "      <th></th>\n",
       "      <th></th>\n",
       "      <th></th>\n",
       "      <th></th>\n",
       "      <th></th>\n",
       "      <th></th>\n",
       "      <th></th>\n",
       "      <th></th>\n",
       "      <th></th>\n",
       "      <th></th>\n",
       "      <th></th>\n",
       "    </tr>\n",
       "  </thead>\n",
       "  <tbody>\n",
       "    <tr>\n",
       "      <th>1</th>\n",
       "      <td>3.198094</td>\n",
       "      <td>4.270520</td>\n",
       "      <td>3.701009</td>\n",
       "      <td>4.599037</td>\n",
       "      <td>4.448094</td>\n",
       "      <td>1.168205</td>\n",
       "      <td>4.066741</td>\n",
       "      <td>2.231180</td>\n",
       "      <td>3.728871</td>\n",
       "      <td>3.976023</td>\n",
       "      <td>...</td>\n",
       "      <td>1.255367</td>\n",
       "      <td>4.317720</td>\n",
       "      <td>4.014838</td>\n",
       "      <td>2.762811</td>\n",
       "      <td>2.682578</td>\n",
       "      <td>4.053580</td>\n",
       "      <td>2.857436</td>\n",
       "      <td>2.148007</td>\n",
       "      <td>3.998101</td>\n",
       "      <td>0.839473</td>\n",
       "    </tr>\n",
       "    <tr>\n",
       "      <th>2</th>\n",
       "      <td>2.987910</td>\n",
       "      <td>3.714054</td>\n",
       "      <td>3.135606</td>\n",
       "      <td>4.220052</td>\n",
       "      <td>4.103663</td>\n",
       "      <td>1.183167</td>\n",
       "      <td>3.488470</td>\n",
       "      <td>2.185392</td>\n",
       "      <td>2.472071</td>\n",
       "      <td>3.523472</td>\n",
       "      <td>...</td>\n",
       "      <td>1.082495</td>\n",
       "      <td>3.991854</td>\n",
       "      <td>3.091928</td>\n",
       "      <td>2.581265</td>\n",
       "      <td>2.434808</td>\n",
       "      <td>3.831928</td>\n",
       "      <td>2.469249</td>\n",
       "      <td>1.703216</td>\n",
       "      <td>4.339736</td>\n",
       "      <td>0.796198</td>\n",
       "    </tr>\n",
       "    <tr>\n",
       "      <th>3</th>\n",
       "      <td>2.179090</td>\n",
       "      <td>1.845131</td>\n",
       "      <td>1.586443</td>\n",
       "      <td>2.010820</td>\n",
       "      <td>1.799193</td>\n",
       "      <td>0.566939</td>\n",
       "      <td>0.830027</td>\n",
       "      <td>1.358729</td>\n",
       "      <td>0.480380</td>\n",
       "      <td>1.988084</td>\n",
       "      <td>...</td>\n",
       "      <td>0.719984</td>\n",
       "      <td>3.027712</td>\n",
       "      <td>1.870793</td>\n",
       "      <td>2.151041</td>\n",
       "      <td>1.456367</td>\n",
       "      <td>2.476212</td>\n",
       "      <td>0.465158</td>\n",
       "      <td>0.899399</td>\n",
       "      <td>2.705391</td>\n",
       "      <td>0.460979</td>\n",
       "    </tr>\n",
       "  </tbody>\n",
       "</table>\n",
       "<p>3 rows × 9719 columns</p>\n",
       "</div>"
      ],
      "text/plain": [
       "title   '71 (2014)  'Hellboy': The Seeds of Creation (2004)  \\\n",
       "userId                                                        \n",
       "1         3.198094                                 4.270520   \n",
       "2         2.987910                                 3.714054   \n",
       "3         2.179090                                 1.845131   \n",
       "\n",
       "title   'Round Midnight (1986)  'Salem's Lot (2004)  \\\n",
       "userId                                                \n",
       "1                     3.701009             4.599037   \n",
       "2                     3.135606             4.220052   \n",
       "3                     1.586443             2.010820   \n",
       "\n",
       "title   'Til There Was You (1997)  'Tis the Season for Love (2015)  \\\n",
       "userId                                                               \n",
       "1                        4.448094                         1.168205   \n",
       "2                        4.103663                         1.183167   \n",
       "3                        1.799193                         0.566939   \n",
       "\n",
       "title   'burbs, The (1989)  'night Mother (1986)  (500) Days of Summer (2009)  \\\n",
       "userId                                                                          \n",
       "1                 4.066741              2.231180                     3.728871   \n",
       "2                 3.488470              2.185392                     2.472071   \n",
       "3                 0.830027              1.358729                     0.480380   \n",
       "\n",
       "title   *batteries not included (1987)  ...  Zulu (2013)  [REC] (2007)  \\\n",
       "userId                                  ...                              \n",
       "1                             3.976023  ...     1.255367      4.317720   \n",
       "2                             3.523472  ...     1.082495      3.991854   \n",
       "3                             1.988084  ...     0.719984      3.027712   \n",
       "\n",
       "title   [REC]² (2009)  [REC]³ 3 Génesis (2012)  \\\n",
       "userId                                           \n",
       "1            4.014838                 2.762811   \n",
       "2            3.091928                 2.581265   \n",
       "3            1.870793                 2.151041   \n",
       "\n",
       "title   anohana: The Flower We Saw That Day - The Movie (2013)  \\\n",
       "userId                                                           \n",
       "1                                                2.682578        \n",
       "2                                                2.434808        \n",
       "3                                                1.456367        \n",
       "\n",
       "title   eXistenZ (1999)  xXx (2002)  xXx: State of the Union (2005)  \\\n",
       "userId                                                                \n",
       "1              4.053580    2.857436                        2.148007   \n",
       "2              3.831928    2.469249                        1.703216   \n",
       "3              2.476212    0.465158                        0.899399   \n",
       "\n",
       "title   ¡Three Amigos! (1986)  À nous la liberté (Freedom for Us) (1931)  \n",
       "userId                                                                    \n",
       "1                    3.998101                                   0.839473  \n",
       "2                    4.339736                                   0.796198  \n",
       "3                    2.705391                                   0.460979  \n",
       "\n",
       "[3 rows x 9719 columns]"
      ]
     },
     "execution_count": 19,
     "metadata": {},
     "output_type": "execute_result"
    }
   ],
   "source": [
    "ratings_pred_matrix = pd.DataFrame(data=pred_matrix, index=ratings_matrix.index, columns=ratings_matrix.columns)\n",
    "ratings_pred_matrix.head(3)"
   ]
  },
  {
   "cell_type": "markdown",
   "metadata": {},
   "source": [
    "이제 이렇게 만들어진 User-Item 평점 행렬 정보를 이용해서 개인화된 추천을 진행하보도록 하자.\n",
    "관람하지 않은 영화를 추출하는 get_unseen_movies()와 추천 함수 recomm_movie_by_userid()는 2. Item-Based Nearest Neighbor Collaborative Filtering Practice - MovieLens Dataset에서 사용한 함수를 그대로 사용하도록 하겠다."
   ]
  },
  {
   "cell_type": "code",
   "execution_count": 20,
   "metadata": {},
   "outputs": [],
   "source": [
    "def get_unseen_movies(ratings_matrix, userId):\n",
    "    # userId로 입력받은 사용자의 모든 영화 정보를 추출하여 Series 객체로 반환\n",
    "    # 반환된 user_rating은 영화명을 인덱스로 가지는 Series 객체\n",
    "    user_rating = ratings_matrix.loc[userId, :]\n",
    "    \n",
    "    # user_rating이 0보다 크면 기존에 관람한 영화\n",
    "    already_seen = user_rating[user_rating > 0].index.tolist()\n",
    "    \n",
    "    movies_list = ratings_matrix.columns.tolist()\n",
    "    \n",
    "    unseen_list = [movie for movie in movies_list if movie not in already_seen]\n",
    "    \n",
    "    return unseen_list\n",
    "\n",
    "def recomm_movie_by_userid(pred_df, userId, unseen_list, top_n = 10):\n",
    "    # 예측 평점 df에서 사용자 아이디 인덱스와 unseen_list로 들어온 영화명 칼럼을 추출해 높은 순으로 정렬\n",
    "    recomm_movies = pred_df.loc[userId, unseen_list].sort_values(ascending=False)[:top_n]\n",
    "    return recomm_movies"
   ]
  },
  {
   "cell_type": "code",
   "execution_count": 23,
   "metadata": {},
   "outputs": [],
   "source": [
    "# 사용자가 관람하지 않은 영화명 추출\n",
    "unseen_list = get_unseen_movies(ratings_matrix, 9)\n",
    "\n",
    "# 잠재 요인 협업 필터링 이용 영화 추천\n",
    "recomm_movies = recomm_movie_by_userid(ratings_pred_matrix, 9, unseen_list, top_n=10)\n",
    "\n",
    "# 평점 데이터를 DataFrame으로 생성\n",
    "recomm_movies_df = pd.DataFrame(data=recomm_movies, index=recomm_movies.index, columns=['pred_score'])"
   ]
  },
  {
   "cell_type": "code",
   "execution_count": 24,
   "metadata": {},
   "outputs": [
    {
     "data": {
      "text/plain": [
       "title\n",
       "Lord of the Rings: The Return of the King, The (2003)    5.360419\n",
       "Monty Python's Life of Brian (1979)                      5.269466\n",
       "Graduate, The (1967)                                     5.266218\n",
       "Shawshank Redemption, The (1994)                         5.249894\n",
       "Annie Hall (1977)                                        5.177673\n",
       "Monty Python and the Holy Grail (1975)                   5.164635\n",
       "Player, The (1992)                                       5.145355\n",
       "Chinatown (1974)                                         5.124131\n",
       "Spider-Man 2 (2004)                                      5.123359\n",
       "Shaun of the Dead (2004)                                 5.001922\n",
       "Name: 9, dtype: float64"
      ]
     },
     "execution_count": 24,
     "metadata": {},
     "output_type": "execute_result"
    }
   ],
   "source": [
    "recomm_movies"
   ]
  },
  {
   "cell_type": "markdown",
   "metadata": {},
   "source": [
    "## End"
   ]
  }
 ],
 "metadata": {
  "kernelspec": {
   "display_name": "Python 3 (ipykernel)",
   "language": "python",
   "name": "python3"
  },
  "language_info": {
   "codemirror_mode": {
    "name": "ipython",
    "version": 3
   },
   "file_extension": ".py",
   "mimetype": "text/x-python",
   "name": "python",
   "nbconvert_exporter": "python",
   "pygments_lexer": "ipython3",
   "version": "3.9.7"
  }
 },
 "nbformat": 4,
 "nbformat_minor": 4
}
