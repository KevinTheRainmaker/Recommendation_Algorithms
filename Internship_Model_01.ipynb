{
  "nbformat": 4,
  "nbformat_minor": 0,
  "metadata": {
    "colab": {
      "name": "Internship_Model_01.ipynb",
      "provenance": [],
      "collapsed_sections": [],
      "authorship_tag": "ABX9TyPOsQFBoJPNSauoqk712Dp6",
      "include_colab_link": true
    },
    "kernelspec": {
      "name": "python3",
      "display_name": "Python 3"
    },
    "language_info": {
      "name": "python"
    },
    "widgets": {
      "application/vnd.jupyter.widget-state+json": {
        "aa323597d174405d80cf41ac6f81d7c5": {
          "model_module": "@jupyter-widgets/controls",
          "model_name": "HBoxModel",
          "model_module_version": "1.5.0",
          "state": {
            "_view_name": "HBoxView",
            "_dom_classes": [],
            "_model_name": "HBoxModel",
            "_view_module": "@jupyter-widgets/controls",
            "_model_module_version": "1.5.0",
            "_view_count": null,
            "_view_module_version": "1.5.0",
            "box_style": "",
            "layout": "IPY_MODEL_a10bcfbe92534875bd06b6aa171f5027",
            "_model_module": "@jupyter-widgets/controls",
            "children": [
              "IPY_MODEL_1b62252b10ff46d191b31019b0a642fb",
              "IPY_MODEL_adb9dea0bcc64ad49f84027fb2c8061e",
              "IPY_MODEL_c09e06a4e95d41de99747e9876870558"
            ]
          }
        },
        "a10bcfbe92534875bd06b6aa171f5027": {
          "model_module": "@jupyter-widgets/base",
          "model_name": "LayoutModel",
          "model_module_version": "1.2.0",
          "state": {
            "_view_name": "LayoutView",
            "grid_template_rows": null,
            "right": null,
            "justify_content": null,
            "_view_module": "@jupyter-widgets/base",
            "overflow": null,
            "_model_module_version": "1.2.0",
            "_view_count": null,
            "flex_flow": null,
            "width": null,
            "min_width": null,
            "border": null,
            "align_items": null,
            "bottom": null,
            "_model_module": "@jupyter-widgets/base",
            "top": null,
            "grid_column": null,
            "overflow_y": null,
            "overflow_x": null,
            "grid_auto_flow": null,
            "grid_area": null,
            "grid_template_columns": null,
            "flex": null,
            "_model_name": "LayoutModel",
            "justify_items": null,
            "grid_row": null,
            "max_height": null,
            "align_content": null,
            "visibility": null,
            "align_self": null,
            "height": null,
            "min_height": null,
            "padding": null,
            "grid_auto_rows": null,
            "grid_gap": null,
            "max_width": null,
            "order": null,
            "_view_module_version": "1.2.0",
            "grid_template_areas": null,
            "object_position": null,
            "object_fit": null,
            "grid_auto_columns": null,
            "margin": null,
            "display": null,
            "left": null
          }
        },
        "1b62252b10ff46d191b31019b0a642fb": {
          "model_module": "@jupyter-widgets/controls",
          "model_name": "HTMLModel",
          "model_module_version": "1.5.0",
          "state": {
            "_view_name": "HTMLView",
            "style": "IPY_MODEL_1f556db1c64c4a868183fd8ede850eda",
            "_dom_classes": [],
            "description": "",
            "_model_name": "HTMLModel",
            "placeholder": "​",
            "_view_module": "@jupyter-widgets/controls",
            "_model_module_version": "1.5.0",
            "value": "100%",
            "_view_count": null,
            "_view_module_version": "1.5.0",
            "description_tooltip": null,
            "_model_module": "@jupyter-widgets/controls",
            "layout": "IPY_MODEL_5ecb69e170ad4946a2c00a7937556562"
          }
        },
        "adb9dea0bcc64ad49f84027fb2c8061e": {
          "model_module": "@jupyter-widgets/controls",
          "model_name": "FloatProgressModel",
          "model_module_version": "1.5.0",
          "state": {
            "_view_name": "ProgressView",
            "style": "IPY_MODEL_5204572a1ab84544bfc74d3fe0c88a76",
            "_dom_classes": [],
            "description": "",
            "_model_name": "FloatProgressModel",
            "bar_style": "success",
            "max": 100,
            "_view_module": "@jupyter-widgets/controls",
            "_model_module_version": "1.5.0",
            "value": 100,
            "_view_count": null,
            "_view_module_version": "1.5.0",
            "orientation": "horizontal",
            "min": 0,
            "description_tooltip": null,
            "_model_module": "@jupyter-widgets/controls",
            "layout": "IPY_MODEL_6d24e69d68a74420be5c7c3931faa03b"
          }
        },
        "c09e06a4e95d41de99747e9876870558": {
          "model_module": "@jupyter-widgets/controls",
          "model_name": "HTMLModel",
          "model_module_version": "1.5.0",
          "state": {
            "_view_name": "HTMLView",
            "style": "IPY_MODEL_b84f0f1a3c6e4d1faaf6e1d8cecc1060",
            "_dom_classes": [],
            "description": "",
            "_model_name": "HTMLModel",
            "placeholder": "​",
            "_view_module": "@jupyter-widgets/controls",
            "_model_module_version": "1.5.0",
            "value": " 100/100 [00:00&lt;00:00, 1433.81it/s]",
            "_view_count": null,
            "_view_module_version": "1.5.0",
            "description_tooltip": null,
            "_model_module": "@jupyter-widgets/controls",
            "layout": "IPY_MODEL_b0abb8fd1a2c447c9b20dacd2ff15aad"
          }
        },
        "1f556db1c64c4a868183fd8ede850eda": {
          "model_module": "@jupyter-widgets/controls",
          "model_name": "DescriptionStyleModel",
          "model_module_version": "1.5.0",
          "state": {
            "_view_name": "StyleView",
            "_model_name": "DescriptionStyleModel",
            "description_width": "",
            "_view_module": "@jupyter-widgets/base",
            "_model_module_version": "1.5.0",
            "_view_count": null,
            "_view_module_version": "1.2.0",
            "_model_module": "@jupyter-widgets/controls"
          }
        },
        "5ecb69e170ad4946a2c00a7937556562": {
          "model_module": "@jupyter-widgets/base",
          "model_name": "LayoutModel",
          "model_module_version": "1.2.0",
          "state": {
            "_view_name": "LayoutView",
            "grid_template_rows": null,
            "right": null,
            "justify_content": null,
            "_view_module": "@jupyter-widgets/base",
            "overflow": null,
            "_model_module_version": "1.2.0",
            "_view_count": null,
            "flex_flow": null,
            "width": null,
            "min_width": null,
            "border": null,
            "align_items": null,
            "bottom": null,
            "_model_module": "@jupyter-widgets/base",
            "top": null,
            "grid_column": null,
            "overflow_y": null,
            "overflow_x": null,
            "grid_auto_flow": null,
            "grid_area": null,
            "grid_template_columns": null,
            "flex": null,
            "_model_name": "LayoutModel",
            "justify_items": null,
            "grid_row": null,
            "max_height": null,
            "align_content": null,
            "visibility": null,
            "align_self": null,
            "height": null,
            "min_height": null,
            "padding": null,
            "grid_auto_rows": null,
            "grid_gap": null,
            "max_width": null,
            "order": null,
            "_view_module_version": "1.2.0",
            "grid_template_areas": null,
            "object_position": null,
            "object_fit": null,
            "grid_auto_columns": null,
            "margin": null,
            "display": null,
            "left": null
          }
        },
        "5204572a1ab84544bfc74d3fe0c88a76": {
          "model_module": "@jupyter-widgets/controls",
          "model_name": "ProgressStyleModel",
          "model_module_version": "1.5.0",
          "state": {
            "_view_name": "StyleView",
            "_model_name": "ProgressStyleModel",
            "description_width": "",
            "_view_module": "@jupyter-widgets/base",
            "_model_module_version": "1.5.0",
            "_view_count": null,
            "_view_module_version": "1.2.0",
            "bar_color": null,
            "_model_module": "@jupyter-widgets/controls"
          }
        },
        "6d24e69d68a74420be5c7c3931faa03b": {
          "model_module": "@jupyter-widgets/base",
          "model_name": "LayoutModel",
          "model_module_version": "1.2.0",
          "state": {
            "_view_name": "LayoutView",
            "grid_template_rows": null,
            "right": null,
            "justify_content": null,
            "_view_module": "@jupyter-widgets/base",
            "overflow": null,
            "_model_module_version": "1.2.0",
            "_view_count": null,
            "flex_flow": null,
            "width": null,
            "min_width": null,
            "border": null,
            "align_items": null,
            "bottom": null,
            "_model_module": "@jupyter-widgets/base",
            "top": null,
            "grid_column": null,
            "overflow_y": null,
            "overflow_x": null,
            "grid_auto_flow": null,
            "grid_area": null,
            "grid_template_columns": null,
            "flex": null,
            "_model_name": "LayoutModel",
            "justify_items": null,
            "grid_row": null,
            "max_height": null,
            "align_content": null,
            "visibility": null,
            "align_self": null,
            "height": null,
            "min_height": null,
            "padding": null,
            "grid_auto_rows": null,
            "grid_gap": null,
            "max_width": null,
            "order": null,
            "_view_module_version": "1.2.0",
            "grid_template_areas": null,
            "object_position": null,
            "object_fit": null,
            "grid_auto_columns": null,
            "margin": null,
            "display": null,
            "left": null
          }
        },
        "b84f0f1a3c6e4d1faaf6e1d8cecc1060": {
          "model_module": "@jupyter-widgets/controls",
          "model_name": "DescriptionStyleModel",
          "model_module_version": "1.5.0",
          "state": {
            "_view_name": "StyleView",
            "_model_name": "DescriptionStyleModel",
            "description_width": "",
            "_view_module": "@jupyter-widgets/base",
            "_model_module_version": "1.5.0",
            "_view_count": null,
            "_view_module_version": "1.2.0",
            "_model_module": "@jupyter-widgets/controls"
          }
        },
        "b0abb8fd1a2c447c9b20dacd2ff15aad": {
          "model_module": "@jupyter-widgets/base",
          "model_name": "LayoutModel",
          "model_module_version": "1.2.0",
          "state": {
            "_view_name": "LayoutView",
            "grid_template_rows": null,
            "right": null,
            "justify_content": null,
            "_view_module": "@jupyter-widgets/base",
            "overflow": null,
            "_model_module_version": "1.2.0",
            "_view_count": null,
            "flex_flow": null,
            "width": null,
            "min_width": null,
            "border": null,
            "align_items": null,
            "bottom": null,
            "_model_module": "@jupyter-widgets/base",
            "top": null,
            "grid_column": null,
            "overflow_y": null,
            "overflow_x": null,
            "grid_auto_flow": null,
            "grid_area": null,
            "grid_template_columns": null,
            "flex": null,
            "_model_name": "LayoutModel",
            "justify_items": null,
            "grid_row": null,
            "max_height": null,
            "align_content": null,
            "visibility": null,
            "align_self": null,
            "height": null,
            "min_height": null,
            "padding": null,
            "grid_auto_rows": null,
            "grid_gap": null,
            "max_width": null,
            "order": null,
            "_view_module_version": "1.2.0",
            "grid_template_areas": null,
            "object_position": null,
            "object_fit": null,
            "grid_auto_columns": null,
            "margin": null,
            "display": null,
            "left": null
          }
        },
        "8c015fed56a84ea193e217983cbcbd0d": {
          "model_module": "@jupyter-widgets/controls",
          "model_name": "HBoxModel",
          "model_module_version": "1.5.0",
          "state": {
            "_view_name": "HBoxView",
            "_dom_classes": [],
            "_model_name": "HBoxModel",
            "_view_module": "@jupyter-widgets/controls",
            "_model_module_version": "1.5.0",
            "_view_count": null,
            "_view_module_version": "1.5.0",
            "box_style": "",
            "layout": "IPY_MODEL_c1f545aa3a164e8696a01cfaee11e343",
            "_model_module": "@jupyter-widgets/controls",
            "children": [
              "IPY_MODEL_8c2882a2e0e845d695cc919e168eb255",
              "IPY_MODEL_a8f30f35c8b848a99ffaf74c55ca22c3",
              "IPY_MODEL_9e258c81b7234a3a98a33acdcc6e811d"
            ]
          }
        },
        "c1f545aa3a164e8696a01cfaee11e343": {
          "model_module": "@jupyter-widgets/base",
          "model_name": "LayoutModel",
          "model_module_version": "1.2.0",
          "state": {
            "_view_name": "LayoutView",
            "grid_template_rows": null,
            "right": null,
            "justify_content": null,
            "_view_module": "@jupyter-widgets/base",
            "overflow": null,
            "_model_module_version": "1.2.0",
            "_view_count": null,
            "flex_flow": null,
            "width": null,
            "min_width": null,
            "border": null,
            "align_items": null,
            "bottom": null,
            "_model_module": "@jupyter-widgets/base",
            "top": null,
            "grid_column": null,
            "overflow_y": null,
            "overflow_x": null,
            "grid_auto_flow": null,
            "grid_area": null,
            "grid_template_columns": null,
            "flex": null,
            "_model_name": "LayoutModel",
            "justify_items": null,
            "grid_row": null,
            "max_height": null,
            "align_content": null,
            "visibility": null,
            "align_self": null,
            "height": null,
            "min_height": null,
            "padding": null,
            "grid_auto_rows": null,
            "grid_gap": null,
            "max_width": null,
            "order": null,
            "_view_module_version": "1.2.0",
            "grid_template_areas": null,
            "object_position": null,
            "object_fit": null,
            "grid_auto_columns": null,
            "margin": null,
            "display": null,
            "left": null
          }
        },
        "8c2882a2e0e845d695cc919e168eb255": {
          "model_module": "@jupyter-widgets/controls",
          "model_name": "HTMLModel",
          "model_module_version": "1.5.0",
          "state": {
            "_view_name": "HTMLView",
            "style": "IPY_MODEL_55feb5f72849496e93fb41e6add5e2dc",
            "_dom_classes": [],
            "description": "",
            "_model_name": "HTMLModel",
            "placeholder": "​",
            "_view_module": "@jupyter-widgets/controls",
            "_model_module_version": "1.5.0",
            "value": "100%",
            "_view_count": null,
            "_view_module_version": "1.5.0",
            "description_tooltip": null,
            "_model_module": "@jupyter-widgets/controls",
            "layout": "IPY_MODEL_91590004314649d891662dedc517b690"
          }
        },
        "a8f30f35c8b848a99ffaf74c55ca22c3": {
          "model_module": "@jupyter-widgets/controls",
          "model_name": "FloatProgressModel",
          "model_module_version": "1.5.0",
          "state": {
            "_view_name": "ProgressView",
            "style": "IPY_MODEL_5066ef52d3634baaaae5afe3c18686b0",
            "_dom_classes": [],
            "description": "",
            "_model_name": "FloatProgressModel",
            "bar_style": "success",
            "max": 100,
            "_view_module": "@jupyter-widgets/controls",
            "_model_module_version": "1.5.0",
            "value": 100,
            "_view_count": null,
            "_view_module_version": "1.5.0",
            "orientation": "horizontal",
            "min": 0,
            "description_tooltip": null,
            "_model_module": "@jupyter-widgets/controls",
            "layout": "IPY_MODEL_615e5d66b224417ea8d2c5de42e61ea5"
          }
        },
        "9e258c81b7234a3a98a33acdcc6e811d": {
          "model_module": "@jupyter-widgets/controls",
          "model_name": "HTMLModel",
          "model_module_version": "1.5.0",
          "state": {
            "_view_name": "HTMLView",
            "style": "IPY_MODEL_83743a4a34b14dfc9924c90ab2dd0984",
            "_dom_classes": [],
            "description": "",
            "_model_name": "HTMLModel",
            "placeholder": "​",
            "_view_module": "@jupyter-widgets/controls",
            "_model_module_version": "1.5.0",
            "value": " 100/100 [00:00&lt;00:00, 1441.42it/s]",
            "_view_count": null,
            "_view_module_version": "1.5.0",
            "description_tooltip": null,
            "_model_module": "@jupyter-widgets/controls",
            "layout": "IPY_MODEL_7483314e0da34fedbb50973fa815f732"
          }
        },
        "55feb5f72849496e93fb41e6add5e2dc": {
          "model_module": "@jupyter-widgets/controls",
          "model_name": "DescriptionStyleModel",
          "model_module_version": "1.5.0",
          "state": {
            "_view_name": "StyleView",
            "_model_name": "DescriptionStyleModel",
            "description_width": "",
            "_view_module": "@jupyter-widgets/base",
            "_model_module_version": "1.5.0",
            "_view_count": null,
            "_view_module_version": "1.2.0",
            "_model_module": "@jupyter-widgets/controls"
          }
        },
        "91590004314649d891662dedc517b690": {
          "model_module": "@jupyter-widgets/base",
          "model_name": "LayoutModel",
          "model_module_version": "1.2.0",
          "state": {
            "_view_name": "LayoutView",
            "grid_template_rows": null,
            "right": null,
            "justify_content": null,
            "_view_module": "@jupyter-widgets/base",
            "overflow": null,
            "_model_module_version": "1.2.0",
            "_view_count": null,
            "flex_flow": null,
            "width": null,
            "min_width": null,
            "border": null,
            "align_items": null,
            "bottom": null,
            "_model_module": "@jupyter-widgets/base",
            "top": null,
            "grid_column": null,
            "overflow_y": null,
            "overflow_x": null,
            "grid_auto_flow": null,
            "grid_area": null,
            "grid_template_columns": null,
            "flex": null,
            "_model_name": "LayoutModel",
            "justify_items": null,
            "grid_row": null,
            "max_height": null,
            "align_content": null,
            "visibility": null,
            "align_self": null,
            "height": null,
            "min_height": null,
            "padding": null,
            "grid_auto_rows": null,
            "grid_gap": null,
            "max_width": null,
            "order": null,
            "_view_module_version": "1.2.0",
            "grid_template_areas": null,
            "object_position": null,
            "object_fit": null,
            "grid_auto_columns": null,
            "margin": null,
            "display": null,
            "left": null
          }
        },
        "5066ef52d3634baaaae5afe3c18686b0": {
          "model_module": "@jupyter-widgets/controls",
          "model_name": "ProgressStyleModel",
          "model_module_version": "1.5.0",
          "state": {
            "_view_name": "StyleView",
            "_model_name": "ProgressStyleModel",
            "description_width": "",
            "_view_module": "@jupyter-widgets/base",
            "_model_module_version": "1.5.0",
            "_view_count": null,
            "_view_module_version": "1.2.0",
            "bar_color": null,
            "_model_module": "@jupyter-widgets/controls"
          }
        },
        "615e5d66b224417ea8d2c5de42e61ea5": {
          "model_module": "@jupyter-widgets/base",
          "model_name": "LayoutModel",
          "model_module_version": "1.2.0",
          "state": {
            "_view_name": "LayoutView",
            "grid_template_rows": null,
            "right": null,
            "justify_content": null,
            "_view_module": "@jupyter-widgets/base",
            "overflow": null,
            "_model_module_version": "1.2.0",
            "_view_count": null,
            "flex_flow": null,
            "width": null,
            "min_width": null,
            "border": null,
            "align_items": null,
            "bottom": null,
            "_model_module": "@jupyter-widgets/base",
            "top": null,
            "grid_column": null,
            "overflow_y": null,
            "overflow_x": null,
            "grid_auto_flow": null,
            "grid_area": null,
            "grid_template_columns": null,
            "flex": null,
            "_model_name": "LayoutModel",
            "justify_items": null,
            "grid_row": null,
            "max_height": null,
            "align_content": null,
            "visibility": null,
            "align_self": null,
            "height": null,
            "min_height": null,
            "padding": null,
            "grid_auto_rows": null,
            "grid_gap": null,
            "max_width": null,
            "order": null,
            "_view_module_version": "1.2.0",
            "grid_template_areas": null,
            "object_position": null,
            "object_fit": null,
            "grid_auto_columns": null,
            "margin": null,
            "display": null,
            "left": null
          }
        },
        "83743a4a34b14dfc9924c90ab2dd0984": {
          "model_module": "@jupyter-widgets/controls",
          "model_name": "DescriptionStyleModel",
          "model_module_version": "1.5.0",
          "state": {
            "_view_name": "StyleView",
            "_model_name": "DescriptionStyleModel",
            "description_width": "",
            "_view_module": "@jupyter-widgets/base",
            "_model_module_version": "1.5.0",
            "_view_count": null,
            "_view_module_version": "1.2.0",
            "_model_module": "@jupyter-widgets/controls"
          }
        },
        "7483314e0da34fedbb50973fa815f732": {
          "model_module": "@jupyter-widgets/base",
          "model_name": "LayoutModel",
          "model_module_version": "1.2.0",
          "state": {
            "_view_name": "LayoutView",
            "grid_template_rows": null,
            "right": null,
            "justify_content": null,
            "_view_module": "@jupyter-widgets/base",
            "overflow": null,
            "_model_module_version": "1.2.0",
            "_view_count": null,
            "flex_flow": null,
            "width": null,
            "min_width": null,
            "border": null,
            "align_items": null,
            "bottom": null,
            "_model_module": "@jupyter-widgets/base",
            "top": null,
            "grid_column": null,
            "overflow_y": null,
            "overflow_x": null,
            "grid_auto_flow": null,
            "grid_area": null,
            "grid_template_columns": null,
            "flex": null,
            "_model_name": "LayoutModel",
            "justify_items": null,
            "grid_row": null,
            "max_height": null,
            "align_content": null,
            "visibility": null,
            "align_self": null,
            "height": null,
            "min_height": null,
            "padding": null,
            "grid_auto_rows": null,
            "grid_gap": null,
            "max_width": null,
            "order": null,
            "_view_module_version": "1.2.0",
            "grid_template_areas": null,
            "object_position": null,
            "object_fit": null,
            "grid_auto_columns": null,
            "margin": null,
            "display": null,
            "left": null
          }
        },
        "03e582353e2245c3ae825465f1b61233": {
          "model_module": "@jupyter-widgets/controls",
          "model_name": "HBoxModel",
          "model_module_version": "1.5.0",
          "state": {
            "_view_name": "HBoxView",
            "_dom_classes": [],
            "_model_name": "HBoxModel",
            "_view_module": "@jupyter-widgets/controls",
            "_model_module_version": "1.5.0",
            "_view_count": null,
            "_view_module_version": "1.5.0",
            "box_style": "",
            "layout": "IPY_MODEL_435173fe5d3a46c1ba374af4b28e4577",
            "_model_module": "@jupyter-widgets/controls",
            "children": [
              "IPY_MODEL_45d68036a8f8483d8ce4be03ecc42867",
              "IPY_MODEL_bde4fbb660ea4b65899ecbb4e41fa331",
              "IPY_MODEL_faabc93ff56a4c9bbe8e5567c56ce6c6"
            ]
          }
        },
        "435173fe5d3a46c1ba374af4b28e4577": {
          "model_module": "@jupyter-widgets/base",
          "model_name": "LayoutModel",
          "model_module_version": "1.2.0",
          "state": {
            "_view_name": "LayoutView",
            "grid_template_rows": null,
            "right": null,
            "justify_content": null,
            "_view_module": "@jupyter-widgets/base",
            "overflow": null,
            "_model_module_version": "1.2.0",
            "_view_count": null,
            "flex_flow": null,
            "width": null,
            "min_width": null,
            "border": null,
            "align_items": null,
            "bottom": null,
            "_model_module": "@jupyter-widgets/base",
            "top": null,
            "grid_column": null,
            "overflow_y": null,
            "overflow_x": null,
            "grid_auto_flow": null,
            "grid_area": null,
            "grid_template_columns": null,
            "flex": null,
            "_model_name": "LayoutModel",
            "justify_items": null,
            "grid_row": null,
            "max_height": null,
            "align_content": null,
            "visibility": null,
            "align_self": null,
            "height": null,
            "min_height": null,
            "padding": null,
            "grid_auto_rows": null,
            "grid_gap": null,
            "max_width": null,
            "order": null,
            "_view_module_version": "1.2.0",
            "grid_template_areas": null,
            "object_position": null,
            "object_fit": null,
            "grid_auto_columns": null,
            "margin": null,
            "display": null,
            "left": null
          }
        },
        "45d68036a8f8483d8ce4be03ecc42867": {
          "model_module": "@jupyter-widgets/controls",
          "model_name": "HTMLModel",
          "model_module_version": "1.5.0",
          "state": {
            "_view_name": "HTMLView",
            "style": "IPY_MODEL_d546a52394d14b859ba1d25c9623ac7a",
            "_dom_classes": [],
            "description": "",
            "_model_name": "HTMLModel",
            "placeholder": "​",
            "_view_module": "@jupyter-widgets/controls",
            "_model_module_version": "1.5.0",
            "value": "100%",
            "_view_count": null,
            "_view_module_version": "1.5.0",
            "description_tooltip": null,
            "_model_module": "@jupyter-widgets/controls",
            "layout": "IPY_MODEL_3c49e4e4a3e844e7a498ee6ded3f437d"
          }
        },
        "bde4fbb660ea4b65899ecbb4e41fa331": {
          "model_module": "@jupyter-widgets/controls",
          "model_name": "FloatProgressModel",
          "model_module_version": "1.5.0",
          "state": {
            "_view_name": "ProgressView",
            "style": "IPY_MODEL_38e2d26537e248afaf87973bb4fbbc69",
            "_dom_classes": [],
            "description": "",
            "_model_name": "FloatProgressModel",
            "bar_style": "success",
            "max": 100,
            "_view_module": "@jupyter-widgets/controls",
            "_model_module_version": "1.5.0",
            "value": 100,
            "_view_count": null,
            "_view_module_version": "1.5.0",
            "orientation": "horizontal",
            "min": 0,
            "description_tooltip": null,
            "_model_module": "@jupyter-widgets/controls",
            "layout": "IPY_MODEL_9e4f8409304c437d822d242ae0817f0b"
          }
        },
        "faabc93ff56a4c9bbe8e5567c56ce6c6": {
          "model_module": "@jupyter-widgets/controls",
          "model_name": "HTMLModel",
          "model_module_version": "1.5.0",
          "state": {
            "_view_name": "HTMLView",
            "style": "IPY_MODEL_41268829f5fb4ddca3dbf4f6628bfd49",
            "_dom_classes": [],
            "description": "",
            "_model_name": "HTMLModel",
            "placeholder": "​",
            "_view_module": "@jupyter-widgets/controls",
            "_model_module_version": "1.5.0",
            "value": " 100/100 [00:00&lt;00:00, 1484.74it/s]",
            "_view_count": null,
            "_view_module_version": "1.5.0",
            "description_tooltip": null,
            "_model_module": "@jupyter-widgets/controls",
            "layout": "IPY_MODEL_7404519852874133831c536988331dcf"
          }
        },
        "d546a52394d14b859ba1d25c9623ac7a": {
          "model_module": "@jupyter-widgets/controls",
          "model_name": "DescriptionStyleModel",
          "model_module_version": "1.5.0",
          "state": {
            "_view_name": "StyleView",
            "_model_name": "DescriptionStyleModel",
            "description_width": "",
            "_view_module": "@jupyter-widgets/base",
            "_model_module_version": "1.5.0",
            "_view_count": null,
            "_view_module_version": "1.2.0",
            "_model_module": "@jupyter-widgets/controls"
          }
        },
        "3c49e4e4a3e844e7a498ee6ded3f437d": {
          "model_module": "@jupyter-widgets/base",
          "model_name": "LayoutModel",
          "model_module_version": "1.2.0",
          "state": {
            "_view_name": "LayoutView",
            "grid_template_rows": null,
            "right": null,
            "justify_content": null,
            "_view_module": "@jupyter-widgets/base",
            "overflow": null,
            "_model_module_version": "1.2.0",
            "_view_count": null,
            "flex_flow": null,
            "width": null,
            "min_width": null,
            "border": null,
            "align_items": null,
            "bottom": null,
            "_model_module": "@jupyter-widgets/base",
            "top": null,
            "grid_column": null,
            "overflow_y": null,
            "overflow_x": null,
            "grid_auto_flow": null,
            "grid_area": null,
            "grid_template_columns": null,
            "flex": null,
            "_model_name": "LayoutModel",
            "justify_items": null,
            "grid_row": null,
            "max_height": null,
            "align_content": null,
            "visibility": null,
            "align_self": null,
            "height": null,
            "min_height": null,
            "padding": null,
            "grid_auto_rows": null,
            "grid_gap": null,
            "max_width": null,
            "order": null,
            "_view_module_version": "1.2.0",
            "grid_template_areas": null,
            "object_position": null,
            "object_fit": null,
            "grid_auto_columns": null,
            "margin": null,
            "display": null,
            "left": null
          }
        },
        "38e2d26537e248afaf87973bb4fbbc69": {
          "model_module": "@jupyter-widgets/controls",
          "model_name": "ProgressStyleModel",
          "model_module_version": "1.5.0",
          "state": {
            "_view_name": "StyleView",
            "_model_name": "ProgressStyleModel",
            "description_width": "",
            "_view_module": "@jupyter-widgets/base",
            "_model_module_version": "1.5.0",
            "_view_count": null,
            "_view_module_version": "1.2.0",
            "bar_color": null,
            "_model_module": "@jupyter-widgets/controls"
          }
        },
        "9e4f8409304c437d822d242ae0817f0b": {
          "model_module": "@jupyter-widgets/base",
          "model_name": "LayoutModel",
          "model_module_version": "1.2.0",
          "state": {
            "_view_name": "LayoutView",
            "grid_template_rows": null,
            "right": null,
            "justify_content": null,
            "_view_module": "@jupyter-widgets/base",
            "overflow": null,
            "_model_module_version": "1.2.0",
            "_view_count": null,
            "flex_flow": null,
            "width": null,
            "min_width": null,
            "border": null,
            "align_items": null,
            "bottom": null,
            "_model_module": "@jupyter-widgets/base",
            "top": null,
            "grid_column": null,
            "overflow_y": null,
            "overflow_x": null,
            "grid_auto_flow": null,
            "grid_area": null,
            "grid_template_columns": null,
            "flex": null,
            "_model_name": "LayoutModel",
            "justify_items": null,
            "grid_row": null,
            "max_height": null,
            "align_content": null,
            "visibility": null,
            "align_self": null,
            "height": null,
            "min_height": null,
            "padding": null,
            "grid_auto_rows": null,
            "grid_gap": null,
            "max_width": null,
            "order": null,
            "_view_module_version": "1.2.0",
            "grid_template_areas": null,
            "object_position": null,
            "object_fit": null,
            "grid_auto_columns": null,
            "margin": null,
            "display": null,
            "left": null
          }
        },
        "41268829f5fb4ddca3dbf4f6628bfd49": {
          "model_module": "@jupyter-widgets/controls",
          "model_name": "DescriptionStyleModel",
          "model_module_version": "1.5.0",
          "state": {
            "_view_name": "StyleView",
            "_model_name": "DescriptionStyleModel",
            "description_width": "",
            "_view_module": "@jupyter-widgets/base",
            "_model_module_version": "1.5.0",
            "_view_count": null,
            "_view_module_version": "1.2.0",
            "_model_module": "@jupyter-widgets/controls"
          }
        },
        "7404519852874133831c536988331dcf": {
          "model_module": "@jupyter-widgets/base",
          "model_name": "LayoutModel",
          "model_module_version": "1.2.0",
          "state": {
            "_view_name": "LayoutView",
            "grid_template_rows": null,
            "right": null,
            "justify_content": null,
            "_view_module": "@jupyter-widgets/base",
            "overflow": null,
            "_model_module_version": "1.2.0",
            "_view_count": null,
            "flex_flow": null,
            "width": null,
            "min_width": null,
            "border": null,
            "align_items": null,
            "bottom": null,
            "_model_module": "@jupyter-widgets/base",
            "top": null,
            "grid_column": null,
            "overflow_y": null,
            "overflow_x": null,
            "grid_auto_flow": null,
            "grid_area": null,
            "grid_template_columns": null,
            "flex": null,
            "_model_name": "LayoutModel",
            "justify_items": null,
            "grid_row": null,
            "max_height": null,
            "align_content": null,
            "visibility": null,
            "align_self": null,
            "height": null,
            "min_height": null,
            "padding": null,
            "grid_auto_rows": null,
            "grid_gap": null,
            "max_width": null,
            "order": null,
            "_view_module_version": "1.2.0",
            "grid_template_areas": null,
            "object_position": null,
            "object_fit": null,
            "grid_auto_columns": null,
            "margin": null,
            "display": null,
            "left": null
          }
        },
        "c036ba508ef94a359d7eb9b723599ff3": {
          "model_module": "@jupyter-widgets/controls",
          "model_name": "HBoxModel",
          "model_module_version": "1.5.0",
          "state": {
            "_view_name": "HBoxView",
            "_dom_classes": [],
            "_model_name": "HBoxModel",
            "_view_module": "@jupyter-widgets/controls",
            "_model_module_version": "1.5.0",
            "_view_count": null,
            "_view_module_version": "1.5.0",
            "box_style": "",
            "layout": "IPY_MODEL_8d5c206bd9414182a1641c6194288cbe",
            "_model_module": "@jupyter-widgets/controls",
            "children": [
              "IPY_MODEL_40266e93ddae4c6893f35f668093aaed",
              "IPY_MODEL_8027d9a30bd34057992350aca36ba851",
              "IPY_MODEL_262c04af2780499c8b31b0ae6e8a8d0b"
            ]
          }
        },
        "8d5c206bd9414182a1641c6194288cbe": {
          "model_module": "@jupyter-widgets/base",
          "model_name": "LayoutModel",
          "model_module_version": "1.2.0",
          "state": {
            "_view_name": "LayoutView",
            "grid_template_rows": null,
            "right": null,
            "justify_content": null,
            "_view_module": "@jupyter-widgets/base",
            "overflow": null,
            "_model_module_version": "1.2.0",
            "_view_count": null,
            "flex_flow": null,
            "width": null,
            "min_width": null,
            "border": null,
            "align_items": null,
            "bottom": null,
            "_model_module": "@jupyter-widgets/base",
            "top": null,
            "grid_column": null,
            "overflow_y": null,
            "overflow_x": null,
            "grid_auto_flow": null,
            "grid_area": null,
            "grid_template_columns": null,
            "flex": null,
            "_model_name": "LayoutModel",
            "justify_items": null,
            "grid_row": null,
            "max_height": null,
            "align_content": null,
            "visibility": null,
            "align_self": null,
            "height": null,
            "min_height": null,
            "padding": null,
            "grid_auto_rows": null,
            "grid_gap": null,
            "max_width": null,
            "order": null,
            "_view_module_version": "1.2.0",
            "grid_template_areas": null,
            "object_position": null,
            "object_fit": null,
            "grid_auto_columns": null,
            "margin": null,
            "display": null,
            "left": null
          }
        },
        "40266e93ddae4c6893f35f668093aaed": {
          "model_module": "@jupyter-widgets/controls",
          "model_name": "HTMLModel",
          "model_module_version": "1.5.0",
          "state": {
            "_view_name": "HTMLView",
            "style": "IPY_MODEL_ddb028fa40a34c42901164e02085815f",
            "_dom_classes": [],
            "description": "",
            "_model_name": "HTMLModel",
            "placeholder": "​",
            "_view_module": "@jupyter-widgets/controls",
            "_model_module_version": "1.5.0",
            "value": "100%",
            "_view_count": null,
            "_view_module_version": "1.5.0",
            "description_tooltip": null,
            "_model_module": "@jupyter-widgets/controls",
            "layout": "IPY_MODEL_f310b9ac7b4345f0a924ced227fcee00"
          }
        },
        "8027d9a30bd34057992350aca36ba851": {
          "model_module": "@jupyter-widgets/controls",
          "model_name": "FloatProgressModel",
          "model_module_version": "1.5.0",
          "state": {
            "_view_name": "ProgressView",
            "style": "IPY_MODEL_5492d9b4def04e7fbf030c24be47e16b",
            "_dom_classes": [],
            "description": "",
            "_model_name": "FloatProgressModel",
            "bar_style": "success",
            "max": 100,
            "_view_module": "@jupyter-widgets/controls",
            "_model_module_version": "1.5.0",
            "value": 100,
            "_view_count": null,
            "_view_module_version": "1.5.0",
            "orientation": "horizontal",
            "min": 0,
            "description_tooltip": null,
            "_model_module": "@jupyter-widgets/controls",
            "layout": "IPY_MODEL_95a72d8904704f1bbcccc41e6d8cf19f"
          }
        },
        "262c04af2780499c8b31b0ae6e8a8d0b": {
          "model_module": "@jupyter-widgets/controls",
          "model_name": "HTMLModel",
          "model_module_version": "1.5.0",
          "state": {
            "_view_name": "HTMLView",
            "style": "IPY_MODEL_25a684cbde464edf83de8861bc2d7339",
            "_dom_classes": [],
            "description": "",
            "_model_name": "HTMLModel",
            "placeholder": "​",
            "_view_module": "@jupyter-widgets/controls",
            "_model_module_version": "1.5.0",
            "value": " 100/100 [00:00&lt;00:00, 1278.29it/s]",
            "_view_count": null,
            "_view_module_version": "1.5.0",
            "description_tooltip": null,
            "_model_module": "@jupyter-widgets/controls",
            "layout": "IPY_MODEL_2d2da20df80342248f7f2af2977ec2e8"
          }
        },
        "ddb028fa40a34c42901164e02085815f": {
          "model_module": "@jupyter-widgets/controls",
          "model_name": "DescriptionStyleModel",
          "model_module_version": "1.5.0",
          "state": {
            "_view_name": "StyleView",
            "_model_name": "DescriptionStyleModel",
            "description_width": "",
            "_view_module": "@jupyter-widgets/base",
            "_model_module_version": "1.5.0",
            "_view_count": null,
            "_view_module_version": "1.2.0",
            "_model_module": "@jupyter-widgets/controls"
          }
        },
        "f310b9ac7b4345f0a924ced227fcee00": {
          "model_module": "@jupyter-widgets/base",
          "model_name": "LayoutModel",
          "model_module_version": "1.2.0",
          "state": {
            "_view_name": "LayoutView",
            "grid_template_rows": null,
            "right": null,
            "justify_content": null,
            "_view_module": "@jupyter-widgets/base",
            "overflow": null,
            "_model_module_version": "1.2.0",
            "_view_count": null,
            "flex_flow": null,
            "width": null,
            "min_width": null,
            "border": null,
            "align_items": null,
            "bottom": null,
            "_model_module": "@jupyter-widgets/base",
            "top": null,
            "grid_column": null,
            "overflow_y": null,
            "overflow_x": null,
            "grid_auto_flow": null,
            "grid_area": null,
            "grid_template_columns": null,
            "flex": null,
            "_model_name": "LayoutModel",
            "justify_items": null,
            "grid_row": null,
            "max_height": null,
            "align_content": null,
            "visibility": null,
            "align_self": null,
            "height": null,
            "min_height": null,
            "padding": null,
            "grid_auto_rows": null,
            "grid_gap": null,
            "max_width": null,
            "order": null,
            "_view_module_version": "1.2.0",
            "grid_template_areas": null,
            "object_position": null,
            "object_fit": null,
            "grid_auto_columns": null,
            "margin": null,
            "display": null,
            "left": null
          }
        },
        "5492d9b4def04e7fbf030c24be47e16b": {
          "model_module": "@jupyter-widgets/controls",
          "model_name": "ProgressStyleModel",
          "model_module_version": "1.5.0",
          "state": {
            "_view_name": "StyleView",
            "_model_name": "ProgressStyleModel",
            "description_width": "",
            "_view_module": "@jupyter-widgets/base",
            "_model_module_version": "1.5.0",
            "_view_count": null,
            "_view_module_version": "1.2.0",
            "bar_color": null,
            "_model_module": "@jupyter-widgets/controls"
          }
        },
        "95a72d8904704f1bbcccc41e6d8cf19f": {
          "model_module": "@jupyter-widgets/base",
          "model_name": "LayoutModel",
          "model_module_version": "1.2.0",
          "state": {
            "_view_name": "LayoutView",
            "grid_template_rows": null,
            "right": null,
            "justify_content": null,
            "_view_module": "@jupyter-widgets/base",
            "overflow": null,
            "_model_module_version": "1.2.0",
            "_view_count": null,
            "flex_flow": null,
            "width": null,
            "min_width": null,
            "border": null,
            "align_items": null,
            "bottom": null,
            "_model_module": "@jupyter-widgets/base",
            "top": null,
            "grid_column": null,
            "overflow_y": null,
            "overflow_x": null,
            "grid_auto_flow": null,
            "grid_area": null,
            "grid_template_columns": null,
            "flex": null,
            "_model_name": "LayoutModel",
            "justify_items": null,
            "grid_row": null,
            "max_height": null,
            "align_content": null,
            "visibility": null,
            "align_self": null,
            "height": null,
            "min_height": null,
            "padding": null,
            "grid_auto_rows": null,
            "grid_gap": null,
            "max_width": null,
            "order": null,
            "_view_module_version": "1.2.0",
            "grid_template_areas": null,
            "object_position": null,
            "object_fit": null,
            "grid_auto_columns": null,
            "margin": null,
            "display": null,
            "left": null
          }
        },
        "25a684cbde464edf83de8861bc2d7339": {
          "model_module": "@jupyter-widgets/controls",
          "model_name": "DescriptionStyleModel",
          "model_module_version": "1.5.0",
          "state": {
            "_view_name": "StyleView",
            "_model_name": "DescriptionStyleModel",
            "description_width": "",
            "_view_module": "@jupyter-widgets/base",
            "_model_module_version": "1.5.0",
            "_view_count": null,
            "_view_module_version": "1.2.0",
            "_model_module": "@jupyter-widgets/controls"
          }
        },
        "2d2da20df80342248f7f2af2977ec2e8": {
          "model_module": "@jupyter-widgets/base",
          "model_name": "LayoutModel",
          "model_module_version": "1.2.0",
          "state": {
            "_view_name": "LayoutView",
            "grid_template_rows": null,
            "right": null,
            "justify_content": null,
            "_view_module": "@jupyter-widgets/base",
            "overflow": null,
            "_model_module_version": "1.2.0",
            "_view_count": null,
            "flex_flow": null,
            "width": null,
            "min_width": null,
            "border": null,
            "align_items": null,
            "bottom": null,
            "_model_module": "@jupyter-widgets/base",
            "top": null,
            "grid_column": null,
            "overflow_y": null,
            "overflow_x": null,
            "grid_auto_flow": null,
            "grid_area": null,
            "grid_template_columns": null,
            "flex": null,
            "_model_name": "LayoutModel",
            "justify_items": null,
            "grid_row": null,
            "max_height": null,
            "align_content": null,
            "visibility": null,
            "align_self": null,
            "height": null,
            "min_height": null,
            "padding": null,
            "grid_auto_rows": null,
            "grid_gap": null,
            "max_width": null,
            "order": null,
            "_view_module_version": "1.2.0",
            "grid_template_areas": null,
            "object_position": null,
            "object_fit": null,
            "grid_auto_columns": null,
            "margin": null,
            "display": null,
            "left": null
          }
        }
      }
    }
  },
  "cells": [
    {
      "cell_type": "markdown",
      "metadata": {
        "id": "view-in-github",
        "colab_type": "text"
      },
      "source": [
        "<a href=\"https://colab.research.google.com/github/KevinTheRainmaker/Recommendation_Algorithms/blob/main/Internship_Model_01.ipynb\" target=\"_parent\"><img src=\"https://colab.research.google.com/assets/colab-badge.svg\" alt=\"Open In Colab\"/></a>"
      ]
    },
    {
      "cell_type": "code",
      "metadata": {
        "colab": {
          "base_uri": "https://localhost:8080/"
        },
        "id": "PQQbDaiX7Ymg",
        "outputId": "12ef23ce-b4b0-4fc3-f186-bc995e81c4d8"
      },
      "source": [
        "!pip install -q implicit"
      ],
      "execution_count": 1,
      "outputs": [
        {
          "output_type": "stream",
          "name": "stdout",
          "text": [
            "\u001b[?25l\r\u001b[K     |▎                               | 10 kB 23.6 MB/s eta 0:00:01\r\u001b[K     |▋                               | 20 kB 27.2 MB/s eta 0:00:01\r\u001b[K     |▉                               | 30 kB 10.4 MB/s eta 0:00:01\r\u001b[K     |█▏                              | 40 kB 10.7 MB/s eta 0:00:01\r\u001b[K     |█▍                              | 51 kB 4.4 MB/s eta 0:00:01\r\u001b[K     |█▊                              | 61 kB 4.7 MB/s eta 0:00:01\r\u001b[K     |██                              | 71 kB 4.3 MB/s eta 0:00:01\r\u001b[K     |██▎                             | 81 kB 4.9 MB/s eta 0:00:01\r\u001b[K     |██▋                             | 92 kB 4.9 MB/s eta 0:00:01\r\u001b[K     |██▉                             | 102 kB 4.2 MB/s eta 0:00:01\r\u001b[K     |███▏                            | 112 kB 4.2 MB/s eta 0:00:01\r\u001b[K     |███▍                            | 122 kB 4.2 MB/s eta 0:00:01\r\u001b[K     |███▊                            | 133 kB 4.2 MB/s eta 0:00:01\r\u001b[K     |████                            | 143 kB 4.2 MB/s eta 0:00:01\r\u001b[K     |████▎                           | 153 kB 4.2 MB/s eta 0:00:01\r\u001b[K     |████▋                           | 163 kB 4.2 MB/s eta 0:00:01\r\u001b[K     |████▉                           | 174 kB 4.2 MB/s eta 0:00:01\r\u001b[K     |█████▏                          | 184 kB 4.2 MB/s eta 0:00:01\r\u001b[K     |█████▍                          | 194 kB 4.2 MB/s eta 0:00:01\r\u001b[K     |█████▊                          | 204 kB 4.2 MB/s eta 0:00:01\r\u001b[K     |██████                          | 215 kB 4.2 MB/s eta 0:00:01\r\u001b[K     |██████▎                         | 225 kB 4.2 MB/s eta 0:00:01\r\u001b[K     |██████▋                         | 235 kB 4.2 MB/s eta 0:00:01\r\u001b[K     |██████▉                         | 245 kB 4.2 MB/s eta 0:00:01\r\u001b[K     |███████▏                        | 256 kB 4.2 MB/s eta 0:00:01\r\u001b[K     |███████▌                        | 266 kB 4.2 MB/s eta 0:00:01\r\u001b[K     |███████▊                        | 276 kB 4.2 MB/s eta 0:00:01\r\u001b[K     |████████                        | 286 kB 4.2 MB/s eta 0:00:01\r\u001b[K     |████████▎                       | 296 kB 4.2 MB/s eta 0:00:01\r\u001b[K     |████████▋                       | 307 kB 4.2 MB/s eta 0:00:01\r\u001b[K     |████████▉                       | 317 kB 4.2 MB/s eta 0:00:01\r\u001b[K     |█████████▏                      | 327 kB 4.2 MB/s eta 0:00:01\r\u001b[K     |█████████▌                      | 337 kB 4.2 MB/s eta 0:00:01\r\u001b[K     |█████████▊                      | 348 kB 4.2 MB/s eta 0:00:01\r\u001b[K     |██████████                      | 358 kB 4.2 MB/s eta 0:00:01\r\u001b[K     |██████████▎                     | 368 kB 4.2 MB/s eta 0:00:01\r\u001b[K     |██████████▋                     | 378 kB 4.2 MB/s eta 0:00:01\r\u001b[K     |██████████▉                     | 389 kB 4.2 MB/s eta 0:00:01\r\u001b[K     |███████████▏                    | 399 kB 4.2 MB/s eta 0:00:01\r\u001b[K     |███████████▌                    | 409 kB 4.2 MB/s eta 0:00:01\r\u001b[K     |███████████▊                    | 419 kB 4.2 MB/s eta 0:00:01\r\u001b[K     |████████████                    | 430 kB 4.2 MB/s eta 0:00:01\r\u001b[K     |████████████▎                   | 440 kB 4.2 MB/s eta 0:00:01\r\u001b[K     |████████████▋                   | 450 kB 4.2 MB/s eta 0:00:01\r\u001b[K     |█████████████                   | 460 kB 4.2 MB/s eta 0:00:01\r\u001b[K     |█████████████▏                  | 471 kB 4.2 MB/s eta 0:00:01\r\u001b[K     |█████████████▌                  | 481 kB 4.2 MB/s eta 0:00:01\r\u001b[K     |█████████████▊                  | 491 kB 4.2 MB/s eta 0:00:01\r\u001b[K     |██████████████                  | 501 kB 4.2 MB/s eta 0:00:01\r\u001b[K     |██████████████▎                 | 512 kB 4.2 MB/s eta 0:00:01\r\u001b[K     |██████████████▋                 | 522 kB 4.2 MB/s eta 0:00:01\r\u001b[K     |███████████████                 | 532 kB 4.2 MB/s eta 0:00:01\r\u001b[K     |███████████████▏                | 542 kB 4.2 MB/s eta 0:00:01\r\u001b[K     |███████████████▌                | 552 kB 4.2 MB/s eta 0:00:01\r\u001b[K     |███████████████▊                | 563 kB 4.2 MB/s eta 0:00:01\r\u001b[K     |████████████████                | 573 kB 4.2 MB/s eta 0:00:01\r\u001b[K     |████████████████▎               | 583 kB 4.2 MB/s eta 0:00:01\r\u001b[K     |████████████████▋               | 593 kB 4.2 MB/s eta 0:00:01\r\u001b[K     |█████████████████               | 604 kB 4.2 MB/s eta 0:00:01\r\u001b[K     |█████████████████▏              | 614 kB 4.2 MB/s eta 0:00:01\r\u001b[K     |█████████████████▌              | 624 kB 4.2 MB/s eta 0:00:01\r\u001b[K     |█████████████████▊              | 634 kB 4.2 MB/s eta 0:00:01\r\u001b[K     |██████████████████              | 645 kB 4.2 MB/s eta 0:00:01\r\u001b[K     |██████████████████▍             | 655 kB 4.2 MB/s eta 0:00:01\r\u001b[K     |██████████████████▋             | 665 kB 4.2 MB/s eta 0:00:01\r\u001b[K     |███████████████████             | 675 kB 4.2 MB/s eta 0:00:01\r\u001b[K     |███████████████████▏            | 686 kB 4.2 MB/s eta 0:00:01\r\u001b[K     |███████████████████▌            | 696 kB 4.2 MB/s eta 0:00:01\r\u001b[K     |███████████████████▊            | 706 kB 4.2 MB/s eta 0:00:01\r\u001b[K     |████████████████████            | 716 kB 4.2 MB/s eta 0:00:01\r\u001b[K     |████████████████████▍           | 727 kB 4.2 MB/s eta 0:00:01\r\u001b[K     |████████████████████▋           | 737 kB 4.2 MB/s eta 0:00:01\r\u001b[K     |█████████████████████           | 747 kB 4.2 MB/s eta 0:00:01\r\u001b[K     |█████████████████████▏          | 757 kB 4.2 MB/s eta 0:00:01\r\u001b[K     |█████████████████████▌          | 768 kB 4.2 MB/s eta 0:00:01\r\u001b[K     |█████████████████████▊          | 778 kB 4.2 MB/s eta 0:00:01\r\u001b[K     |██████████████████████          | 788 kB 4.2 MB/s eta 0:00:01\r\u001b[K     |██████████████████████▍         | 798 kB 4.2 MB/s eta 0:00:01\r\u001b[K     |██████████████████████▋         | 808 kB 4.2 MB/s eta 0:00:01\r\u001b[K     |███████████████████████         | 819 kB 4.2 MB/s eta 0:00:01\r\u001b[K     |███████████████████████▏        | 829 kB 4.2 MB/s eta 0:00:01\r\u001b[K     |███████████████████████▌        | 839 kB 4.2 MB/s eta 0:00:01\r\u001b[K     |███████████████████████▉        | 849 kB 4.2 MB/s eta 0:00:01\r\u001b[K     |████████████████████████        | 860 kB 4.2 MB/s eta 0:00:01\r\u001b[K     |████████████████████████▍       | 870 kB 4.2 MB/s eta 0:00:01\r\u001b[K     |████████████████████████▋       | 880 kB 4.2 MB/s eta 0:00:01\r\u001b[K     |█████████████████████████       | 890 kB 4.2 MB/s eta 0:00:01\r\u001b[K     |█████████████████████████▏      | 901 kB 4.2 MB/s eta 0:00:01\r\u001b[K     |█████████████████████████▌      | 911 kB 4.2 MB/s eta 0:00:01\r\u001b[K     |█████████████████████████▉      | 921 kB 4.2 MB/s eta 0:00:01\r\u001b[K     |██████████████████████████      | 931 kB 4.2 MB/s eta 0:00:01\r\u001b[K     |██████████████████████████▍     | 942 kB 4.2 MB/s eta 0:00:01\r\u001b[K     |██████████████████████████▋     | 952 kB 4.2 MB/s eta 0:00:01\r\u001b[K     |███████████████████████████     | 962 kB 4.2 MB/s eta 0:00:01\r\u001b[K     |███████████████████████████▏    | 972 kB 4.2 MB/s eta 0:00:01\r\u001b[K     |███████████████████████████▌    | 983 kB 4.2 MB/s eta 0:00:01\r\u001b[K     |███████████████████████████▉    | 993 kB 4.2 MB/s eta 0:00:01\r\u001b[K     |████████████████████████████    | 1.0 MB 4.2 MB/s eta 0:00:01\r\u001b[K     |████████████████████████████▍   | 1.0 MB 4.2 MB/s eta 0:00:01\r\u001b[K     |████████████████████████████▋   | 1.0 MB 4.2 MB/s eta 0:00:01\r\u001b[K     |█████████████████████████████   | 1.0 MB 4.2 MB/s eta 0:00:01\r\u001b[K     |█████████████████████████████▎  | 1.0 MB 4.2 MB/s eta 0:00:01\r\u001b[K     |█████████████████████████████▌  | 1.1 MB 4.2 MB/s eta 0:00:01\r\u001b[K     |█████████████████████████████▉  | 1.1 MB 4.2 MB/s eta 0:00:01\r\u001b[K     |██████████████████████████████  | 1.1 MB 4.2 MB/s eta 0:00:01\r\u001b[K     |██████████████████████████████▍ | 1.1 MB 4.2 MB/s eta 0:00:01\r\u001b[K     |██████████████████████████████▋ | 1.1 MB 4.2 MB/s eta 0:00:01\r\u001b[K     |███████████████████████████████ | 1.1 MB 4.2 MB/s eta 0:00:01\r\u001b[K     |███████████████████████████████▎| 1.1 MB 4.2 MB/s eta 0:00:01\r\u001b[K     |███████████████████████████████▌| 1.1 MB 4.2 MB/s eta 0:00:01\r\u001b[K     |███████████████████████████████▉| 1.1 MB 4.2 MB/s eta 0:00:01\r\u001b[K     |████████████████████████████████| 1.1 MB 4.2 MB/s \n",
            "\u001b[?25h  Installing build dependencies ... \u001b[?25l\u001b[?25hdone\n",
            "  Getting requirements to build wheel ... \u001b[?25l\u001b[?25hdone\n",
            "  Installing backend dependencies ... \u001b[?25l\u001b[?25hdone\n",
            "    Preparing wheel metadata ... \u001b[?25l\u001b[?25hdone\n",
            "  Building wheel for implicit (PEP 517) ... \u001b[?25l\u001b[?25hdone\n"
          ]
        }
      ]
    },
    {
      "cell_type": "markdown",
      "metadata": {
        "id": "o9e02rsw-2F8"
      },
      "source": [
        "## Packages"
      ]
    },
    {
      "cell_type": "code",
      "metadata": {
        "id": "iZ66JezW-1k4"
      },
      "source": [
        "import os\n",
        "import pandas as pd\n",
        "import tqdm.notebook as tqdm\n",
        "from collections import Counter\n",
        "\n",
        "from google.colab import drive\n",
        "\n",
        "import scipy.sparse as sps\n",
        "import implicit"
      ],
      "execution_count": 35,
      "outputs": []
    },
    {
      "cell_type": "markdown",
      "metadata": {
        "id": "FZjyCi6K78l8"
      },
      "source": [
        "## Data Loader"
      ]
    },
    {
      "cell_type": "code",
      "metadata": {
        "colab": {
          "base_uri": "https://localhost:8080/"
        },
        "id": "tiA8IPEZ7wTF",
        "outputId": "d0950114-192b-44ba-c93f-4941f39da129"
      },
      "source": [
        "drive.mount('/content/drive')\n",
        "\n",
        "path = '/content/drive/MyDrive/data'"
      ],
      "execution_count": 36,
      "outputs": [
        {
          "output_type": "stream",
          "name": "stdout",
          "text": [
            "Drive already mounted at /content/drive; to attempt to forcibly remount, call drive.mount(\"/content/drive\", force_remount=True).\n"
          ]
        }
      ]
    },
    {
      "cell_type": "code",
      "metadata": {
        "id": "nws0olIH_S_d"
      },
      "source": [
        "sps_mat_1 = pd.read_csv(os.path.join(path, 'implicit_trial.csv'), encoding='utf-8')\n",
        "sps_mat_1.fillna(0, inplace=True)\n",
        "sps_mat_2 = pd.read_csv(os.path.join(path, 'implicit_trial.csv'), encoding='utf-8')\n",
        "sps_mat_2.fillna(0, inplace=True)\n",
        "sps_mat_3 = pd.read_csv(os.path.join(path, 'implicit_trial.csv'), encoding='utf-8')\n",
        "sps_mat_3.fillna(0, inplace=True)\n",
        "sps_mat_4 = pd.read_csv(os.path.join(path, 'implicit_trial.csv'), encoding='utf-8')\n",
        "sps_mat_4.fillna(0, inplace=True)"
      ],
      "execution_count": 53,
      "outputs": []
    },
    {
      "cell_type": "markdown",
      "metadata": {
        "id": "G7PsMxEG9cp6"
      },
      "source": [
        "## Processor"
      ]
    },
    {
      "cell_type": "code",
      "metadata": {
        "id": "efjobhA-9QFY",
        "colab": {
          "base_uri": "https://localhost:8080/"
        },
        "outputId": "6ad6b14b-120e-4d37-aee4-688e0a3b83a6"
      },
      "source": [
        "sps_mat_pro_1 = sps.csr_matrix(sps_mat_1)\n",
        "sps_mat_pro_2 = sps.csr_matrix(sps_mat_2)\n",
        "sps_mat_pro_3 = sps.csr_matrix(sps_mat_3)\n",
        "sps_mat_pro_4 = sps.csr_matrix(sps_mat_4)"
      ],
      "execution_count": 38,
      "outputs": [
        {
          "output_type": "stream",
          "name": "stderr",
          "text": [
            "/usr/local/lib/python3.7/dist-packages/scipy/sparse/sputils.py:116: UserWarning: object dtype is not supported by sparse matrices\n",
            "  warnings.warn(\"object dtype is not supported by sparse matrices\")\n"
          ]
        }
      ]
    },
    {
      "cell_type": "markdown",
      "metadata": {
        "id": "f91G5pjX9u-z"
      },
      "source": [
        "## Model"
      ]
    },
    {
      "cell_type": "code",
      "metadata": {
        "id": "KAbg1Mt--Pm_"
      },
      "source": [
        "# configuration\n",
        "n_factors = [x for x in range(50,350,50)]\n",
        "lrs = [1/pow(10,x) for x in range(1,4)]\n",
        "\n",
        "# model name\n",
        "collector = [sps_mat_pro_1, sps_mat_pro_2, sps_mat_pro_3, sps_mat_pro_4]"
      ],
      "execution_count": 55,
      "outputs": []
    },
    {
      "cell_type": "code",
      "metadata": {
        "colab": {
          "base_uri": "https://localhost:8080/",
          "height": 145,
          "referenced_widgets": [
            "aa323597d174405d80cf41ac6f81d7c5",
            "a10bcfbe92534875bd06b6aa171f5027",
            "1b62252b10ff46d191b31019b0a642fb",
            "adb9dea0bcc64ad49f84027fb2c8061e",
            "c09e06a4e95d41de99747e9876870558",
            "1f556db1c64c4a868183fd8ede850eda",
            "5ecb69e170ad4946a2c00a7937556562",
            "5204572a1ab84544bfc74d3fe0c88a76",
            "6d24e69d68a74420be5c7c3931faa03b",
            "b84f0f1a3c6e4d1faaf6e1d8cecc1060",
            "b0abb8fd1a2c447c9b20dacd2ff15aad",
            "8c015fed56a84ea193e217983cbcbd0d",
            "c1f545aa3a164e8696a01cfaee11e343",
            "8c2882a2e0e845d695cc919e168eb255",
            "a8f30f35c8b848a99ffaf74c55ca22c3",
            "9e258c81b7234a3a98a33acdcc6e811d",
            "55feb5f72849496e93fb41e6add5e2dc",
            "91590004314649d891662dedc517b690",
            "5066ef52d3634baaaae5afe3c18686b0",
            "615e5d66b224417ea8d2c5de42e61ea5",
            "83743a4a34b14dfc9924c90ab2dd0984",
            "7483314e0da34fedbb50973fa815f732",
            "03e582353e2245c3ae825465f1b61233",
            "435173fe5d3a46c1ba374af4b28e4577",
            "45d68036a8f8483d8ce4be03ecc42867",
            "bde4fbb660ea4b65899ecbb4e41fa331",
            "faabc93ff56a4c9bbe8e5567c56ce6c6",
            "d546a52394d14b859ba1d25c9623ac7a",
            "3c49e4e4a3e844e7a498ee6ded3f437d",
            "38e2d26537e248afaf87973bb4fbbc69",
            "9e4f8409304c437d822d242ae0817f0b",
            "41268829f5fb4ddca3dbf4f6628bfd49",
            "7404519852874133831c536988331dcf",
            "c036ba508ef94a359d7eb9b723599ff3",
            "8d5c206bd9414182a1641c6194288cbe",
            "40266e93ddae4c6893f35f668093aaed",
            "8027d9a30bd34057992350aca36ba851",
            "262c04af2780499c8b31b0ae6e8a8d0b",
            "ddb028fa40a34c42901164e02085815f",
            "f310b9ac7b4345f0a924ced227fcee00",
            "5492d9b4def04e7fbf030c24be47e16b",
            "95a72d8904704f1bbcccc41e6d8cf19f",
            "25a684cbde464edf83de8861bc2d7339",
            "2d2da20df80342248f7f2af2977ec2e8"
          ]
        },
        "id": "4KwgCjJV9qyA",
        "outputId": "98cabf3c-b206-4fec-868a-171067994d90"
      },
      "source": [
        "for data in collector:\n",
        "  name = f'model[{data}]'\n",
        "  name = implicit.cpu.bpr.BayesianPersonalizedRanking(factors=100, learning_rate=0.01)\n",
        "  name.fit(item_users=data, show_progress=True)"
      ],
      "execution_count": 56,
      "outputs": [
        {
          "output_type": "display_data",
          "data": {
            "application/vnd.jupyter.widget-view+json": {
              "model_id": "aa323597d174405d80cf41ac6f81d7c5",
              "version_minor": 0,
              "version_major": 2
            },
            "text/plain": [
              "  0%|          | 0/100 [00:00<?, ?it/s]"
            ]
          },
          "metadata": {}
        },
        {
          "output_type": "display_data",
          "data": {
            "application/vnd.jupyter.widget-view+json": {
              "model_id": "8c015fed56a84ea193e217983cbcbd0d",
              "version_minor": 0,
              "version_major": 2
            },
            "text/plain": [
              "  0%|          | 0/100 [00:00<?, ?it/s]"
            ]
          },
          "metadata": {}
        },
        {
          "output_type": "display_data",
          "data": {
            "application/vnd.jupyter.widget-view+json": {
              "model_id": "03e582353e2245c3ae825465f1b61233",
              "version_minor": 0,
              "version_major": 2
            },
            "text/plain": [
              "  0%|          | 0/100 [00:00<?, ?it/s]"
            ]
          },
          "metadata": {}
        },
        {
          "output_type": "display_data",
          "data": {
            "application/vnd.jupyter.widget-view+json": {
              "model_id": "c036ba508ef94a359d7eb9b723599ff3",
              "version_minor": 0,
              "version_major": 2
            },
            "text/plain": [
              "  0%|          | 0/100 [00:00<?, ?it/s]"
            ]
          },
          "metadata": {}
        }
      ]
    },
    {
      "cell_type": "markdown",
      "metadata": {
        "id": "JFo7k_HgfgbV"
      },
      "source": [
        "## Recommend"
      ]
    },
    {
      "cell_type": "code",
      "metadata": {
        "id": "C3FqB7zD-KqH"
      },
      "source": [
        "# sps_mat_1['movieId']\n",
        "movie_ids = [int(x) for x in sps_mat_1['movieId']]\n",
        "user_ids = [int(x) for x in sps_mat_1.columns[1:]]"
      ],
      "execution_count": 58,
      "outputs": []
    },
    {
      "cell_type": "code",
      "metadata": {
        "colab": {
          "base_uri": "https://localhost:8080/"
        },
        "id": "YboK3kqDf2We",
        "outputId": "90646632-4f03-44c2-e656-df99330b33db"
      },
      "source": [
        "for user_id in user_ids:\n",
        "  user_items = sps_mat_processed.tocsr()\n",
        "  temp = Counter(dict(model.recommend(user_id,user_items, N=15)))\n",
        "temp"
      ],
      "execution_count": 59,
      "outputs": [
        {
          "output_type": "execute_result",
          "data": {
            "text/plain": [
              "Counter({2224: 4.3862953,\n",
              "         2670: 3.9093838,\n",
              "         3557: 4.47268,\n",
              "         3633: 4.736715,\n",
              "         3741: 4.3599596,\n",
              "         4131: 4.2363677,\n",
              "         4607: 4.602017,\n",
              "         4926: 4.860888,\n",
              "         5901: 4.318151,\n",
              "         6313: 3.9230232,\n",
              "         6405: 3.883219,\n",
              "         6693: 4.2394986,\n",
              "         6726: 3.9248705,\n",
              "         6997: 4.4008155,\n",
              "         7355: 4.0978575})"
            ]
          },
          "metadata": {},
          "execution_count": 59
        }
      ]
    },
    {
      "cell_type": "code",
      "metadata": {
        "colab": {
          "base_uri": "https://localhost:8080/"
        },
        "id": "L6ZUcnXYsvNP",
        "outputId": "6fe57002-cc11-4c53-f192-5e81033984db"
      },
      "source": [
        "(result_1+result_2).columns"
      ],
      "execution_count": null,
      "outputs": [
        {
          "output_type": "execute_result",
          "data": {
            "text/plain": [
              "MultiIndex([('user_610', 'score')],\n",
              "           )"
            ]
          },
          "metadata": {},
          "execution_count": 138
        }
      ]
    },
    {
      "cell_type": "code",
      "metadata": {
        "colab": {
          "base_uri": "https://localhost:8080/",
          "height": 677
        },
        "id": "8-MsKk0olB8S",
        "outputId": "c1b89391-9979-4a66-c57f-20ea62daa4fa"
      },
      "source": [
        "(result_1+result_2).sort_values(by=[('user_610', 'score')], axis=0)"
      ],
      "execution_count": null,
      "outputs": [
        {
          "output_type": "execute_result",
          "data": {
            "text/html": [
              "<div>\n",
              "<style scoped>\n",
              "    .dataframe tbody tr th:only-of-type {\n",
              "        vertical-align: middle;\n",
              "    }\n",
              "\n",
              "    .dataframe tbody tr th {\n",
              "        vertical-align: top;\n",
              "    }\n",
              "\n",
              "    .dataframe thead tr th {\n",
              "        text-align: left;\n",
              "    }\n",
              "</style>\n",
              "<table border=\"1\" class=\"dataframe\">\n",
              "  <thead>\n",
              "    <tr>\n",
              "      <th></th>\n",
              "      <th>user_610</th>\n",
              "    </tr>\n",
              "    <tr>\n",
              "      <th></th>\n",
              "      <th>score</th>\n",
              "    </tr>\n",
              "  </thead>\n",
              "  <tbody>\n",
              "    <tr>\n",
              "      <th>6405</th>\n",
              "      <td>8.243531</td>\n",
              "    </tr>\n",
              "    <tr>\n",
              "      <th>3741</th>\n",
              "      <td>8.374208</td>\n",
              "    </tr>\n",
              "    <tr>\n",
              "      <th>6997</th>\n",
              "      <td>8.429883</td>\n",
              "    </tr>\n",
              "    <tr>\n",
              "      <th>2224</th>\n",
              "      <td>8.518301</td>\n",
              "    </tr>\n",
              "    <tr>\n",
              "      <th>4131</th>\n",
              "      <td>8.623370</td>\n",
              "    </tr>\n",
              "    <tr>\n",
              "      <th>4607</th>\n",
              "      <td>8.684901</td>\n",
              "    </tr>\n",
              "    <tr>\n",
              "      <th>4926</th>\n",
              "      <td>8.767247</td>\n",
              "    </tr>\n",
              "    <tr>\n",
              "      <th>5901</th>\n",
              "      <td>8.827705</td>\n",
              "    </tr>\n",
              "    <tr>\n",
              "      <th>7355</th>\n",
              "      <td>8.850950</td>\n",
              "    </tr>\n",
              "    <tr>\n",
              "      <th>3633</th>\n",
              "      <td>8.916271</td>\n",
              "    </tr>\n",
              "    <tr>\n",
              "      <th>6693</th>\n",
              "      <td>8.967274</td>\n",
              "    </tr>\n",
              "    <tr>\n",
              "      <th>2832</th>\n",
              "      <td>NaN</td>\n",
              "    </tr>\n",
              "    <tr>\n",
              "      <th>3557</th>\n",
              "      <td>NaN</td>\n",
              "    </tr>\n",
              "    <tr>\n",
              "      <th>4791</th>\n",
              "      <td>NaN</td>\n",
              "    </tr>\n",
              "    <tr>\n",
              "      <th>5834</th>\n",
              "      <td>NaN</td>\n",
              "    </tr>\n",
              "    <tr>\n",
              "      <th>6313</th>\n",
              "      <td>NaN</td>\n",
              "    </tr>\n",
              "    <tr>\n",
              "      <th>6726</th>\n",
              "      <td>NaN</td>\n",
              "    </tr>\n",
              "    <tr>\n",
              "      <th>8133</th>\n",
              "      <td>NaN</td>\n",
              "    </tr>\n",
              "    <tr>\n",
              "      <th>8663</th>\n",
              "      <td>NaN</td>\n",
              "    </tr>\n",
              "  </tbody>\n",
              "</table>\n",
              "</div>"
            ],
            "text/plain": [
              "      user_610\n",
              "         score\n",
              "6405  8.243531\n",
              "3741  8.374208\n",
              "6997  8.429883\n",
              "2224  8.518301\n",
              "4131  8.623370\n",
              "4607  8.684901\n",
              "4926  8.767247\n",
              "5901  8.827705\n",
              "7355  8.850950\n",
              "3633  8.916271\n",
              "6693  8.967274\n",
              "2832       NaN\n",
              "3557       NaN\n",
              "4791       NaN\n",
              "5834       NaN\n",
              "6313       NaN\n",
              "6726       NaN\n",
              "8133       NaN\n",
              "8663       NaN"
            ]
          },
          "metadata": {},
          "execution_count": 139
        }
      ]
    },
    {
      "cell_type": "code",
      "metadata": {
        "id": "JHHHsZqQpoJZ"
      },
      "source": [
        ""
      ],
      "execution_count": null,
      "outputs": []
    }
  ]
}