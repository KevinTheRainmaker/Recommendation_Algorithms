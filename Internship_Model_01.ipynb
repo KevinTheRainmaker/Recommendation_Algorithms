{
  "nbformat": 4,
  "nbformat_minor": 0,
  "metadata": {
    "colab": {
      "name": "Internship_Model_01.ipynb",
      "provenance": [],
      "collapsed_sections": [],
      "authorship_tag": "ABX9TyM5NOWIly+G/YvMVWkEo0hd",
      "include_colab_link": true
    },
    "kernelspec": {
      "name": "python3",
      "display_name": "Python 3"
    },
    "language_info": {
      "name": "python"
    },
    "widgets": {
      "application/vnd.jupyter.widget-state+json": {
        "4c477afc57b148db8cc958b15b209047": {
          "model_module": "@jupyter-widgets/controls",
          "model_name": "HBoxModel",
          "model_module_version": "1.5.0",
          "state": {
            "_view_name": "HBoxView",
            "_dom_classes": [],
            "_model_name": "HBoxModel",
            "_view_module": "@jupyter-widgets/controls",
            "_model_module_version": "1.5.0",
            "_view_count": null,
            "_view_module_version": "1.5.0",
            "box_style": "",
            "layout": "IPY_MODEL_58510b6dea3f40aaa7117c9bf6cbb1b4",
            "_model_module": "@jupyter-widgets/controls",
            "children": [
              "IPY_MODEL_6b9410e389134fb6b76537de04a95299",
              "IPY_MODEL_4acfccf54d4f4ecd8ca6c421e9afffdf",
              "IPY_MODEL_77c388ec12a34ff9b5961ddb7281f9e5"
            ]
          }
        },
        "58510b6dea3f40aaa7117c9bf6cbb1b4": {
          "model_module": "@jupyter-widgets/base",
          "model_name": "LayoutModel",
          "model_module_version": "1.2.0",
          "state": {
            "_view_name": "LayoutView",
            "grid_template_rows": null,
            "right": null,
            "justify_content": null,
            "_view_module": "@jupyter-widgets/base",
            "overflow": null,
            "_model_module_version": "1.2.0",
            "_view_count": null,
            "flex_flow": null,
            "width": null,
            "min_width": null,
            "border": null,
            "align_items": null,
            "bottom": null,
            "_model_module": "@jupyter-widgets/base",
            "top": null,
            "grid_column": null,
            "overflow_y": null,
            "overflow_x": null,
            "grid_auto_flow": null,
            "grid_area": null,
            "grid_template_columns": null,
            "flex": null,
            "_model_name": "LayoutModel",
            "justify_items": null,
            "grid_row": null,
            "max_height": null,
            "align_content": null,
            "visibility": null,
            "align_self": null,
            "height": null,
            "min_height": null,
            "padding": null,
            "grid_auto_rows": null,
            "grid_gap": null,
            "max_width": null,
            "order": null,
            "_view_module_version": "1.2.0",
            "grid_template_areas": null,
            "object_position": null,
            "object_fit": null,
            "grid_auto_columns": null,
            "margin": null,
            "display": null,
            "left": null
          }
        },
        "6b9410e389134fb6b76537de04a95299": {
          "model_module": "@jupyter-widgets/controls",
          "model_name": "HTMLModel",
          "model_module_version": "1.5.0",
          "state": {
            "_view_name": "HTMLView",
            "style": "IPY_MODEL_bf2a98ddbf7541b28945b8ad2f9bcd66",
            "_dom_classes": [],
            "description": "",
            "_model_name": "HTMLModel",
            "placeholder": "​",
            "_view_module": "@jupyter-widgets/controls",
            "_model_module_version": "1.5.0",
            "value": "100%",
            "_view_count": null,
            "_view_module_version": "1.5.0",
            "description_tooltip": null,
            "_model_module": "@jupyter-widgets/controls",
            "layout": "IPY_MODEL_e096424ca31742a68d1fb27aca46c7a5"
          }
        },
        "4acfccf54d4f4ecd8ca6c421e9afffdf": {
          "model_module": "@jupyter-widgets/controls",
          "model_name": "FloatProgressModel",
          "model_module_version": "1.5.0",
          "state": {
            "_view_name": "ProgressView",
            "style": "IPY_MODEL_c2926a84675f4ccfb1d0fc108dca6ddd",
            "_dom_classes": [],
            "description": "",
            "_model_name": "FloatProgressModel",
            "bar_style": "success",
            "max": 100,
            "_view_module": "@jupyter-widgets/controls",
            "_model_module_version": "1.5.0",
            "value": 100,
            "_view_count": null,
            "_view_module_version": "1.5.0",
            "orientation": "horizontal",
            "min": 0,
            "description_tooltip": null,
            "_model_module": "@jupyter-widgets/controls",
            "layout": "IPY_MODEL_51d6bd20c73646aea7f684ccd89d30ee"
          }
        },
        "77c388ec12a34ff9b5961ddb7281f9e5": {
          "model_module": "@jupyter-widgets/controls",
          "model_name": "HTMLModel",
          "model_module_version": "1.5.0",
          "state": {
            "_view_name": "HTMLView",
            "style": "IPY_MODEL_6c55218766b74cdd99c5b51630ae8880",
            "_dom_classes": [],
            "description": "",
            "_model_name": "HTMLModel",
            "placeholder": "​",
            "_view_module": "@jupyter-widgets/controls",
            "_model_module_version": "1.5.0",
            "value": " 100/100 [00:04&lt;00:00, 21.66it/s, train_auc=93.73%, skipped=29.81%]",
            "_view_count": null,
            "_view_module_version": "1.5.0",
            "description_tooltip": null,
            "_model_module": "@jupyter-widgets/controls",
            "layout": "IPY_MODEL_6078c8e569754cb48762b842eab1a26c"
          }
        },
        "bf2a98ddbf7541b28945b8ad2f9bcd66": {
          "model_module": "@jupyter-widgets/controls",
          "model_name": "DescriptionStyleModel",
          "model_module_version": "1.5.0",
          "state": {
            "_view_name": "StyleView",
            "_model_name": "DescriptionStyleModel",
            "description_width": "",
            "_view_module": "@jupyter-widgets/base",
            "_model_module_version": "1.5.0",
            "_view_count": null,
            "_view_module_version": "1.2.0",
            "_model_module": "@jupyter-widgets/controls"
          }
        },
        "e096424ca31742a68d1fb27aca46c7a5": {
          "model_module": "@jupyter-widgets/base",
          "model_name": "LayoutModel",
          "model_module_version": "1.2.0",
          "state": {
            "_view_name": "LayoutView",
            "grid_template_rows": null,
            "right": null,
            "justify_content": null,
            "_view_module": "@jupyter-widgets/base",
            "overflow": null,
            "_model_module_version": "1.2.0",
            "_view_count": null,
            "flex_flow": null,
            "width": null,
            "min_width": null,
            "border": null,
            "align_items": null,
            "bottom": null,
            "_model_module": "@jupyter-widgets/base",
            "top": null,
            "grid_column": null,
            "overflow_y": null,
            "overflow_x": null,
            "grid_auto_flow": null,
            "grid_area": null,
            "grid_template_columns": null,
            "flex": null,
            "_model_name": "LayoutModel",
            "justify_items": null,
            "grid_row": null,
            "max_height": null,
            "align_content": null,
            "visibility": null,
            "align_self": null,
            "height": null,
            "min_height": null,
            "padding": null,
            "grid_auto_rows": null,
            "grid_gap": null,
            "max_width": null,
            "order": null,
            "_view_module_version": "1.2.0",
            "grid_template_areas": null,
            "object_position": null,
            "object_fit": null,
            "grid_auto_columns": null,
            "margin": null,
            "display": null,
            "left": null
          }
        },
        "c2926a84675f4ccfb1d0fc108dca6ddd": {
          "model_module": "@jupyter-widgets/controls",
          "model_name": "ProgressStyleModel",
          "model_module_version": "1.5.0",
          "state": {
            "_view_name": "StyleView",
            "_model_name": "ProgressStyleModel",
            "description_width": "",
            "_view_module": "@jupyter-widgets/base",
            "_model_module_version": "1.5.0",
            "_view_count": null,
            "_view_module_version": "1.2.0",
            "bar_color": null,
            "_model_module": "@jupyter-widgets/controls"
          }
        },
        "51d6bd20c73646aea7f684ccd89d30ee": {
          "model_module": "@jupyter-widgets/base",
          "model_name": "LayoutModel",
          "model_module_version": "1.2.0",
          "state": {
            "_view_name": "LayoutView",
            "grid_template_rows": null,
            "right": null,
            "justify_content": null,
            "_view_module": "@jupyter-widgets/base",
            "overflow": null,
            "_model_module_version": "1.2.0",
            "_view_count": null,
            "flex_flow": null,
            "width": null,
            "min_width": null,
            "border": null,
            "align_items": null,
            "bottom": null,
            "_model_module": "@jupyter-widgets/base",
            "top": null,
            "grid_column": null,
            "overflow_y": null,
            "overflow_x": null,
            "grid_auto_flow": null,
            "grid_area": null,
            "grid_template_columns": null,
            "flex": null,
            "_model_name": "LayoutModel",
            "justify_items": null,
            "grid_row": null,
            "max_height": null,
            "align_content": null,
            "visibility": null,
            "align_self": null,
            "height": null,
            "min_height": null,
            "padding": null,
            "grid_auto_rows": null,
            "grid_gap": null,
            "max_width": null,
            "order": null,
            "_view_module_version": "1.2.0",
            "grid_template_areas": null,
            "object_position": null,
            "object_fit": null,
            "grid_auto_columns": null,
            "margin": null,
            "display": null,
            "left": null
          }
        },
        "6c55218766b74cdd99c5b51630ae8880": {
          "model_module": "@jupyter-widgets/controls",
          "model_name": "DescriptionStyleModel",
          "model_module_version": "1.5.0",
          "state": {
            "_view_name": "StyleView",
            "_model_name": "DescriptionStyleModel",
            "description_width": "",
            "_view_module": "@jupyter-widgets/base",
            "_model_module_version": "1.5.0",
            "_view_count": null,
            "_view_module_version": "1.2.0",
            "_model_module": "@jupyter-widgets/controls"
          }
        },
        "6078c8e569754cb48762b842eab1a26c": {
          "model_module": "@jupyter-widgets/base",
          "model_name": "LayoutModel",
          "model_module_version": "1.2.0",
          "state": {
            "_view_name": "LayoutView",
            "grid_template_rows": null,
            "right": null,
            "justify_content": null,
            "_view_module": "@jupyter-widgets/base",
            "overflow": null,
            "_model_module_version": "1.2.0",
            "_view_count": null,
            "flex_flow": null,
            "width": null,
            "min_width": null,
            "border": null,
            "align_items": null,
            "bottom": null,
            "_model_module": "@jupyter-widgets/base",
            "top": null,
            "grid_column": null,
            "overflow_y": null,
            "overflow_x": null,
            "grid_auto_flow": null,
            "grid_area": null,
            "grid_template_columns": null,
            "flex": null,
            "_model_name": "LayoutModel",
            "justify_items": null,
            "grid_row": null,
            "max_height": null,
            "align_content": null,
            "visibility": null,
            "align_self": null,
            "height": null,
            "min_height": null,
            "padding": null,
            "grid_auto_rows": null,
            "grid_gap": null,
            "max_width": null,
            "order": null,
            "_view_module_version": "1.2.0",
            "grid_template_areas": null,
            "object_position": null,
            "object_fit": null,
            "grid_auto_columns": null,
            "margin": null,
            "display": null,
            "left": null
          }
        }
      }
    }
  },
  "cells": [
    {
      "cell_type": "markdown",
      "metadata": {
        "id": "view-in-github",
        "colab_type": "text"
      },
      "source": [
        "<a href=\"https://colab.research.google.com/github/KevinTheRainmaker/Recommendation_Algorithms/blob/main/Internship_Model_01.ipynb\" target=\"_parent\"><img src=\"https://colab.research.google.com/assets/colab-badge.svg\" alt=\"Open In Colab\"/></a>"
      ]
    },
    {
      "cell_type": "code",
      "metadata": {
        "colab": {
          "base_uri": "https://localhost:8080/"
        },
        "id": "PQQbDaiX7Ymg",
        "outputId": "325d29ea-4333-4ad5-c43d-81f7b77b98cf"
      },
      "source": [
        "!pip install -q implicit"
      ],
      "execution_count": 1,
      "outputs": [
        {
          "output_type": "stream",
          "name": "stdout",
          "text": [
            "\u001b[?25l\r\u001b[K     |▎                               | 10 kB 20.0 MB/s eta 0:00:01\r\u001b[K     |▋                               | 20 kB 25.7 MB/s eta 0:00:01\r\u001b[K     |▉                               | 30 kB 15.4 MB/s eta 0:00:01\r\u001b[K     |█▏                              | 40 kB 10.8 MB/s eta 0:00:01\r\u001b[K     |█▍                              | 51 kB 4.4 MB/s eta 0:00:01\r\u001b[K     |█▊                              | 61 kB 4.6 MB/s eta 0:00:01\r\u001b[K     |██                              | 71 kB 4.4 MB/s eta 0:00:01\r\u001b[K     |██▎                             | 81 kB 4.9 MB/s eta 0:00:01\r\u001b[K     |██▋                             | 92 kB 4.9 MB/s eta 0:00:01\r\u001b[K     |██▉                             | 102 kB 4.2 MB/s eta 0:00:01\r\u001b[K     |███▏                            | 112 kB 4.2 MB/s eta 0:00:01\r\u001b[K     |███▍                            | 122 kB 4.2 MB/s eta 0:00:01\r\u001b[K     |███▊                            | 133 kB 4.2 MB/s eta 0:00:01\r\u001b[K     |████                            | 143 kB 4.2 MB/s eta 0:00:01\r\u001b[K     |████▎                           | 153 kB 4.2 MB/s eta 0:00:01\r\u001b[K     |████▋                           | 163 kB 4.2 MB/s eta 0:00:01\r\u001b[K     |████▉                           | 174 kB 4.2 MB/s eta 0:00:01\r\u001b[K     |█████▏                          | 184 kB 4.2 MB/s eta 0:00:01\r\u001b[K     |█████▍                          | 194 kB 4.2 MB/s eta 0:00:01\r\u001b[K     |█████▊                          | 204 kB 4.2 MB/s eta 0:00:01\r\u001b[K     |██████                          | 215 kB 4.2 MB/s eta 0:00:01\r\u001b[K     |██████▎                         | 225 kB 4.2 MB/s eta 0:00:01\r\u001b[K     |██████▋                         | 235 kB 4.2 MB/s eta 0:00:01\r\u001b[K     |██████▉                         | 245 kB 4.2 MB/s eta 0:00:01\r\u001b[K     |███████▏                        | 256 kB 4.2 MB/s eta 0:00:01\r\u001b[K     |███████▌                        | 266 kB 4.2 MB/s eta 0:00:01\r\u001b[K     |███████▊                        | 276 kB 4.2 MB/s eta 0:00:01\r\u001b[K     |████████                        | 286 kB 4.2 MB/s eta 0:00:01\r\u001b[K     |████████▎                       | 296 kB 4.2 MB/s eta 0:00:01\r\u001b[K     |████████▋                       | 307 kB 4.2 MB/s eta 0:00:01\r\u001b[K     |████████▉                       | 317 kB 4.2 MB/s eta 0:00:01\r\u001b[K     |█████████▏                      | 327 kB 4.2 MB/s eta 0:00:01\r\u001b[K     |█████████▌                      | 337 kB 4.2 MB/s eta 0:00:01\r\u001b[K     |█████████▊                      | 348 kB 4.2 MB/s eta 0:00:01\r\u001b[K     |██████████                      | 358 kB 4.2 MB/s eta 0:00:01\r\u001b[K     |██████████▎                     | 368 kB 4.2 MB/s eta 0:00:01\r\u001b[K     |██████████▋                     | 378 kB 4.2 MB/s eta 0:00:01\r\u001b[K     |██████████▉                     | 389 kB 4.2 MB/s eta 0:00:01\r\u001b[K     |███████████▏                    | 399 kB 4.2 MB/s eta 0:00:01\r\u001b[K     |███████████▌                    | 409 kB 4.2 MB/s eta 0:00:01\r\u001b[K     |███████████▊                    | 419 kB 4.2 MB/s eta 0:00:01\r\u001b[K     |████████████                    | 430 kB 4.2 MB/s eta 0:00:01\r\u001b[K     |████████████▎                   | 440 kB 4.2 MB/s eta 0:00:01\r\u001b[K     |████████████▋                   | 450 kB 4.2 MB/s eta 0:00:01\r\u001b[K     |█████████████                   | 460 kB 4.2 MB/s eta 0:00:01\r\u001b[K     |█████████████▏                  | 471 kB 4.2 MB/s eta 0:00:01\r\u001b[K     |█████████████▌                  | 481 kB 4.2 MB/s eta 0:00:01\r\u001b[K     |█████████████▊                  | 491 kB 4.2 MB/s eta 0:00:01\r\u001b[K     |██████████████                  | 501 kB 4.2 MB/s eta 0:00:01\r\u001b[K     |██████████████▎                 | 512 kB 4.2 MB/s eta 0:00:01\r\u001b[K     |██████████████▋                 | 522 kB 4.2 MB/s eta 0:00:01\r\u001b[K     |███████████████                 | 532 kB 4.2 MB/s eta 0:00:01\r\u001b[K     |███████████████▏                | 542 kB 4.2 MB/s eta 0:00:01\r\u001b[K     |███████████████▌                | 552 kB 4.2 MB/s eta 0:00:01\r\u001b[K     |███████████████▊                | 563 kB 4.2 MB/s eta 0:00:01\r\u001b[K     |████████████████                | 573 kB 4.2 MB/s eta 0:00:01\r\u001b[K     |████████████████▎               | 583 kB 4.2 MB/s eta 0:00:01\r\u001b[K     |████████████████▋               | 593 kB 4.2 MB/s eta 0:00:01\r\u001b[K     |█████████████████               | 604 kB 4.2 MB/s eta 0:00:01\r\u001b[K     |█████████████████▏              | 614 kB 4.2 MB/s eta 0:00:01\r\u001b[K     |█████████████████▌              | 624 kB 4.2 MB/s eta 0:00:01\r\u001b[K     |█████████████████▊              | 634 kB 4.2 MB/s eta 0:00:01\r\u001b[K     |██████████████████              | 645 kB 4.2 MB/s eta 0:00:01\r\u001b[K     |██████████████████▍             | 655 kB 4.2 MB/s eta 0:00:01\r\u001b[K     |██████████████████▋             | 665 kB 4.2 MB/s eta 0:00:01\r\u001b[K     |███████████████████             | 675 kB 4.2 MB/s eta 0:00:01\r\u001b[K     |███████████████████▏            | 686 kB 4.2 MB/s eta 0:00:01\r\u001b[K     |███████████████████▌            | 696 kB 4.2 MB/s eta 0:00:01\r\u001b[K     |███████████████████▊            | 706 kB 4.2 MB/s eta 0:00:01\r\u001b[K     |████████████████████            | 716 kB 4.2 MB/s eta 0:00:01\r\u001b[K     |████████████████████▍           | 727 kB 4.2 MB/s eta 0:00:01\r\u001b[K     |████████████████████▋           | 737 kB 4.2 MB/s eta 0:00:01\r\u001b[K     |█████████████████████           | 747 kB 4.2 MB/s eta 0:00:01\r\u001b[K     |█████████████████████▏          | 757 kB 4.2 MB/s eta 0:00:01\r\u001b[K     |█████████████████████▌          | 768 kB 4.2 MB/s eta 0:00:01\r\u001b[K     |█████████████████████▊          | 778 kB 4.2 MB/s eta 0:00:01\r\u001b[K     |██████████████████████          | 788 kB 4.2 MB/s eta 0:00:01\r\u001b[K     |██████████████████████▍         | 798 kB 4.2 MB/s eta 0:00:01\r\u001b[K     |██████████████████████▋         | 808 kB 4.2 MB/s eta 0:00:01\r\u001b[K     |███████████████████████         | 819 kB 4.2 MB/s eta 0:00:01\r\u001b[K     |███████████████████████▏        | 829 kB 4.2 MB/s eta 0:00:01\r\u001b[K     |███████████████████████▌        | 839 kB 4.2 MB/s eta 0:00:01\r\u001b[K     |███████████████████████▉        | 849 kB 4.2 MB/s eta 0:00:01\r\u001b[K     |████████████████████████        | 860 kB 4.2 MB/s eta 0:00:01\r\u001b[K     |████████████████████████▍       | 870 kB 4.2 MB/s eta 0:00:01\r\u001b[K     |████████████████████████▋       | 880 kB 4.2 MB/s eta 0:00:01\r\u001b[K     |█████████████████████████       | 890 kB 4.2 MB/s eta 0:00:01\r\u001b[K     |█████████████████████████▏      | 901 kB 4.2 MB/s eta 0:00:01\r\u001b[K     |█████████████████████████▌      | 911 kB 4.2 MB/s eta 0:00:01\r\u001b[K     |█████████████████████████▉      | 921 kB 4.2 MB/s eta 0:00:01\r\u001b[K     |██████████████████████████      | 931 kB 4.2 MB/s eta 0:00:01\r\u001b[K     |██████████████████████████▍     | 942 kB 4.2 MB/s eta 0:00:01\r\u001b[K     |██████████████████████████▋     | 952 kB 4.2 MB/s eta 0:00:01\r\u001b[K     |███████████████████████████     | 962 kB 4.2 MB/s eta 0:00:01\r\u001b[K     |███████████████████████████▏    | 972 kB 4.2 MB/s eta 0:00:01\r\u001b[K     |███████████████████████████▌    | 983 kB 4.2 MB/s eta 0:00:01\r\u001b[K     |███████████████████████████▉    | 993 kB 4.2 MB/s eta 0:00:01\r\u001b[K     |████████████████████████████    | 1.0 MB 4.2 MB/s eta 0:00:01\r\u001b[K     |████████████████████████████▍   | 1.0 MB 4.2 MB/s eta 0:00:01\r\u001b[K     |████████████████████████████▋   | 1.0 MB 4.2 MB/s eta 0:00:01\r\u001b[K     |█████████████████████████████   | 1.0 MB 4.2 MB/s eta 0:00:01\r\u001b[K     |█████████████████████████████▎  | 1.0 MB 4.2 MB/s eta 0:00:01\r\u001b[K     |█████████████████████████████▌  | 1.1 MB 4.2 MB/s eta 0:00:01\r\u001b[K     |█████████████████████████████▉  | 1.1 MB 4.2 MB/s eta 0:00:01\r\u001b[K     |██████████████████████████████  | 1.1 MB 4.2 MB/s eta 0:00:01\r\u001b[K     |██████████████████████████████▍ | 1.1 MB 4.2 MB/s eta 0:00:01\r\u001b[K     |██████████████████████████████▋ | 1.1 MB 4.2 MB/s eta 0:00:01\r\u001b[K     |███████████████████████████████ | 1.1 MB 4.2 MB/s eta 0:00:01\r\u001b[K     |███████████████████████████████▎| 1.1 MB 4.2 MB/s eta 0:00:01\r\u001b[K     |███████████████████████████████▌| 1.1 MB 4.2 MB/s eta 0:00:01\r\u001b[K     |███████████████████████████████▉| 1.1 MB 4.2 MB/s eta 0:00:01\r\u001b[K     |████████████████████████████████| 1.1 MB 4.2 MB/s \n",
            "\u001b[?25h  Installing build dependencies ... \u001b[?25l\u001b[?25hdone\n",
            "  Getting requirements to build wheel ... \u001b[?25l\u001b[?25hdone\n",
            "  Installing backend dependencies ... \u001b[?25l\u001b[?25hdone\n",
            "    Preparing wheel metadata ... \u001b[?25l\u001b[?25hdone\n",
            "  Building wheel for implicit (PEP 517) ... \u001b[?25l\u001b[?25hdone\n"
          ]
        }
      ]
    },
    {
      "cell_type": "markdown",
      "metadata": {
        "id": "o9e02rsw-2F8"
      },
      "source": [
        "## Packages"
      ]
    },
    {
      "cell_type": "code",
      "metadata": {
        "id": "iZ66JezW-1k4"
      },
      "source": [
        "import os\n",
        "import pandas as pd\n",
        "import tqdm.notebook as tqdm\n",
        "from collections import Counter\n",
        "\n",
        "from google.colab import drive\n",
        "\n",
        "import scipy.sparse as sps\n",
        "import implicit"
      ],
      "execution_count": 83,
      "outputs": []
    },
    {
      "cell_type": "markdown",
      "metadata": {
        "id": "FZjyCi6K78l8"
      },
      "source": [
        "## Data Loader"
      ]
    },
    {
      "cell_type": "code",
      "metadata": {
        "colab": {
          "base_uri": "https://localhost:8080/"
        },
        "id": "tiA8IPEZ7wTF",
        "outputId": "8cafc77b-8f61-451b-d672-9fcf8861802c"
      },
      "source": [
        "drive.mount('/content/drive')\n",
        "\n",
        "path = '/content/drive/MyDrive/data'\n",
        "sps_mat = pd.read_csv(os.path.join(path, 'implicit_trial.csv'), encoding='utf-8')\n",
        "sps_mat.fillna(0, inplace=True)"
      ],
      "execution_count": 4,
      "outputs": [
        {
          "output_type": "stream",
          "name": "stdout",
          "text": [
            "Mounted at /content/drive\n"
          ]
        }
      ]
    },
    {
      "cell_type": "markdown",
      "metadata": {
        "id": "G7PsMxEG9cp6"
      },
      "source": [
        "## Processor"
      ]
    },
    {
      "cell_type": "code",
      "metadata": {
        "id": "efjobhA-9QFY"
      },
      "source": [
        "sps_mat_processed = sps.csr_matrix(sps_mat)"
      ],
      "execution_count": 5,
      "outputs": []
    },
    {
      "cell_type": "markdown",
      "metadata": {
        "id": "f91G5pjX9u-z"
      },
      "source": [
        "## Model"
      ]
    },
    {
      "cell_type": "code",
      "metadata": {
        "id": "KAbg1Mt--Pm_"
      },
      "source": [
        "# configuration\n",
        "n_factors = [x for x in range(50,350,50)]\n",
        "lrs = [1/pow(10,x) for x in range(1,4)]"
      ],
      "execution_count": 6,
      "outputs": []
    },
    {
      "cell_type": "code",
      "metadata": {
        "colab": {
          "base_uri": "https://localhost:8080/",
          "height": 49,
          "referenced_widgets": [
            "4c477afc57b148db8cc958b15b209047",
            "58510b6dea3f40aaa7117c9bf6cbb1b4",
            "6b9410e389134fb6b76537de04a95299",
            "4acfccf54d4f4ecd8ca6c421e9afffdf",
            "77c388ec12a34ff9b5961ddb7281f9e5",
            "bf2a98ddbf7541b28945b8ad2f9bcd66",
            "e096424ca31742a68d1fb27aca46c7a5",
            "c2926a84675f4ccfb1d0fc108dca6ddd",
            "51d6bd20c73646aea7f684ccd89d30ee",
            "6c55218766b74cdd99c5b51630ae8880",
            "6078c8e569754cb48762b842eab1a26c"
          ]
        },
        "id": "4KwgCjJV9qyA",
        "outputId": "3f10e500-c716-4e37-dc03-1001be0b304f"
      },
      "source": [
        "model = implicit.cpu.bpr.BayesianPersonalizedRanking(factors=100, learning_rate=0.01)\n",
        "model.fit(item_users=sps_mat_processed, show_progress=True)"
      ],
      "execution_count": 126,
      "outputs": [
        {
          "output_type": "display_data",
          "data": {
            "application/vnd.jupyter.widget-view+json": {
              "model_id": "4c477afc57b148db8cc958b15b209047",
              "version_minor": 0,
              "version_major": 2
            },
            "text/plain": [
              "  0%|          | 0/100 [00:00<?, ?it/s]"
            ]
          },
          "metadata": {}
        }
      ]
    },
    {
      "cell_type": "markdown",
      "metadata": {
        "id": "JFo7k_HgfgbV"
      },
      "source": [
        "## Recommend"
      ]
    },
    {
      "cell_type": "code",
      "metadata": {
        "id": "C3FqB7zD-KqH"
      },
      "source": [
        "movie_ids = [int(x) for x in sps_mat['movieId']]\n",
        "user_ids = [int(x) for x in sps_mat.columns[1:]]"
      ],
      "execution_count": 124,
      "outputs": []
    },
    {
      "cell_type": "code",
      "metadata": {
        "colab": {
          "base_uri": "https://localhost:8080/",
          "height": 520
        },
        "id": "YboK3kqDf2We",
        "outputId": "26461a35-1cfa-48e5-9008-a12b8d8aa98b"
      },
      "source": [
        "for user_id in user_ids:\n",
        "  user_items = sps_mat_processed.tocsr()\n",
        "  temp = dict(model.recommend(user_id,user_items, N=15))\n",
        "result"
      ],
      "execution_count": 172,
      "outputs": [
        {
          "output_type": "execute_result",
          "data": {
            "text/html": [
              "<div>\n",
              "<style scoped>\n",
              "    .dataframe tbody tr th:only-of-type {\n",
              "        vertical-align: middle;\n",
              "    }\n",
              "\n",
              "    .dataframe tbody tr th {\n",
              "        vertical-align: top;\n",
              "    }\n",
              "\n",
              "    .dataframe thead th {\n",
              "        text-align: right;\n",
              "    }\n",
              "</style>\n",
              "<table border=\"1\" class=\"dataframe\">\n",
              "  <thead>\n",
              "    <tr style=\"text-align: right;\">\n",
              "      <th></th>\n",
              "      <th>0</th>\n",
              "      <th>1</th>\n",
              "    </tr>\n",
              "  </thead>\n",
              "  <tbody>\n",
              "    <tr>\n",
              "      <th>0</th>\n",
              "      <td>3633</td>\n",
              "      <td>4.681044</td>\n",
              "    </tr>\n",
              "    <tr>\n",
              "      <th>1</th>\n",
              "      <td>2224</td>\n",
              "      <td>4.535472</td>\n",
              "    </tr>\n",
              "    <tr>\n",
              "      <th>2</th>\n",
              "      <td>7355</td>\n",
              "      <td>4.447771</td>\n",
              "    </tr>\n",
              "    <tr>\n",
              "      <th>3</th>\n",
              "      <td>4131</td>\n",
              "      <td>4.409997</td>\n",
              "    </tr>\n",
              "    <tr>\n",
              "      <th>4</th>\n",
              "      <td>6693</td>\n",
              "      <td>4.325162</td>\n",
              "    </tr>\n",
              "    <tr>\n",
              "      <th>5</th>\n",
              "      <td>5901</td>\n",
              "      <td>4.262352</td>\n",
              "    </tr>\n",
              "    <tr>\n",
              "      <th>6</th>\n",
              "      <td>4926</td>\n",
              "      <td>4.258275</td>\n",
              "    </tr>\n",
              "    <tr>\n",
              "      <th>7</th>\n",
              "      <td>6997</td>\n",
              "      <td>4.248040</td>\n",
              "    </tr>\n",
              "    <tr>\n",
              "      <th>8</th>\n",
              "      <td>3741</td>\n",
              "      <td>4.206855</td>\n",
              "    </tr>\n",
              "    <tr>\n",
              "      <th>9</th>\n",
              "      <td>4607</td>\n",
              "      <td>4.067935</td>\n",
              "    </tr>\n",
              "    <tr>\n",
              "      <th>10</th>\n",
              "      <td>6405</td>\n",
              "      <td>4.062680</td>\n",
              "    </tr>\n",
              "    <tr>\n",
              "      <th>11</th>\n",
              "      <td>5834</td>\n",
              "      <td>4.051151</td>\n",
              "    </tr>\n",
              "    <tr>\n",
              "      <th>12</th>\n",
              "      <td>6313</td>\n",
              "      <td>3.998673</td>\n",
              "    </tr>\n",
              "    <tr>\n",
              "      <th>13</th>\n",
              "      <td>3557</td>\n",
              "      <td>3.954880</td>\n",
              "    </tr>\n",
              "    <tr>\n",
              "      <th>14</th>\n",
              "      <td>8133</td>\n",
              "      <td>3.953324</td>\n",
              "    </tr>\n",
              "  </tbody>\n",
              "</table>\n",
              "</div>"
            ],
            "text/plain": [
              "       0         1\n",
              "0   3633  4.681044\n",
              "1   2224  4.535472\n",
              "2   7355  4.447771\n",
              "3   4131  4.409997\n",
              "4   6693  4.325162\n",
              "5   5901  4.262352\n",
              "6   4926  4.258275\n",
              "7   6997  4.248040\n",
              "8   3741  4.206855\n",
              "9   4607  4.067935\n",
              "10  6405  4.062680\n",
              "11  5834  4.051151\n",
              "12  6313  3.998673\n",
              "13  3557  3.954880\n",
              "14  8133  3.953324"
            ]
          },
          "metadata": {},
          "execution_count": 172
        }
      ]
    },
    {
      "cell_type": "code",
      "metadata": {
        "colab": {
          "base_uri": "https://localhost:8080/",
          "height": 520
        },
        "id": "6JGI7aTstGcw",
        "outputId": "bfd03004-7bfd-4b49-9b9d-c22be8298526"
      },
      "source": [
        "result_2"
      ],
      "execution_count": 143,
      "outputs": [
        {
          "output_type": "execute_result",
          "data": {
            "text/html": [
              "<div>\n",
              "<style scoped>\n",
              "    .dataframe tbody tr th:only-of-type {\n",
              "        vertical-align: middle;\n",
              "    }\n",
              "\n",
              "    .dataframe tbody tr th {\n",
              "        vertical-align: top;\n",
              "    }\n",
              "\n",
              "    .dataframe thead th {\n",
              "        text-align: right;\n",
              "    }\n",
              "</style>\n",
              "<table border=\"1\" class=\"dataframe\">\n",
              "  <thead>\n",
              "    <tr style=\"text-align: right;\">\n",
              "      <th></th>\n",
              "      <th>score</th>\n",
              "    </tr>\n",
              "  </thead>\n",
              "  <tbody>\n",
              "    <tr>\n",
              "      <th>3633</th>\n",
              "      <td>4.681044</td>\n",
              "    </tr>\n",
              "    <tr>\n",
              "      <th>2224</th>\n",
              "      <td>4.535472</td>\n",
              "    </tr>\n",
              "    <tr>\n",
              "      <th>7355</th>\n",
              "      <td>4.447771</td>\n",
              "    </tr>\n",
              "    <tr>\n",
              "      <th>4131</th>\n",
              "      <td>4.409997</td>\n",
              "    </tr>\n",
              "    <tr>\n",
              "      <th>6693</th>\n",
              "      <td>4.325162</td>\n",
              "    </tr>\n",
              "    <tr>\n",
              "      <th>5901</th>\n",
              "      <td>4.262352</td>\n",
              "    </tr>\n",
              "    <tr>\n",
              "      <th>4926</th>\n",
              "      <td>4.258275</td>\n",
              "    </tr>\n",
              "    <tr>\n",
              "      <th>6997</th>\n",
              "      <td>4.248040</td>\n",
              "    </tr>\n",
              "    <tr>\n",
              "      <th>3741</th>\n",
              "      <td>4.206855</td>\n",
              "    </tr>\n",
              "    <tr>\n",
              "      <th>4607</th>\n",
              "      <td>4.067935</td>\n",
              "    </tr>\n",
              "    <tr>\n",
              "      <th>6405</th>\n",
              "      <td>4.062680</td>\n",
              "    </tr>\n",
              "    <tr>\n",
              "      <th>5834</th>\n",
              "      <td>4.051151</td>\n",
              "    </tr>\n",
              "    <tr>\n",
              "      <th>6313</th>\n",
              "      <td>3.998673</td>\n",
              "    </tr>\n",
              "    <tr>\n",
              "      <th>3557</th>\n",
              "      <td>3.954880</td>\n",
              "    </tr>\n",
              "    <tr>\n",
              "      <th>8133</th>\n",
              "      <td>3.953324</td>\n",
              "    </tr>\n",
              "  </tbody>\n",
              "</table>\n",
              "</div>"
            ],
            "text/plain": [
              "         score\n",
              "3633  4.681044\n",
              "2224  4.535472\n",
              "7355  4.447771\n",
              "4131  4.409997\n",
              "6693  4.325162\n",
              "5901  4.262352\n",
              "4926  4.258275\n",
              "6997  4.248040\n",
              "3741  4.206855\n",
              "4607  4.067935\n",
              "6405  4.062680\n",
              "5834  4.051151\n",
              "6313  3.998673\n",
              "3557  3.954880\n",
              "8133  3.953324"
            ]
          },
          "metadata": {},
          "execution_count": 143
        }
      ]
    },
    {
      "cell_type": "code",
      "metadata": {
        "colab": {
          "base_uri": "https://localhost:8080/"
        },
        "id": "L6ZUcnXYsvNP",
        "outputId": "6fe57002-cc11-4c53-f192-5e81033984db"
      },
      "source": [
        "(result_1+result_2).columns"
      ],
      "execution_count": 138,
      "outputs": [
        {
          "output_type": "execute_result",
          "data": {
            "text/plain": [
              "MultiIndex([('user_610', 'score')],\n",
              "           )"
            ]
          },
          "metadata": {},
          "execution_count": 138
        }
      ]
    },
    {
      "cell_type": "code",
      "metadata": {
        "colab": {
          "base_uri": "https://localhost:8080/",
          "height": 677
        },
        "id": "8-MsKk0olB8S",
        "outputId": "c1b89391-9979-4a66-c57f-20ea62daa4fa"
      },
      "source": [
        "(result_1+result_2).sort_values(by=[('user_610', 'score')], axis=0)"
      ],
      "execution_count": 139,
      "outputs": [
        {
          "output_type": "execute_result",
          "data": {
            "text/html": [
              "<div>\n",
              "<style scoped>\n",
              "    .dataframe tbody tr th:only-of-type {\n",
              "        vertical-align: middle;\n",
              "    }\n",
              "\n",
              "    .dataframe tbody tr th {\n",
              "        vertical-align: top;\n",
              "    }\n",
              "\n",
              "    .dataframe thead tr th {\n",
              "        text-align: left;\n",
              "    }\n",
              "</style>\n",
              "<table border=\"1\" class=\"dataframe\">\n",
              "  <thead>\n",
              "    <tr>\n",
              "      <th></th>\n",
              "      <th>user_610</th>\n",
              "    </tr>\n",
              "    <tr>\n",
              "      <th></th>\n",
              "      <th>score</th>\n",
              "    </tr>\n",
              "  </thead>\n",
              "  <tbody>\n",
              "    <tr>\n",
              "      <th>6405</th>\n",
              "      <td>8.243531</td>\n",
              "    </tr>\n",
              "    <tr>\n",
              "      <th>3741</th>\n",
              "      <td>8.374208</td>\n",
              "    </tr>\n",
              "    <tr>\n",
              "      <th>6997</th>\n",
              "      <td>8.429883</td>\n",
              "    </tr>\n",
              "    <tr>\n",
              "      <th>2224</th>\n",
              "      <td>8.518301</td>\n",
              "    </tr>\n",
              "    <tr>\n",
              "      <th>4131</th>\n",
              "      <td>8.623370</td>\n",
              "    </tr>\n",
              "    <tr>\n",
              "      <th>4607</th>\n",
              "      <td>8.684901</td>\n",
              "    </tr>\n",
              "    <tr>\n",
              "      <th>4926</th>\n",
              "      <td>8.767247</td>\n",
              "    </tr>\n",
              "    <tr>\n",
              "      <th>5901</th>\n",
              "      <td>8.827705</td>\n",
              "    </tr>\n",
              "    <tr>\n",
              "      <th>7355</th>\n",
              "      <td>8.850950</td>\n",
              "    </tr>\n",
              "    <tr>\n",
              "      <th>3633</th>\n",
              "      <td>8.916271</td>\n",
              "    </tr>\n",
              "    <tr>\n",
              "      <th>6693</th>\n",
              "      <td>8.967274</td>\n",
              "    </tr>\n",
              "    <tr>\n",
              "      <th>2832</th>\n",
              "      <td>NaN</td>\n",
              "    </tr>\n",
              "    <tr>\n",
              "      <th>3557</th>\n",
              "      <td>NaN</td>\n",
              "    </tr>\n",
              "    <tr>\n",
              "      <th>4791</th>\n",
              "      <td>NaN</td>\n",
              "    </tr>\n",
              "    <tr>\n",
              "      <th>5834</th>\n",
              "      <td>NaN</td>\n",
              "    </tr>\n",
              "    <tr>\n",
              "      <th>6313</th>\n",
              "      <td>NaN</td>\n",
              "    </tr>\n",
              "    <tr>\n",
              "      <th>6726</th>\n",
              "      <td>NaN</td>\n",
              "    </tr>\n",
              "    <tr>\n",
              "      <th>8133</th>\n",
              "      <td>NaN</td>\n",
              "    </tr>\n",
              "    <tr>\n",
              "      <th>8663</th>\n",
              "      <td>NaN</td>\n",
              "    </tr>\n",
              "  </tbody>\n",
              "</table>\n",
              "</div>"
            ],
            "text/plain": [
              "      user_610\n",
              "         score\n",
              "6405  8.243531\n",
              "3741  8.374208\n",
              "6997  8.429883\n",
              "2224  8.518301\n",
              "4131  8.623370\n",
              "4607  8.684901\n",
              "4926  8.767247\n",
              "5901  8.827705\n",
              "7355  8.850950\n",
              "3633  8.916271\n",
              "6693  8.967274\n",
              "2832       NaN\n",
              "3557       NaN\n",
              "4791       NaN\n",
              "5834       NaN\n",
              "6313       NaN\n",
              "6726       NaN\n",
              "8133       NaN\n",
              "8663       NaN"
            ]
          },
          "metadata": {},
          "execution_count": 139
        }
      ]
    },
    {
      "cell_type": "code",
      "metadata": {
        "id": "JHHHsZqQpoJZ"
      },
      "source": [
        ""
      ],
      "execution_count": null,
      "outputs": []
    }
  ]
}