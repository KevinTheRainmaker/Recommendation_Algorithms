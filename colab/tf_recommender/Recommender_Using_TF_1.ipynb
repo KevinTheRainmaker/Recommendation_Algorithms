{
  "nbformat": 4,
  "nbformat_minor": 0,
  "metadata": {
    "colab": {
      "name": "Recommender_Using_TF_1.ipynb",
      "provenance": [],
      "authorship_tag": "ABX9TyNjz7IHTYcTQDkmFjA4S/pZ",
      "include_colab_link": true
    },
    "kernelspec": {
      "name": "python3",
      "display_name": "Python 3"
    },
    "language_info": {
      "name": "python"
    },
    "accelerator": "GPU",
    "widgets": {
      "application/vnd.jupyter.widget-state+json": {
        "2d98baae06fb4a81975da61e2751d2af": {
          "model_module": "@jupyter-widgets/controls",
          "model_name": "HBoxModel",
          "model_module_version": "1.5.0",
          "state": {
            "_view_name": "HBoxView",
            "_dom_classes": [],
            "_model_name": "HBoxModel",
            "_view_module": "@jupyter-widgets/controls",
            "_model_module_version": "1.5.0",
            "_view_count": null,
            "_view_module_version": "1.5.0",
            "box_style": "",
            "layout": "IPY_MODEL_31790fbc8a1347f291a72aa299881a14",
            "_model_module": "@jupyter-widgets/controls",
            "children": [
              "IPY_MODEL_cc62cd65f07f4211abf174ca9bb7f2d7",
              "IPY_MODEL_0000b5bd4a894dc6a5a577f94292d37d",
              "IPY_MODEL_6cc90794f765425aac4e3e330be03f6c"
            ]
          }
        },
        "31790fbc8a1347f291a72aa299881a14": {
          "model_module": "@jupyter-widgets/base",
          "model_name": "LayoutModel",
          "model_module_version": "1.2.0",
          "state": {
            "_view_name": "LayoutView",
            "grid_template_rows": null,
            "right": null,
            "justify_content": null,
            "_view_module": "@jupyter-widgets/base",
            "overflow": null,
            "_model_module_version": "1.2.0",
            "_view_count": null,
            "flex_flow": null,
            "width": null,
            "min_width": null,
            "border": null,
            "align_items": null,
            "bottom": null,
            "_model_module": "@jupyter-widgets/base",
            "top": null,
            "grid_column": null,
            "overflow_y": null,
            "overflow_x": null,
            "grid_auto_flow": null,
            "grid_area": null,
            "grid_template_columns": null,
            "flex": null,
            "_model_name": "LayoutModel",
            "justify_items": null,
            "grid_row": null,
            "max_height": null,
            "align_content": null,
            "visibility": null,
            "align_self": null,
            "height": null,
            "min_height": null,
            "padding": null,
            "grid_auto_rows": null,
            "grid_gap": null,
            "max_width": null,
            "order": null,
            "_view_module_version": "1.2.0",
            "grid_template_areas": null,
            "object_position": null,
            "object_fit": null,
            "grid_auto_columns": null,
            "margin": null,
            "display": null,
            "left": null
          }
        },
        "cc62cd65f07f4211abf174ca9bb7f2d7": {
          "model_module": "@jupyter-widgets/controls",
          "model_name": "HTMLModel",
          "model_module_version": "1.5.0",
          "state": {
            "_view_name": "HTMLView",
            "style": "IPY_MODEL_f512e2a0904b484eacadf508d1dfd5b6",
            "_dom_classes": [],
            "description": "",
            "_model_name": "HTMLModel",
            "placeholder": "​",
            "_view_module": "@jupyter-widgets/controls",
            "_model_module_version": "1.5.0",
            "value": "Dl Completed...: 100%",
            "_view_count": null,
            "_view_module_version": "1.5.0",
            "description_tooltip": null,
            "_model_module": "@jupyter-widgets/controls",
            "layout": "IPY_MODEL_82294c03c6694484b168b05a080de214"
          }
        },
        "0000b5bd4a894dc6a5a577f94292d37d": {
          "model_module": "@jupyter-widgets/controls",
          "model_name": "FloatProgressModel",
          "model_module_version": "1.5.0",
          "state": {
            "_view_name": "ProgressView",
            "style": "IPY_MODEL_647463f0fd164534a1d78649d775a679",
            "_dom_classes": [],
            "description": "",
            "_model_name": "FloatProgressModel",
            "bar_style": "success",
            "max": 1,
            "_view_module": "@jupyter-widgets/controls",
            "_model_module_version": "1.5.0",
            "value": 1,
            "_view_count": null,
            "_view_module_version": "1.5.0",
            "orientation": "horizontal",
            "min": 0,
            "description_tooltip": null,
            "_model_module": "@jupyter-widgets/controls",
            "layout": "IPY_MODEL_79b3740ce82c4954baba771246267004"
          }
        },
        "6cc90794f765425aac4e3e330be03f6c": {
          "model_module": "@jupyter-widgets/controls",
          "model_name": "HTMLModel",
          "model_module_version": "1.5.0",
          "state": {
            "_view_name": "HTMLView",
            "style": "IPY_MODEL_59d63972a77b45f18c74001e23bc4d7d",
            "_dom_classes": [],
            "description": "",
            "_model_name": "HTMLModel",
            "placeholder": "​",
            "_view_module": "@jupyter-widgets/controls",
            "_model_module_version": "1.5.0",
            "value": " 1/1 [00:00&lt;00:00,  1.47 url/s]",
            "_view_count": null,
            "_view_module_version": "1.5.0",
            "description_tooltip": null,
            "_model_module": "@jupyter-widgets/controls",
            "layout": "IPY_MODEL_75d616f468294186bd9ace4cccae618c"
          }
        },
        "f512e2a0904b484eacadf508d1dfd5b6": {
          "model_module": "@jupyter-widgets/controls",
          "model_name": "DescriptionStyleModel",
          "model_module_version": "1.5.0",
          "state": {
            "_view_name": "StyleView",
            "_model_name": "DescriptionStyleModel",
            "description_width": "",
            "_view_module": "@jupyter-widgets/base",
            "_model_module_version": "1.5.0",
            "_view_count": null,
            "_view_module_version": "1.2.0",
            "_model_module": "@jupyter-widgets/controls"
          }
        },
        "82294c03c6694484b168b05a080de214": {
          "model_module": "@jupyter-widgets/base",
          "model_name": "LayoutModel",
          "model_module_version": "1.2.0",
          "state": {
            "_view_name": "LayoutView",
            "grid_template_rows": null,
            "right": null,
            "justify_content": null,
            "_view_module": "@jupyter-widgets/base",
            "overflow": null,
            "_model_module_version": "1.2.0",
            "_view_count": null,
            "flex_flow": null,
            "width": null,
            "min_width": null,
            "border": null,
            "align_items": null,
            "bottom": null,
            "_model_module": "@jupyter-widgets/base",
            "top": null,
            "grid_column": null,
            "overflow_y": null,
            "overflow_x": null,
            "grid_auto_flow": null,
            "grid_area": null,
            "grid_template_columns": null,
            "flex": null,
            "_model_name": "LayoutModel",
            "justify_items": null,
            "grid_row": null,
            "max_height": null,
            "align_content": null,
            "visibility": null,
            "align_self": null,
            "height": null,
            "min_height": null,
            "padding": null,
            "grid_auto_rows": null,
            "grid_gap": null,
            "max_width": null,
            "order": null,
            "_view_module_version": "1.2.0",
            "grid_template_areas": null,
            "object_position": null,
            "object_fit": null,
            "grid_auto_columns": null,
            "margin": null,
            "display": null,
            "left": null
          }
        },
        "647463f0fd164534a1d78649d775a679": {
          "model_module": "@jupyter-widgets/controls",
          "model_name": "ProgressStyleModel",
          "model_module_version": "1.5.0",
          "state": {
            "_view_name": "StyleView",
            "_model_name": "ProgressStyleModel",
            "description_width": "",
            "_view_module": "@jupyter-widgets/base",
            "_model_module_version": "1.5.0",
            "_view_count": null,
            "_view_module_version": "1.2.0",
            "bar_color": null,
            "_model_module": "@jupyter-widgets/controls"
          }
        },
        "79b3740ce82c4954baba771246267004": {
          "model_module": "@jupyter-widgets/base",
          "model_name": "LayoutModel",
          "model_module_version": "1.2.0",
          "state": {
            "_view_name": "LayoutView",
            "grid_template_rows": null,
            "right": null,
            "justify_content": null,
            "_view_module": "@jupyter-widgets/base",
            "overflow": null,
            "_model_module_version": "1.2.0",
            "_view_count": null,
            "flex_flow": null,
            "width": "20px",
            "min_width": null,
            "border": null,
            "align_items": null,
            "bottom": null,
            "_model_module": "@jupyter-widgets/base",
            "top": null,
            "grid_column": null,
            "overflow_y": null,
            "overflow_x": null,
            "grid_auto_flow": null,
            "grid_area": null,
            "grid_template_columns": null,
            "flex": null,
            "_model_name": "LayoutModel",
            "justify_items": null,
            "grid_row": null,
            "max_height": null,
            "align_content": null,
            "visibility": null,
            "align_self": null,
            "height": null,
            "min_height": null,
            "padding": null,
            "grid_auto_rows": null,
            "grid_gap": null,
            "max_width": null,
            "order": null,
            "_view_module_version": "1.2.0",
            "grid_template_areas": null,
            "object_position": null,
            "object_fit": null,
            "grid_auto_columns": null,
            "margin": null,
            "display": null,
            "left": null
          }
        },
        "59d63972a77b45f18c74001e23bc4d7d": {
          "model_module": "@jupyter-widgets/controls",
          "model_name": "DescriptionStyleModel",
          "model_module_version": "1.5.0",
          "state": {
            "_view_name": "StyleView",
            "_model_name": "DescriptionStyleModel",
            "description_width": "",
            "_view_module": "@jupyter-widgets/base",
            "_model_module_version": "1.5.0",
            "_view_count": null,
            "_view_module_version": "1.2.0",
            "_model_module": "@jupyter-widgets/controls"
          }
        },
        "75d616f468294186bd9ace4cccae618c": {
          "model_module": "@jupyter-widgets/base",
          "model_name": "LayoutModel",
          "model_module_version": "1.2.0",
          "state": {
            "_view_name": "LayoutView",
            "grid_template_rows": null,
            "right": null,
            "justify_content": null,
            "_view_module": "@jupyter-widgets/base",
            "overflow": null,
            "_model_module_version": "1.2.0",
            "_view_count": null,
            "flex_flow": null,
            "width": null,
            "min_width": null,
            "border": null,
            "align_items": null,
            "bottom": null,
            "_model_module": "@jupyter-widgets/base",
            "top": null,
            "grid_column": null,
            "overflow_y": null,
            "overflow_x": null,
            "grid_auto_flow": null,
            "grid_area": null,
            "grid_template_columns": null,
            "flex": null,
            "_model_name": "LayoutModel",
            "justify_items": null,
            "grid_row": null,
            "max_height": null,
            "align_content": null,
            "visibility": null,
            "align_self": null,
            "height": null,
            "min_height": null,
            "padding": null,
            "grid_auto_rows": null,
            "grid_gap": null,
            "max_width": null,
            "order": null,
            "_view_module_version": "1.2.0",
            "grid_template_areas": null,
            "object_position": null,
            "object_fit": null,
            "grid_auto_columns": null,
            "margin": null,
            "display": null,
            "left": null
          }
        },
        "ed7744362b674594913959a5a4636989": {
          "model_module": "@jupyter-widgets/controls",
          "model_name": "HBoxModel",
          "model_module_version": "1.5.0",
          "state": {
            "_view_name": "HBoxView",
            "_dom_classes": [],
            "_model_name": "HBoxModel",
            "_view_module": "@jupyter-widgets/controls",
            "_model_module_version": "1.5.0",
            "_view_count": null,
            "_view_module_version": "1.5.0",
            "box_style": "",
            "layout": "IPY_MODEL_6925f9a463c743c3b96686b0ee2f8ed0",
            "_model_module": "@jupyter-widgets/controls",
            "children": [
              "IPY_MODEL_699637197ca34da1a1bda0bc60e48230",
              "IPY_MODEL_8522234d49f9486888c8909a260c57c1",
              "IPY_MODEL_6a2ab3abcf57498fa01ee0fbef0d0ada"
            ]
          }
        },
        "6925f9a463c743c3b96686b0ee2f8ed0": {
          "model_module": "@jupyter-widgets/base",
          "model_name": "LayoutModel",
          "model_module_version": "1.2.0",
          "state": {
            "_view_name": "LayoutView",
            "grid_template_rows": null,
            "right": null,
            "justify_content": null,
            "_view_module": "@jupyter-widgets/base",
            "overflow": null,
            "_model_module_version": "1.2.0",
            "_view_count": null,
            "flex_flow": null,
            "width": null,
            "min_width": null,
            "border": null,
            "align_items": null,
            "bottom": null,
            "_model_module": "@jupyter-widgets/base",
            "top": null,
            "grid_column": null,
            "overflow_y": null,
            "overflow_x": null,
            "grid_auto_flow": null,
            "grid_area": null,
            "grid_template_columns": null,
            "flex": null,
            "_model_name": "LayoutModel",
            "justify_items": null,
            "grid_row": null,
            "max_height": null,
            "align_content": null,
            "visibility": null,
            "align_self": null,
            "height": null,
            "min_height": null,
            "padding": null,
            "grid_auto_rows": null,
            "grid_gap": null,
            "max_width": null,
            "order": null,
            "_view_module_version": "1.2.0",
            "grid_template_areas": null,
            "object_position": null,
            "object_fit": null,
            "grid_auto_columns": null,
            "margin": null,
            "display": null,
            "left": null
          }
        },
        "699637197ca34da1a1bda0bc60e48230": {
          "model_module": "@jupyter-widgets/controls",
          "model_name": "HTMLModel",
          "model_module_version": "1.5.0",
          "state": {
            "_view_name": "HTMLView",
            "style": "IPY_MODEL_8afb8022f0ad4c08bf62dda12a2b47a1",
            "_dom_classes": [],
            "description": "",
            "_model_name": "HTMLModel",
            "placeholder": "​",
            "_view_module": "@jupyter-widgets/controls",
            "_model_module_version": "1.5.0",
            "value": "Dl Size...: 100%",
            "_view_count": null,
            "_view_module_version": "1.5.0",
            "description_tooltip": null,
            "_model_module": "@jupyter-widgets/controls",
            "layout": "IPY_MODEL_d349574d8b574e0da517fc4caa201ad1"
          }
        },
        "8522234d49f9486888c8909a260c57c1": {
          "model_module": "@jupyter-widgets/controls",
          "model_name": "FloatProgressModel",
          "model_module_version": "1.5.0",
          "state": {
            "_view_name": "ProgressView",
            "style": "IPY_MODEL_6ba8c6890d24471f95ccf4459665c5f7",
            "_dom_classes": [],
            "description": "",
            "_model_name": "FloatProgressModel",
            "bar_style": "success",
            "max": 1,
            "_view_module": "@jupyter-widgets/controls",
            "_model_module_version": "1.5.0",
            "value": 1,
            "_view_count": null,
            "_view_module_version": "1.5.0",
            "orientation": "horizontal",
            "min": 0,
            "description_tooltip": null,
            "_model_module": "@jupyter-widgets/controls",
            "layout": "IPY_MODEL_29e75edd2b824c3bb8c354ea1e9a3c06"
          }
        },
        "6a2ab3abcf57498fa01ee0fbef0d0ada": {
          "model_module": "@jupyter-widgets/controls",
          "model_name": "HTMLModel",
          "model_module_version": "1.5.0",
          "state": {
            "_view_name": "HTMLView",
            "style": "IPY_MODEL_18d1192382404dd38f2f01df14c47750",
            "_dom_classes": [],
            "description": "",
            "_model_name": "HTMLModel",
            "placeholder": "​",
            "_view_module": "@jupyter-widgets/controls",
            "_model_module_version": "1.5.0",
            "value": " 4/4 [00:00&lt;00:00,  1.91 MiB/s]",
            "_view_count": null,
            "_view_module_version": "1.5.0",
            "description_tooltip": null,
            "_model_module": "@jupyter-widgets/controls",
            "layout": "IPY_MODEL_fab3813bfbed4c23bf59d30b9ae383d3"
          }
        },
        "8afb8022f0ad4c08bf62dda12a2b47a1": {
          "model_module": "@jupyter-widgets/controls",
          "model_name": "DescriptionStyleModel",
          "model_module_version": "1.5.0",
          "state": {
            "_view_name": "StyleView",
            "_model_name": "DescriptionStyleModel",
            "description_width": "",
            "_view_module": "@jupyter-widgets/base",
            "_model_module_version": "1.5.0",
            "_view_count": null,
            "_view_module_version": "1.2.0",
            "_model_module": "@jupyter-widgets/controls"
          }
        },
        "d349574d8b574e0da517fc4caa201ad1": {
          "model_module": "@jupyter-widgets/base",
          "model_name": "LayoutModel",
          "model_module_version": "1.2.0",
          "state": {
            "_view_name": "LayoutView",
            "grid_template_rows": null,
            "right": null,
            "justify_content": null,
            "_view_module": "@jupyter-widgets/base",
            "overflow": null,
            "_model_module_version": "1.2.0",
            "_view_count": null,
            "flex_flow": null,
            "width": null,
            "min_width": null,
            "border": null,
            "align_items": null,
            "bottom": null,
            "_model_module": "@jupyter-widgets/base",
            "top": null,
            "grid_column": null,
            "overflow_y": null,
            "overflow_x": null,
            "grid_auto_flow": null,
            "grid_area": null,
            "grid_template_columns": null,
            "flex": null,
            "_model_name": "LayoutModel",
            "justify_items": null,
            "grid_row": null,
            "max_height": null,
            "align_content": null,
            "visibility": null,
            "align_self": null,
            "height": null,
            "min_height": null,
            "padding": null,
            "grid_auto_rows": null,
            "grid_gap": null,
            "max_width": null,
            "order": null,
            "_view_module_version": "1.2.0",
            "grid_template_areas": null,
            "object_position": null,
            "object_fit": null,
            "grid_auto_columns": null,
            "margin": null,
            "display": null,
            "left": null
          }
        },
        "6ba8c6890d24471f95ccf4459665c5f7": {
          "model_module": "@jupyter-widgets/controls",
          "model_name": "ProgressStyleModel",
          "model_module_version": "1.5.0",
          "state": {
            "_view_name": "StyleView",
            "_model_name": "ProgressStyleModel",
            "description_width": "",
            "_view_module": "@jupyter-widgets/base",
            "_model_module_version": "1.5.0",
            "_view_count": null,
            "_view_module_version": "1.2.0",
            "bar_color": null,
            "_model_module": "@jupyter-widgets/controls"
          }
        },
        "29e75edd2b824c3bb8c354ea1e9a3c06": {
          "model_module": "@jupyter-widgets/base",
          "model_name": "LayoutModel",
          "model_module_version": "1.2.0",
          "state": {
            "_view_name": "LayoutView",
            "grid_template_rows": null,
            "right": null,
            "justify_content": null,
            "_view_module": "@jupyter-widgets/base",
            "overflow": null,
            "_model_module_version": "1.2.0",
            "_view_count": null,
            "flex_flow": null,
            "width": "20px",
            "min_width": null,
            "border": null,
            "align_items": null,
            "bottom": null,
            "_model_module": "@jupyter-widgets/base",
            "top": null,
            "grid_column": null,
            "overflow_y": null,
            "overflow_x": null,
            "grid_auto_flow": null,
            "grid_area": null,
            "grid_template_columns": null,
            "flex": null,
            "_model_name": "LayoutModel",
            "justify_items": null,
            "grid_row": null,
            "max_height": null,
            "align_content": null,
            "visibility": null,
            "align_self": null,
            "height": null,
            "min_height": null,
            "padding": null,
            "grid_auto_rows": null,
            "grid_gap": null,
            "max_width": null,
            "order": null,
            "_view_module_version": "1.2.0",
            "grid_template_areas": null,
            "object_position": null,
            "object_fit": null,
            "grid_auto_columns": null,
            "margin": null,
            "display": null,
            "left": null
          }
        },
        "18d1192382404dd38f2f01df14c47750": {
          "model_module": "@jupyter-widgets/controls",
          "model_name": "DescriptionStyleModel",
          "model_module_version": "1.5.0",
          "state": {
            "_view_name": "StyleView",
            "_model_name": "DescriptionStyleModel",
            "description_width": "",
            "_view_module": "@jupyter-widgets/base",
            "_model_module_version": "1.5.0",
            "_view_count": null,
            "_view_module_version": "1.2.0",
            "_model_module": "@jupyter-widgets/controls"
          }
        },
        "fab3813bfbed4c23bf59d30b9ae383d3": {
          "model_module": "@jupyter-widgets/base",
          "model_name": "LayoutModel",
          "model_module_version": "1.2.0",
          "state": {
            "_view_name": "LayoutView",
            "grid_template_rows": null,
            "right": null,
            "justify_content": null,
            "_view_module": "@jupyter-widgets/base",
            "overflow": null,
            "_model_module_version": "1.2.0",
            "_view_count": null,
            "flex_flow": null,
            "width": null,
            "min_width": null,
            "border": null,
            "align_items": null,
            "bottom": null,
            "_model_module": "@jupyter-widgets/base",
            "top": null,
            "grid_column": null,
            "overflow_y": null,
            "overflow_x": null,
            "grid_auto_flow": null,
            "grid_area": null,
            "grid_template_columns": null,
            "flex": null,
            "_model_name": "LayoutModel",
            "justify_items": null,
            "grid_row": null,
            "max_height": null,
            "align_content": null,
            "visibility": null,
            "align_self": null,
            "height": null,
            "min_height": null,
            "padding": null,
            "grid_auto_rows": null,
            "grid_gap": null,
            "max_width": null,
            "order": null,
            "_view_module_version": "1.2.0",
            "grid_template_areas": null,
            "object_position": null,
            "object_fit": null,
            "grid_auto_columns": null,
            "margin": null,
            "display": null,
            "left": null
          }
        },
        "f851573a127b4622a54424d1c9a2e834": {
          "model_module": "@jupyter-widgets/controls",
          "model_name": "HBoxModel",
          "model_module_version": "1.5.0",
          "state": {
            "_view_name": "HBoxView",
            "_dom_classes": [],
            "_model_name": "HBoxModel",
            "_view_module": "@jupyter-widgets/controls",
            "_model_module_version": "1.5.0",
            "_view_count": null,
            "_view_module_version": "1.5.0",
            "box_style": "",
            "layout": "IPY_MODEL_8f2981cd3b3a4298ab8a521a9fa3eb37",
            "_model_module": "@jupyter-widgets/controls",
            "children": [
              "IPY_MODEL_b0dd9f6fbc5644ef8b59bee1be0ed538",
              "IPY_MODEL_ec40d7a6a027400f9b711ab95eb925c0",
              "IPY_MODEL_ab9711de133f4f50a12bf54b11fad5a0"
            ]
          }
        },
        "8f2981cd3b3a4298ab8a521a9fa3eb37": {
          "model_module": "@jupyter-widgets/base",
          "model_name": "LayoutModel",
          "model_module_version": "1.2.0",
          "state": {
            "_view_name": "LayoutView",
            "grid_template_rows": null,
            "right": null,
            "justify_content": null,
            "_view_module": "@jupyter-widgets/base",
            "overflow": null,
            "_model_module_version": "1.2.0",
            "_view_count": null,
            "flex_flow": null,
            "width": null,
            "min_width": null,
            "border": null,
            "align_items": null,
            "bottom": null,
            "_model_module": "@jupyter-widgets/base",
            "top": null,
            "grid_column": null,
            "overflow_y": null,
            "overflow_x": null,
            "grid_auto_flow": null,
            "grid_area": null,
            "grid_template_columns": null,
            "flex": null,
            "_model_name": "LayoutModel",
            "justify_items": null,
            "grid_row": null,
            "max_height": null,
            "align_content": null,
            "visibility": null,
            "align_self": null,
            "height": null,
            "min_height": null,
            "padding": null,
            "grid_auto_rows": null,
            "grid_gap": null,
            "max_width": null,
            "order": null,
            "_view_module_version": "1.2.0",
            "grid_template_areas": null,
            "object_position": null,
            "object_fit": null,
            "grid_auto_columns": null,
            "margin": null,
            "display": null,
            "left": null
          }
        },
        "b0dd9f6fbc5644ef8b59bee1be0ed538": {
          "model_module": "@jupyter-widgets/controls",
          "model_name": "HTMLModel",
          "model_module_version": "1.5.0",
          "state": {
            "_view_name": "HTMLView",
            "style": "IPY_MODEL_014ac10ac0024167872f974c49e968b1",
            "_dom_classes": [],
            "description": "",
            "_model_name": "HTMLModel",
            "placeholder": "​",
            "_view_module": "@jupyter-widgets/controls",
            "_model_module_version": "1.5.0",
            "value": "Extraction completed...: 100%",
            "_view_count": null,
            "_view_module_version": "1.5.0",
            "description_tooltip": null,
            "_model_module": "@jupyter-widgets/controls",
            "layout": "IPY_MODEL_ce861ac53aec4fddbb4618efc1789ab0"
          }
        },
        "ec40d7a6a027400f9b711ab95eb925c0": {
          "model_module": "@jupyter-widgets/controls",
          "model_name": "FloatProgressModel",
          "model_module_version": "1.5.0",
          "state": {
            "_view_name": "ProgressView",
            "style": "IPY_MODEL_ff75daa7bdd84050b408a1b018384437",
            "_dom_classes": [],
            "description": "",
            "_model_name": "FloatProgressModel",
            "bar_style": "success",
            "max": 1,
            "_view_module": "@jupyter-widgets/controls",
            "_model_module_version": "1.5.0",
            "value": 1,
            "_view_count": null,
            "_view_module_version": "1.5.0",
            "orientation": "horizontal",
            "min": 0,
            "description_tooltip": null,
            "_model_module": "@jupyter-widgets/controls",
            "layout": "IPY_MODEL_5929e78c62134ef3b790c295a038be05"
          }
        },
        "ab9711de133f4f50a12bf54b11fad5a0": {
          "model_module": "@jupyter-widgets/controls",
          "model_name": "HTMLModel",
          "model_module_version": "1.5.0",
          "state": {
            "_view_name": "HTMLView",
            "style": "IPY_MODEL_bdc3c6a64574486e9659f9dc6960e731",
            "_dom_classes": [],
            "description": "",
            "_model_name": "HTMLModel",
            "placeholder": "​",
            "_view_module": "@jupyter-widgets/controls",
            "_model_module_version": "1.5.0",
            "value": " 1/1 [00:00&lt;00:00,  1.29 file/s]",
            "_view_count": null,
            "_view_module_version": "1.5.0",
            "description_tooltip": null,
            "_model_module": "@jupyter-widgets/controls",
            "layout": "IPY_MODEL_93d77e738d4041a8a2be1acb76844eb6"
          }
        },
        "014ac10ac0024167872f974c49e968b1": {
          "model_module": "@jupyter-widgets/controls",
          "model_name": "DescriptionStyleModel",
          "model_module_version": "1.5.0",
          "state": {
            "_view_name": "StyleView",
            "_model_name": "DescriptionStyleModel",
            "description_width": "",
            "_view_module": "@jupyter-widgets/base",
            "_model_module_version": "1.5.0",
            "_view_count": null,
            "_view_module_version": "1.2.0",
            "_model_module": "@jupyter-widgets/controls"
          }
        },
        "ce861ac53aec4fddbb4618efc1789ab0": {
          "model_module": "@jupyter-widgets/base",
          "model_name": "LayoutModel",
          "model_module_version": "1.2.0",
          "state": {
            "_view_name": "LayoutView",
            "grid_template_rows": null,
            "right": null,
            "justify_content": null,
            "_view_module": "@jupyter-widgets/base",
            "overflow": null,
            "_model_module_version": "1.2.0",
            "_view_count": null,
            "flex_flow": null,
            "width": null,
            "min_width": null,
            "border": null,
            "align_items": null,
            "bottom": null,
            "_model_module": "@jupyter-widgets/base",
            "top": null,
            "grid_column": null,
            "overflow_y": null,
            "overflow_x": null,
            "grid_auto_flow": null,
            "grid_area": null,
            "grid_template_columns": null,
            "flex": null,
            "_model_name": "LayoutModel",
            "justify_items": null,
            "grid_row": null,
            "max_height": null,
            "align_content": null,
            "visibility": null,
            "align_self": null,
            "height": null,
            "min_height": null,
            "padding": null,
            "grid_auto_rows": null,
            "grid_gap": null,
            "max_width": null,
            "order": null,
            "_view_module_version": "1.2.0",
            "grid_template_areas": null,
            "object_position": null,
            "object_fit": null,
            "grid_auto_columns": null,
            "margin": null,
            "display": null,
            "left": null
          }
        },
        "ff75daa7bdd84050b408a1b018384437": {
          "model_module": "@jupyter-widgets/controls",
          "model_name": "ProgressStyleModel",
          "model_module_version": "1.5.0",
          "state": {
            "_view_name": "StyleView",
            "_model_name": "ProgressStyleModel",
            "description_width": "",
            "_view_module": "@jupyter-widgets/base",
            "_model_module_version": "1.5.0",
            "_view_count": null,
            "_view_module_version": "1.2.0",
            "bar_color": null,
            "_model_module": "@jupyter-widgets/controls"
          }
        },
        "5929e78c62134ef3b790c295a038be05": {
          "model_module": "@jupyter-widgets/base",
          "model_name": "LayoutModel",
          "model_module_version": "1.2.0",
          "state": {
            "_view_name": "LayoutView",
            "grid_template_rows": null,
            "right": null,
            "justify_content": null,
            "_view_module": "@jupyter-widgets/base",
            "overflow": null,
            "_model_module_version": "1.2.0",
            "_view_count": null,
            "flex_flow": null,
            "width": "20px",
            "min_width": null,
            "border": null,
            "align_items": null,
            "bottom": null,
            "_model_module": "@jupyter-widgets/base",
            "top": null,
            "grid_column": null,
            "overflow_y": null,
            "overflow_x": null,
            "grid_auto_flow": null,
            "grid_area": null,
            "grid_template_columns": null,
            "flex": null,
            "_model_name": "LayoutModel",
            "justify_items": null,
            "grid_row": null,
            "max_height": null,
            "align_content": null,
            "visibility": null,
            "align_self": null,
            "height": null,
            "min_height": null,
            "padding": null,
            "grid_auto_rows": null,
            "grid_gap": null,
            "max_width": null,
            "order": null,
            "_view_module_version": "1.2.0",
            "grid_template_areas": null,
            "object_position": null,
            "object_fit": null,
            "grid_auto_columns": null,
            "margin": null,
            "display": null,
            "left": null
          }
        },
        "bdc3c6a64574486e9659f9dc6960e731": {
          "model_module": "@jupyter-widgets/controls",
          "model_name": "DescriptionStyleModel",
          "model_module_version": "1.5.0",
          "state": {
            "_view_name": "StyleView",
            "_model_name": "DescriptionStyleModel",
            "description_width": "",
            "_view_module": "@jupyter-widgets/base",
            "_model_module_version": "1.5.0",
            "_view_count": null,
            "_view_module_version": "1.2.0",
            "_model_module": "@jupyter-widgets/controls"
          }
        },
        "93d77e738d4041a8a2be1acb76844eb6": {
          "model_module": "@jupyter-widgets/base",
          "model_name": "LayoutModel",
          "model_module_version": "1.2.0",
          "state": {
            "_view_name": "LayoutView",
            "grid_template_rows": null,
            "right": null,
            "justify_content": null,
            "_view_module": "@jupyter-widgets/base",
            "overflow": null,
            "_model_module_version": "1.2.0",
            "_view_count": null,
            "flex_flow": null,
            "width": null,
            "min_width": null,
            "border": null,
            "align_items": null,
            "bottom": null,
            "_model_module": "@jupyter-widgets/base",
            "top": null,
            "grid_column": null,
            "overflow_y": null,
            "overflow_x": null,
            "grid_auto_flow": null,
            "grid_area": null,
            "grid_template_columns": null,
            "flex": null,
            "_model_name": "LayoutModel",
            "justify_items": null,
            "grid_row": null,
            "max_height": null,
            "align_content": null,
            "visibility": null,
            "align_self": null,
            "height": null,
            "min_height": null,
            "padding": null,
            "grid_auto_rows": null,
            "grid_gap": null,
            "max_width": null,
            "order": null,
            "_view_module_version": "1.2.0",
            "grid_template_areas": null,
            "object_position": null,
            "object_fit": null,
            "grid_auto_columns": null,
            "margin": null,
            "display": null,
            "left": null
          }
        },
        "e04e78131db849c490f5ab056deb83a9": {
          "model_module": "@jupyter-widgets/controls",
          "model_name": "HBoxModel",
          "model_module_version": "1.5.0",
          "state": {
            "_view_name": "HBoxView",
            "_dom_classes": [],
            "_model_name": "HBoxModel",
            "_view_module": "@jupyter-widgets/controls",
            "_model_module_version": "1.5.0",
            "_view_count": null,
            "_view_module_version": "1.5.0",
            "box_style": "",
            "layout": "IPY_MODEL_ce65afba8b06432c947043a8e6b13afc",
            "_model_module": "@jupyter-widgets/controls",
            "children": [
              "IPY_MODEL_41985fb0a00040b398e24904c8df890c",
              "IPY_MODEL_b7d9b4193c10427698c66a282092d8c8",
              "IPY_MODEL_c882ee6d5e0140899c98ca61e552882e"
            ]
          }
        },
        "ce65afba8b06432c947043a8e6b13afc": {
          "model_module": "@jupyter-widgets/base",
          "model_name": "LayoutModel",
          "model_module_version": "1.2.0",
          "state": {
            "_view_name": "LayoutView",
            "grid_template_rows": null,
            "right": null,
            "justify_content": null,
            "_view_module": "@jupyter-widgets/base",
            "overflow": null,
            "_model_module_version": "1.2.0",
            "_view_count": null,
            "flex_flow": null,
            "width": null,
            "min_width": null,
            "border": null,
            "align_items": null,
            "bottom": null,
            "_model_module": "@jupyter-widgets/base",
            "top": null,
            "grid_column": null,
            "overflow_y": null,
            "overflow_x": null,
            "grid_auto_flow": null,
            "grid_area": null,
            "grid_template_columns": null,
            "flex": null,
            "_model_name": "LayoutModel",
            "justify_items": null,
            "grid_row": null,
            "max_height": null,
            "align_content": null,
            "visibility": null,
            "align_self": null,
            "height": null,
            "min_height": null,
            "padding": null,
            "grid_auto_rows": null,
            "grid_gap": null,
            "max_width": null,
            "order": null,
            "_view_module_version": "1.2.0",
            "grid_template_areas": null,
            "object_position": null,
            "object_fit": null,
            "grid_auto_columns": null,
            "margin": null,
            "display": null,
            "left": null
          }
        },
        "41985fb0a00040b398e24904c8df890c": {
          "model_module": "@jupyter-widgets/controls",
          "model_name": "HTMLModel",
          "model_module_version": "1.5.0",
          "state": {
            "_view_name": "HTMLView",
            "style": "IPY_MODEL_c3386bef26ab4e8a923c6a90aad2139a",
            "_dom_classes": [],
            "description": "",
            "_model_name": "HTMLModel",
            "placeholder": "​",
            "_view_module": "@jupyter-widgets/controls",
            "_model_module_version": "1.5.0",
            "value": "Generating splits...: 100%",
            "_view_count": null,
            "_view_module_version": "1.5.0",
            "description_tooltip": null,
            "_model_module": "@jupyter-widgets/controls",
            "layout": "IPY_MODEL_9169b2317e12451da6ee274b771dd12c"
          }
        },
        "b7d9b4193c10427698c66a282092d8c8": {
          "model_module": "@jupyter-widgets/controls",
          "model_name": "FloatProgressModel",
          "model_module_version": "1.5.0",
          "state": {
            "_view_name": "ProgressView",
            "style": "IPY_MODEL_57738680124b45f4a94714449790f0b9",
            "_dom_classes": [],
            "description": "",
            "_model_name": "FloatProgressModel",
            "bar_style": "",
            "max": 1,
            "_view_module": "@jupyter-widgets/controls",
            "_model_module_version": "1.5.0",
            "value": 1,
            "_view_count": null,
            "_view_module_version": "1.5.0",
            "orientation": "horizontal",
            "min": 0,
            "description_tooltip": null,
            "_model_module": "@jupyter-widgets/controls",
            "layout": "IPY_MODEL_cb447747afe14c51b0c99971082bb434"
          }
        },
        "c882ee6d5e0140899c98ca61e552882e": {
          "model_module": "@jupyter-widgets/controls",
          "model_name": "HTMLModel",
          "model_module_version": "1.5.0",
          "state": {
            "_view_name": "HTMLView",
            "style": "IPY_MODEL_684012089d654b6aa3da22957e66dcb7",
            "_dom_classes": [],
            "description": "",
            "_model_name": "HTMLModel",
            "placeholder": "​",
            "_view_module": "@jupyter-widgets/controls",
            "_model_module_version": "1.5.0",
            "value": " 1/1 [01:34&lt;00:00, 94.57s/ splits]",
            "_view_count": null,
            "_view_module_version": "1.5.0",
            "description_tooltip": null,
            "_model_module": "@jupyter-widgets/controls",
            "layout": "IPY_MODEL_20e054fbe6874fce92b443b5852d5e31"
          }
        },
        "c3386bef26ab4e8a923c6a90aad2139a": {
          "model_module": "@jupyter-widgets/controls",
          "model_name": "DescriptionStyleModel",
          "model_module_version": "1.5.0",
          "state": {
            "_view_name": "StyleView",
            "_model_name": "DescriptionStyleModel",
            "description_width": "",
            "_view_module": "@jupyter-widgets/base",
            "_model_module_version": "1.5.0",
            "_view_count": null,
            "_view_module_version": "1.2.0",
            "_model_module": "@jupyter-widgets/controls"
          }
        },
        "9169b2317e12451da6ee274b771dd12c": {
          "model_module": "@jupyter-widgets/base",
          "model_name": "LayoutModel",
          "model_module_version": "1.2.0",
          "state": {
            "_view_name": "LayoutView",
            "grid_template_rows": null,
            "right": null,
            "justify_content": null,
            "_view_module": "@jupyter-widgets/base",
            "overflow": null,
            "_model_module_version": "1.2.0",
            "_view_count": null,
            "flex_flow": null,
            "width": null,
            "min_width": null,
            "border": null,
            "align_items": null,
            "bottom": null,
            "_model_module": "@jupyter-widgets/base",
            "top": null,
            "grid_column": null,
            "overflow_y": null,
            "overflow_x": null,
            "grid_auto_flow": null,
            "grid_area": null,
            "grid_template_columns": null,
            "flex": null,
            "_model_name": "LayoutModel",
            "justify_items": null,
            "grid_row": null,
            "max_height": null,
            "align_content": null,
            "visibility": null,
            "align_self": null,
            "height": null,
            "min_height": null,
            "padding": null,
            "grid_auto_rows": null,
            "grid_gap": null,
            "max_width": null,
            "order": null,
            "_view_module_version": "1.2.0",
            "grid_template_areas": null,
            "object_position": null,
            "object_fit": null,
            "grid_auto_columns": null,
            "margin": null,
            "display": null,
            "left": null
          }
        },
        "57738680124b45f4a94714449790f0b9": {
          "model_module": "@jupyter-widgets/controls",
          "model_name": "ProgressStyleModel",
          "model_module_version": "1.5.0",
          "state": {
            "_view_name": "StyleView",
            "_model_name": "ProgressStyleModel",
            "description_width": "",
            "_view_module": "@jupyter-widgets/base",
            "_model_module_version": "1.5.0",
            "_view_count": null,
            "_view_module_version": "1.2.0",
            "bar_color": null,
            "_model_module": "@jupyter-widgets/controls"
          }
        },
        "cb447747afe14c51b0c99971082bb434": {
          "model_module": "@jupyter-widgets/base",
          "model_name": "LayoutModel",
          "model_module_version": "1.2.0",
          "state": {
            "_view_name": "LayoutView",
            "grid_template_rows": null,
            "right": null,
            "justify_content": null,
            "_view_module": "@jupyter-widgets/base",
            "overflow": null,
            "_model_module_version": "1.2.0",
            "_view_count": null,
            "flex_flow": null,
            "width": null,
            "min_width": null,
            "border": null,
            "align_items": null,
            "bottom": null,
            "_model_module": "@jupyter-widgets/base",
            "top": null,
            "grid_column": null,
            "overflow_y": null,
            "overflow_x": null,
            "grid_auto_flow": null,
            "grid_area": null,
            "grid_template_columns": null,
            "flex": null,
            "_model_name": "LayoutModel",
            "justify_items": null,
            "grid_row": null,
            "max_height": null,
            "align_content": null,
            "visibility": null,
            "align_self": null,
            "height": null,
            "min_height": null,
            "padding": null,
            "grid_auto_rows": null,
            "grid_gap": null,
            "max_width": null,
            "order": null,
            "_view_module_version": "1.2.0",
            "grid_template_areas": null,
            "object_position": null,
            "object_fit": null,
            "grid_auto_columns": null,
            "margin": null,
            "display": null,
            "left": null
          }
        },
        "684012089d654b6aa3da22957e66dcb7": {
          "model_module": "@jupyter-widgets/controls",
          "model_name": "DescriptionStyleModel",
          "model_module_version": "1.5.0",
          "state": {
            "_view_name": "StyleView",
            "_model_name": "DescriptionStyleModel",
            "description_width": "",
            "_view_module": "@jupyter-widgets/base",
            "_model_module_version": "1.5.0",
            "_view_count": null,
            "_view_module_version": "1.2.0",
            "_model_module": "@jupyter-widgets/controls"
          }
        },
        "20e054fbe6874fce92b443b5852d5e31": {
          "model_module": "@jupyter-widgets/base",
          "model_name": "LayoutModel",
          "model_module_version": "1.2.0",
          "state": {
            "_view_name": "LayoutView",
            "grid_template_rows": null,
            "right": null,
            "justify_content": null,
            "_view_module": "@jupyter-widgets/base",
            "overflow": null,
            "_model_module_version": "1.2.0",
            "_view_count": null,
            "flex_flow": null,
            "width": null,
            "min_width": null,
            "border": null,
            "align_items": null,
            "bottom": null,
            "_model_module": "@jupyter-widgets/base",
            "top": null,
            "grid_column": null,
            "overflow_y": null,
            "overflow_x": null,
            "grid_auto_flow": null,
            "grid_area": null,
            "grid_template_columns": null,
            "flex": null,
            "_model_name": "LayoutModel",
            "justify_items": null,
            "grid_row": null,
            "max_height": null,
            "align_content": null,
            "visibility": null,
            "align_self": null,
            "height": null,
            "min_height": null,
            "padding": null,
            "grid_auto_rows": null,
            "grid_gap": null,
            "max_width": null,
            "order": null,
            "_view_module_version": "1.2.0",
            "grid_template_areas": null,
            "object_position": null,
            "object_fit": null,
            "grid_auto_columns": null,
            "margin": null,
            "display": null,
            "left": null
          }
        },
        "e32583a8c9da403faf68befa46848454": {
          "model_module": "@jupyter-widgets/controls",
          "model_name": "HBoxModel",
          "model_module_version": "1.5.0",
          "state": {
            "_view_name": "HBoxView",
            "_dom_classes": [],
            "_model_name": "HBoxModel",
            "_view_module": "@jupyter-widgets/controls",
            "_model_module_version": "1.5.0",
            "_view_count": null,
            "_view_module_version": "1.5.0",
            "box_style": "",
            "layout": "IPY_MODEL_a02d83f39aae49e5ba5c0a2c9c54ccec",
            "_model_module": "@jupyter-widgets/controls",
            "children": [
              "IPY_MODEL_4684b691014247c0a4709200b880e948",
              "IPY_MODEL_3baa233ade7146b091d524d0f964d00f",
              "IPY_MODEL_e2b57ddf802a4dd6805bc8b01171f21c"
            ]
          }
        },
        "a02d83f39aae49e5ba5c0a2c9c54ccec": {
          "model_module": "@jupyter-widgets/base",
          "model_name": "LayoutModel",
          "model_module_version": "1.2.0",
          "state": {
            "_view_name": "LayoutView",
            "grid_template_rows": null,
            "right": null,
            "justify_content": null,
            "_view_module": "@jupyter-widgets/base",
            "overflow": null,
            "_model_module_version": "1.2.0",
            "_view_count": null,
            "flex_flow": null,
            "width": null,
            "min_width": null,
            "border": null,
            "align_items": null,
            "bottom": null,
            "_model_module": "@jupyter-widgets/base",
            "top": null,
            "grid_column": null,
            "overflow_y": null,
            "overflow_x": null,
            "grid_auto_flow": null,
            "grid_area": null,
            "grid_template_columns": null,
            "flex": null,
            "_model_name": "LayoutModel",
            "justify_items": null,
            "grid_row": null,
            "max_height": null,
            "align_content": null,
            "visibility": null,
            "align_self": null,
            "height": null,
            "min_height": null,
            "padding": null,
            "grid_auto_rows": null,
            "grid_gap": null,
            "max_width": null,
            "order": null,
            "_view_module_version": "1.2.0",
            "grid_template_areas": null,
            "object_position": null,
            "object_fit": null,
            "grid_auto_columns": null,
            "margin": null,
            "display": null,
            "left": null
          }
        },
        "4684b691014247c0a4709200b880e948": {
          "model_module": "@jupyter-widgets/controls",
          "model_name": "HTMLModel",
          "model_module_version": "1.5.0",
          "state": {
            "_view_name": "HTMLView",
            "style": "IPY_MODEL_ccde80dc0188446bab3610f61def50d8",
            "_dom_classes": [],
            "description": "",
            "_model_name": "HTMLModel",
            "placeholder": "​",
            "_view_module": "@jupyter-widgets/controls",
            "_model_module_version": "1.5.0",
            "value": "Generating train examples...: 100%",
            "_view_count": null,
            "_view_module_version": "1.5.0",
            "description_tooltip": null,
            "_model_module": "@jupyter-widgets/controls",
            "layout": "IPY_MODEL_2096e72c79fc421ba5fc356fd54962cd"
          }
        },
        "3baa233ade7146b091d524d0f964d00f": {
          "model_module": "@jupyter-widgets/controls",
          "model_name": "FloatProgressModel",
          "model_module_version": "1.5.0",
          "state": {
            "_view_name": "ProgressView",
            "style": "IPY_MODEL_bb847b281701420587d25568dd8ae419",
            "_dom_classes": [],
            "description": "",
            "_model_name": "FloatProgressModel",
            "bar_style": "",
            "max": 100000,
            "_view_module": "@jupyter-widgets/controls",
            "_model_module_version": "1.5.0",
            "value": 100000,
            "_view_count": null,
            "_view_module_version": "1.5.0",
            "orientation": "horizontal",
            "min": 0,
            "description_tooltip": null,
            "_model_module": "@jupyter-widgets/controls",
            "layout": "IPY_MODEL_bc42cf1ca5b94cd3a0276d7874c22210"
          }
        },
        "e2b57ddf802a4dd6805bc8b01171f21c": {
          "model_module": "@jupyter-widgets/controls",
          "model_name": "HTMLModel",
          "model_module_version": "1.5.0",
          "state": {
            "_view_name": "HTMLView",
            "style": "IPY_MODEL_cd9b388262e643b4b651f01e0aac9b73",
            "_dom_classes": [],
            "description": "",
            "_model_name": "HTMLModel",
            "placeholder": "​",
            "_view_module": "@jupyter-widgets/controls",
            "_model_module_version": "1.5.0",
            "value": " 99958/100000 [01:33&lt;00:00, 929.71 examples/s]",
            "_view_count": null,
            "_view_module_version": "1.5.0",
            "description_tooltip": null,
            "_model_module": "@jupyter-widgets/controls",
            "layout": "IPY_MODEL_ea6d6f9a88f14a54ad95dae525a2b86f"
          }
        },
        "ccde80dc0188446bab3610f61def50d8": {
          "model_module": "@jupyter-widgets/controls",
          "model_name": "DescriptionStyleModel",
          "model_module_version": "1.5.0",
          "state": {
            "_view_name": "StyleView",
            "_model_name": "DescriptionStyleModel",
            "description_width": "",
            "_view_module": "@jupyter-widgets/base",
            "_model_module_version": "1.5.0",
            "_view_count": null,
            "_view_module_version": "1.2.0",
            "_model_module": "@jupyter-widgets/controls"
          }
        },
        "2096e72c79fc421ba5fc356fd54962cd": {
          "model_module": "@jupyter-widgets/base",
          "model_name": "LayoutModel",
          "model_module_version": "1.2.0",
          "state": {
            "_view_name": "LayoutView",
            "grid_template_rows": null,
            "right": null,
            "justify_content": null,
            "_view_module": "@jupyter-widgets/base",
            "overflow": null,
            "_model_module_version": "1.2.0",
            "_view_count": null,
            "flex_flow": null,
            "width": null,
            "min_width": null,
            "border": null,
            "align_items": null,
            "bottom": null,
            "_model_module": "@jupyter-widgets/base",
            "top": null,
            "grid_column": null,
            "overflow_y": null,
            "overflow_x": null,
            "grid_auto_flow": null,
            "grid_area": null,
            "grid_template_columns": null,
            "flex": null,
            "_model_name": "LayoutModel",
            "justify_items": null,
            "grid_row": null,
            "max_height": null,
            "align_content": null,
            "visibility": null,
            "align_self": null,
            "height": null,
            "min_height": null,
            "padding": null,
            "grid_auto_rows": null,
            "grid_gap": null,
            "max_width": null,
            "order": null,
            "_view_module_version": "1.2.0",
            "grid_template_areas": null,
            "object_position": null,
            "object_fit": null,
            "grid_auto_columns": null,
            "margin": null,
            "display": null,
            "left": null
          }
        },
        "bb847b281701420587d25568dd8ae419": {
          "model_module": "@jupyter-widgets/controls",
          "model_name": "ProgressStyleModel",
          "model_module_version": "1.5.0",
          "state": {
            "_view_name": "StyleView",
            "_model_name": "ProgressStyleModel",
            "description_width": "",
            "_view_module": "@jupyter-widgets/base",
            "_model_module_version": "1.5.0",
            "_view_count": null,
            "_view_module_version": "1.2.0",
            "bar_color": null,
            "_model_module": "@jupyter-widgets/controls"
          }
        },
        "bc42cf1ca5b94cd3a0276d7874c22210": {
          "model_module": "@jupyter-widgets/base",
          "model_name": "LayoutModel",
          "model_module_version": "1.2.0",
          "state": {
            "_view_name": "LayoutView",
            "grid_template_rows": null,
            "right": null,
            "justify_content": null,
            "_view_module": "@jupyter-widgets/base",
            "overflow": null,
            "_model_module_version": "1.2.0",
            "_view_count": null,
            "flex_flow": null,
            "width": null,
            "min_width": null,
            "border": null,
            "align_items": null,
            "bottom": null,
            "_model_module": "@jupyter-widgets/base",
            "top": null,
            "grid_column": null,
            "overflow_y": null,
            "overflow_x": null,
            "grid_auto_flow": null,
            "grid_area": null,
            "grid_template_columns": null,
            "flex": null,
            "_model_name": "LayoutModel",
            "justify_items": null,
            "grid_row": null,
            "max_height": null,
            "align_content": null,
            "visibility": null,
            "align_self": null,
            "height": null,
            "min_height": null,
            "padding": null,
            "grid_auto_rows": null,
            "grid_gap": null,
            "max_width": null,
            "order": null,
            "_view_module_version": "1.2.0",
            "grid_template_areas": null,
            "object_position": null,
            "object_fit": null,
            "grid_auto_columns": null,
            "margin": null,
            "display": null,
            "left": null
          }
        },
        "cd9b388262e643b4b651f01e0aac9b73": {
          "model_module": "@jupyter-widgets/controls",
          "model_name": "DescriptionStyleModel",
          "model_module_version": "1.5.0",
          "state": {
            "_view_name": "StyleView",
            "_model_name": "DescriptionStyleModel",
            "description_width": "",
            "_view_module": "@jupyter-widgets/base",
            "_model_module_version": "1.5.0",
            "_view_count": null,
            "_view_module_version": "1.2.0",
            "_model_module": "@jupyter-widgets/controls"
          }
        },
        "ea6d6f9a88f14a54ad95dae525a2b86f": {
          "model_module": "@jupyter-widgets/base",
          "model_name": "LayoutModel",
          "model_module_version": "1.2.0",
          "state": {
            "_view_name": "LayoutView",
            "grid_template_rows": null,
            "right": null,
            "justify_content": null,
            "_view_module": "@jupyter-widgets/base",
            "overflow": null,
            "_model_module_version": "1.2.0",
            "_view_count": null,
            "flex_flow": null,
            "width": null,
            "min_width": null,
            "border": null,
            "align_items": null,
            "bottom": null,
            "_model_module": "@jupyter-widgets/base",
            "top": null,
            "grid_column": null,
            "overflow_y": null,
            "overflow_x": null,
            "grid_auto_flow": null,
            "grid_area": null,
            "grid_template_columns": null,
            "flex": null,
            "_model_name": "LayoutModel",
            "justify_items": null,
            "grid_row": null,
            "max_height": null,
            "align_content": null,
            "visibility": null,
            "align_self": null,
            "height": null,
            "min_height": null,
            "padding": null,
            "grid_auto_rows": null,
            "grid_gap": null,
            "max_width": null,
            "order": null,
            "_view_module_version": "1.2.0",
            "grid_template_areas": null,
            "object_position": null,
            "object_fit": null,
            "grid_auto_columns": null,
            "margin": null,
            "display": null,
            "left": null
          }
        },
        "a1a13e317a5d4305b3d1631c495bc94d": {
          "model_module": "@jupyter-widgets/controls",
          "model_name": "HBoxModel",
          "model_module_version": "1.5.0",
          "state": {
            "_view_name": "HBoxView",
            "_dom_classes": [],
            "_model_name": "HBoxModel",
            "_view_module": "@jupyter-widgets/controls",
            "_model_module_version": "1.5.0",
            "_view_count": null,
            "_view_module_version": "1.5.0",
            "box_style": "",
            "layout": "IPY_MODEL_b00bec826dcc45189856c8bcc4c0fe28",
            "_model_module": "@jupyter-widgets/controls",
            "children": [
              "IPY_MODEL_730a15baf9334e1eb0963ff2a1dbc9a1",
              "IPY_MODEL_84a95686f95e4e5e8bc33475b5b7e5c6",
              "IPY_MODEL_cc41e641a97841749d1befaee549f7c1"
            ]
          }
        },
        "b00bec826dcc45189856c8bcc4c0fe28": {
          "model_module": "@jupyter-widgets/base",
          "model_name": "LayoutModel",
          "model_module_version": "1.2.0",
          "state": {
            "_view_name": "LayoutView",
            "grid_template_rows": null,
            "right": null,
            "justify_content": null,
            "_view_module": "@jupyter-widgets/base",
            "overflow": null,
            "_model_module_version": "1.2.0",
            "_view_count": null,
            "flex_flow": null,
            "width": null,
            "min_width": null,
            "border": null,
            "align_items": null,
            "bottom": null,
            "_model_module": "@jupyter-widgets/base",
            "top": null,
            "grid_column": null,
            "overflow_y": null,
            "overflow_x": null,
            "grid_auto_flow": null,
            "grid_area": null,
            "grid_template_columns": null,
            "flex": null,
            "_model_name": "LayoutModel",
            "justify_items": null,
            "grid_row": null,
            "max_height": null,
            "align_content": null,
            "visibility": null,
            "align_self": null,
            "height": null,
            "min_height": null,
            "padding": null,
            "grid_auto_rows": null,
            "grid_gap": null,
            "max_width": null,
            "order": null,
            "_view_module_version": "1.2.0",
            "grid_template_areas": null,
            "object_position": null,
            "object_fit": null,
            "grid_auto_columns": null,
            "margin": null,
            "display": null,
            "left": null
          }
        },
        "730a15baf9334e1eb0963ff2a1dbc9a1": {
          "model_module": "@jupyter-widgets/controls",
          "model_name": "HTMLModel",
          "model_module_version": "1.5.0",
          "state": {
            "_view_name": "HTMLView",
            "style": "IPY_MODEL_25306e6b55f244b2a89d3800cee820c1",
            "_dom_classes": [],
            "description": "",
            "_model_name": "HTMLModel",
            "placeholder": "​",
            "_view_module": "@jupyter-widgets/controls",
            "_model_module_version": "1.5.0",
            "value": "Shuffling movielens-train.tfrecord...:  69%",
            "_view_count": null,
            "_view_module_version": "1.5.0",
            "description_tooltip": null,
            "_model_module": "@jupyter-widgets/controls",
            "layout": "IPY_MODEL_89fbde9a0e8b4fcebcaca9db8f5f66b8"
          }
        },
        "84a95686f95e4e5e8bc33475b5b7e5c6": {
          "model_module": "@jupyter-widgets/controls",
          "model_name": "FloatProgressModel",
          "model_module_version": "1.5.0",
          "state": {
            "_view_name": "ProgressView",
            "style": "IPY_MODEL_6755e7659e544879bf62224c28b0c2a6",
            "_dom_classes": [],
            "description": "",
            "_model_name": "FloatProgressModel",
            "bar_style": "",
            "max": 100000,
            "_view_module": "@jupyter-widgets/controls",
            "_model_module_version": "1.5.0",
            "value": 100000,
            "_view_count": null,
            "_view_module_version": "1.5.0",
            "orientation": "horizontal",
            "min": 0,
            "description_tooltip": null,
            "_model_module": "@jupyter-widgets/controls",
            "layout": "IPY_MODEL_8a44685dfb534dc98a966a96cb9ac588"
          }
        },
        "cc41e641a97841749d1befaee549f7c1": {
          "model_module": "@jupyter-widgets/controls",
          "model_name": "HTMLModel",
          "model_module_version": "1.5.0",
          "state": {
            "_view_name": "HTMLView",
            "style": "IPY_MODEL_18e02c08659c40a99056edb75e8bb16b",
            "_dom_classes": [],
            "description": "",
            "_model_name": "HTMLModel",
            "placeholder": "​",
            "_view_module": "@jupyter-widgets/controls",
            "_model_module_version": "1.5.0",
            "value": " 69324/100000 [00:00&lt;00:00, 222210.79 examples/s]",
            "_view_count": null,
            "_view_module_version": "1.5.0",
            "description_tooltip": null,
            "_model_module": "@jupyter-widgets/controls",
            "layout": "IPY_MODEL_a2850d81170e4d00bf4f2608662e486b"
          }
        },
        "25306e6b55f244b2a89d3800cee820c1": {
          "model_module": "@jupyter-widgets/controls",
          "model_name": "DescriptionStyleModel",
          "model_module_version": "1.5.0",
          "state": {
            "_view_name": "StyleView",
            "_model_name": "DescriptionStyleModel",
            "description_width": "",
            "_view_module": "@jupyter-widgets/base",
            "_model_module_version": "1.5.0",
            "_view_count": null,
            "_view_module_version": "1.2.0",
            "_model_module": "@jupyter-widgets/controls"
          }
        },
        "89fbde9a0e8b4fcebcaca9db8f5f66b8": {
          "model_module": "@jupyter-widgets/base",
          "model_name": "LayoutModel",
          "model_module_version": "1.2.0",
          "state": {
            "_view_name": "LayoutView",
            "grid_template_rows": null,
            "right": null,
            "justify_content": null,
            "_view_module": "@jupyter-widgets/base",
            "overflow": null,
            "_model_module_version": "1.2.0",
            "_view_count": null,
            "flex_flow": null,
            "width": null,
            "min_width": null,
            "border": null,
            "align_items": null,
            "bottom": null,
            "_model_module": "@jupyter-widgets/base",
            "top": null,
            "grid_column": null,
            "overflow_y": null,
            "overflow_x": null,
            "grid_auto_flow": null,
            "grid_area": null,
            "grid_template_columns": null,
            "flex": null,
            "_model_name": "LayoutModel",
            "justify_items": null,
            "grid_row": null,
            "max_height": null,
            "align_content": null,
            "visibility": null,
            "align_self": null,
            "height": null,
            "min_height": null,
            "padding": null,
            "grid_auto_rows": null,
            "grid_gap": null,
            "max_width": null,
            "order": null,
            "_view_module_version": "1.2.0",
            "grid_template_areas": null,
            "object_position": null,
            "object_fit": null,
            "grid_auto_columns": null,
            "margin": null,
            "display": null,
            "left": null
          }
        },
        "6755e7659e544879bf62224c28b0c2a6": {
          "model_module": "@jupyter-widgets/controls",
          "model_name": "ProgressStyleModel",
          "model_module_version": "1.5.0",
          "state": {
            "_view_name": "StyleView",
            "_model_name": "ProgressStyleModel",
            "description_width": "",
            "_view_module": "@jupyter-widgets/base",
            "_model_module_version": "1.5.0",
            "_view_count": null,
            "_view_module_version": "1.2.0",
            "bar_color": null,
            "_model_module": "@jupyter-widgets/controls"
          }
        },
        "8a44685dfb534dc98a966a96cb9ac588": {
          "model_module": "@jupyter-widgets/base",
          "model_name": "LayoutModel",
          "model_module_version": "1.2.0",
          "state": {
            "_view_name": "LayoutView",
            "grid_template_rows": null,
            "right": null,
            "justify_content": null,
            "_view_module": "@jupyter-widgets/base",
            "overflow": null,
            "_model_module_version": "1.2.0",
            "_view_count": null,
            "flex_flow": null,
            "width": null,
            "min_width": null,
            "border": null,
            "align_items": null,
            "bottom": null,
            "_model_module": "@jupyter-widgets/base",
            "top": null,
            "grid_column": null,
            "overflow_y": null,
            "overflow_x": null,
            "grid_auto_flow": null,
            "grid_area": null,
            "grid_template_columns": null,
            "flex": null,
            "_model_name": "LayoutModel",
            "justify_items": null,
            "grid_row": null,
            "max_height": null,
            "align_content": null,
            "visibility": null,
            "align_self": null,
            "height": null,
            "min_height": null,
            "padding": null,
            "grid_auto_rows": null,
            "grid_gap": null,
            "max_width": null,
            "order": null,
            "_view_module_version": "1.2.0",
            "grid_template_areas": null,
            "object_position": null,
            "object_fit": null,
            "grid_auto_columns": null,
            "margin": null,
            "display": null,
            "left": null
          }
        },
        "18e02c08659c40a99056edb75e8bb16b": {
          "model_module": "@jupyter-widgets/controls",
          "model_name": "DescriptionStyleModel",
          "model_module_version": "1.5.0",
          "state": {
            "_view_name": "StyleView",
            "_model_name": "DescriptionStyleModel",
            "description_width": "",
            "_view_module": "@jupyter-widgets/base",
            "_model_module_version": "1.5.0",
            "_view_count": null,
            "_view_module_version": "1.2.0",
            "_model_module": "@jupyter-widgets/controls"
          }
        },
        "a2850d81170e4d00bf4f2608662e486b": {
          "model_module": "@jupyter-widgets/base",
          "model_name": "LayoutModel",
          "model_module_version": "1.2.0",
          "state": {
            "_view_name": "LayoutView",
            "grid_template_rows": null,
            "right": null,
            "justify_content": null,
            "_view_module": "@jupyter-widgets/base",
            "overflow": null,
            "_model_module_version": "1.2.0",
            "_view_count": null,
            "flex_flow": null,
            "width": null,
            "min_width": null,
            "border": null,
            "align_items": null,
            "bottom": null,
            "_model_module": "@jupyter-widgets/base",
            "top": null,
            "grid_column": null,
            "overflow_y": null,
            "overflow_x": null,
            "grid_auto_flow": null,
            "grid_area": null,
            "grid_template_columns": null,
            "flex": null,
            "_model_name": "LayoutModel",
            "justify_items": null,
            "grid_row": null,
            "max_height": null,
            "align_content": null,
            "visibility": null,
            "align_self": null,
            "height": null,
            "min_height": null,
            "padding": null,
            "grid_auto_rows": null,
            "grid_gap": null,
            "max_width": null,
            "order": null,
            "_view_module_version": "1.2.0",
            "grid_template_areas": null,
            "object_position": null,
            "object_fit": null,
            "grid_auto_columns": null,
            "margin": null,
            "display": null,
            "left": null
          }
        }
      }
    }
  },
  "cells": [
    {
      "cell_type": "markdown",
      "metadata": {
        "id": "view-in-github",
        "colab_type": "text"
      },
      "source": [
        "<a href=\"https://colab.research.google.com/github/KevinTheRainmaker/Recommendation_Algorithms/blob/main/colab/tf_recommender/Recommender_Using_TF_1.ipynb\" target=\"_parent\"><img src=\"https://colab.research.google.com/assets/colab-badge.svg\" alt=\"Open In Colab\"/></a>"
      ]
    },
    {
      "cell_type": "code",
      "metadata": {
        "colab": {
          "base_uri": "https://localhost:8080/"
        },
        "id": "llo58hyTsxdS",
        "outputId": "1e456937-0e03-464a-aed4-6906460f9261"
      },
      "source": [
        "!pip install -q tensorflow-recommenders"
      ],
      "execution_count": 1,
      "outputs": [
        {
          "output_type": "stream",
          "name": "stdout",
          "text": [
            "\u001b[?25l\r\u001b[K     |███▉                            | 10 kB 22.5 MB/s eta 0:00:01\r\u001b[K     |███████▋                        | 20 kB 9.5 MB/s eta 0:00:01\r\u001b[K     |███████████▌                    | 30 kB 7.7 MB/s eta 0:00:01\r\u001b[K     |███████████████▎                | 40 kB 7.4 MB/s eta 0:00:01\r\u001b[K     |███████████████████             | 51 kB 5.1 MB/s eta 0:00:01\r\u001b[K     |███████████████████████         | 61 kB 5.2 MB/s eta 0:00:01\r\u001b[K     |██████████████████████████▊     | 71 kB 5.5 MB/s eta 0:00:01\r\u001b[K     |██████████████████████████████▌ | 81 kB 6.2 MB/s eta 0:00:01\r\u001b[K     |████████████████████████████████| 85 kB 1.9 MB/s \n",
            "\u001b[?25h"
          ]
        }
      ]
    },
    {
      "cell_type": "code",
      "metadata": {
        "colab": {
          "base_uri": "https://localhost:8080/"
        },
        "id": "NjXB1TISs4sZ",
        "outputId": "eab5e85c-d174-4ce7-9520-a216309ba195"
      },
      "source": [
        "!pip install -q --upgrade tensorflow-datasets"
      ],
      "execution_count": 2,
      "outputs": [
        {
          "output_type": "stream",
          "name": "stdout",
          "text": [
            "\u001b[K     |████████████████████████████████| 4.0 MB 5.1 MB/s \n",
            "\u001b[?25h"
          ]
        }
      ]
    },
    {
      "cell_type": "code",
      "metadata": {
        "colab": {
          "base_uri": "https://localhost:8080/"
        },
        "id": "dECZWaDU1wA1",
        "outputId": "d961a391-1e1c-463d-dac2-1df3a8796e63"
      },
      "source": [
        "# !pip install wandb -q"
      ],
      "execution_count": 3,
      "outputs": [
        {
          "output_type": "stream",
          "name": "stdout",
          "text": [
            "\u001b[K     |████████████████████████████████| 1.7 MB 11.3 MB/s \n",
            "\u001b[K     |████████████████████████████████| 180 kB 31.9 MB/s \n",
            "\u001b[K     |████████████████████████████████| 97 kB 6.3 MB/s \n",
            "\u001b[K     |████████████████████████████████| 139 kB 51.2 MB/s \n",
            "\u001b[K     |████████████████████████████████| 63 kB 1.6 MB/s \n",
            "\u001b[?25h  Building wheel for subprocess32 (setup.py) ... \u001b[?25l\u001b[?25hdone\n",
            "  Building wheel for pathtools (setup.py) ... \u001b[?25l\u001b[?25hdone\n"
          ]
        }
      ]
    },
    {
      "cell_type": "code",
      "metadata": {
        "id": "aJO4P6BA1xVR"
      },
      "source": [
        "# !wandb login"
      ],
      "execution_count": 3,
      "outputs": []
    },
    {
      "cell_type": "code",
      "metadata": {
        "id": "3RPI2FQa2HLb"
      },
      "source": [
        "# import wandb\n",
        "\n",
        "# wandb.init(project='wandb_recommender',\n",
        "#            config={\n",
        "#                'layer_1_activation':\"relu\",\n",
        "#                'layer_1':256,\n",
        "#                'layer_2_activation':\"relu\",\n",
        "#                'layer_2':64,\n",
        "#                'learning_rate':0.01,\n",
        "#                'dropout_rate':0.2\n",
        "#            })"
      ],
      "execution_count": 4,
      "outputs": []
    },
    {
      "cell_type": "code",
      "metadata": {
        "id": "AGoU56Oq2NIx"
      },
      "source": [
        "# config = wandb.config"
      ],
      "execution_count": 5,
      "outputs": []
    },
    {
      "cell_type": "code",
      "metadata": {
        "id": "I859qMh-2NC5"
      },
      "source": [
        "# from wandb.keras import WandbCallback"
      ],
      "execution_count": 6,
      "outputs": []
    },
    {
      "cell_type": "code",
      "metadata": {
        "id": "zf1Pl8tz2M9r"
      },
      "source": [
        ""
      ],
      "execution_count": 7,
      "outputs": []
    },
    {
      "cell_type": "code",
      "metadata": {
        "colab": {
          "base_uri": "https://localhost:8080/"
        },
        "id": "rBZ9hJ_ts6lz",
        "outputId": "b84f256a-7ed0-47cd-ddfd-b7595f88694a"
      },
      "source": [
        "import os\n",
        "import pprint\n",
        "import tempfile\n",
        "\n",
        "from typing import Dict, Text\n",
        "\n",
        "import numpy as np\n",
        "import tensorflow as tf\n",
        "import tensorflow_datasets as tfds\n",
        "import tensorflow_recommenders as tfrs\n",
        "\n",
        "print(tf.__version__)"
      ],
      "execution_count": 7,
      "outputs": [
        {
          "output_type": "stream",
          "name": "stdout",
          "text": [
            "2.6.0\n"
          ]
        }
      ]
    },
    {
      "cell_type": "code",
      "metadata": {
        "colab": {
          "base_uri": "https://localhost:8080/",
          "height": 184,
          "referenced_widgets": [
            "2d98baae06fb4a81975da61e2751d2af",
            "31790fbc8a1347f291a72aa299881a14",
            "cc62cd65f07f4211abf174ca9bb7f2d7",
            "0000b5bd4a894dc6a5a577f94292d37d",
            "6cc90794f765425aac4e3e330be03f6c",
            "f512e2a0904b484eacadf508d1dfd5b6",
            "82294c03c6694484b168b05a080de214",
            "647463f0fd164534a1d78649d775a679",
            "79b3740ce82c4954baba771246267004",
            "59d63972a77b45f18c74001e23bc4d7d",
            "75d616f468294186bd9ace4cccae618c",
            "ed7744362b674594913959a5a4636989",
            "6925f9a463c743c3b96686b0ee2f8ed0",
            "699637197ca34da1a1bda0bc60e48230",
            "8522234d49f9486888c8909a260c57c1",
            "6a2ab3abcf57498fa01ee0fbef0d0ada",
            "8afb8022f0ad4c08bf62dda12a2b47a1",
            "d349574d8b574e0da517fc4caa201ad1",
            "6ba8c6890d24471f95ccf4459665c5f7",
            "29e75edd2b824c3bb8c354ea1e9a3c06",
            "18d1192382404dd38f2f01df14c47750",
            "fab3813bfbed4c23bf59d30b9ae383d3",
            "f851573a127b4622a54424d1c9a2e834",
            "8f2981cd3b3a4298ab8a521a9fa3eb37",
            "b0dd9f6fbc5644ef8b59bee1be0ed538",
            "ec40d7a6a027400f9b711ab95eb925c0",
            "ab9711de133f4f50a12bf54b11fad5a0",
            "014ac10ac0024167872f974c49e968b1",
            "ce861ac53aec4fddbb4618efc1789ab0",
            "ff75daa7bdd84050b408a1b018384437",
            "5929e78c62134ef3b790c295a038be05",
            "bdc3c6a64574486e9659f9dc6960e731",
            "93d77e738d4041a8a2be1acb76844eb6",
            "e04e78131db849c490f5ab056deb83a9",
            "ce65afba8b06432c947043a8e6b13afc",
            "41985fb0a00040b398e24904c8df890c",
            "b7d9b4193c10427698c66a282092d8c8",
            "c882ee6d5e0140899c98ca61e552882e",
            "c3386bef26ab4e8a923c6a90aad2139a",
            "9169b2317e12451da6ee274b771dd12c",
            "57738680124b45f4a94714449790f0b9",
            "cb447747afe14c51b0c99971082bb434",
            "684012089d654b6aa3da22957e66dcb7",
            "20e054fbe6874fce92b443b5852d5e31",
            "e32583a8c9da403faf68befa46848454",
            "a02d83f39aae49e5ba5c0a2c9c54ccec",
            "4684b691014247c0a4709200b880e948",
            "3baa233ade7146b091d524d0f964d00f",
            "e2b57ddf802a4dd6805bc8b01171f21c",
            "ccde80dc0188446bab3610f61def50d8",
            "2096e72c79fc421ba5fc356fd54962cd",
            "bb847b281701420587d25568dd8ae419",
            "bc42cf1ca5b94cd3a0276d7874c22210",
            "cd9b388262e643b4b651f01e0aac9b73",
            "ea6d6f9a88f14a54ad95dae525a2b86f",
            "a1a13e317a5d4305b3d1631c495bc94d",
            "b00bec826dcc45189856c8bcc4c0fe28",
            "730a15baf9334e1eb0963ff2a1dbc9a1",
            "84a95686f95e4e5e8bc33475b5b7e5c6",
            "cc41e641a97841749d1befaee549f7c1",
            "25306e6b55f244b2a89d3800cee820c1",
            "89fbde9a0e8b4fcebcaca9db8f5f66b8",
            "6755e7659e544879bf62224c28b0c2a6",
            "8a44685dfb534dc98a966a96cb9ac588",
            "18e02c08659c40a99056edb75e8bb16b",
            "a2850d81170e4d00bf4f2608662e486b"
          ]
        },
        "id": "cuMiNQzAtHKG",
        "outputId": "da988b59-750b-423a-fae9-89aa89d2a87c"
      },
      "source": [
        "ratings_raw = tfds.load(\"movielens/100k-ratings\", split=\"train\")\n",
        "print(ratings_raw)"
      ],
      "execution_count": 8,
      "outputs": [
        {
          "output_type": "stream",
          "name": "stdout",
          "text": [
            "\u001b[1mDownloading and preparing dataset 4.70 MiB (download: 4.70 MiB, generated: 32.41 MiB, total: 37.10 MiB) to /root/tensorflow_datasets/movielens/100k-ratings/0.1.0...\u001b[0m\n"
          ]
        },
        {
          "output_type": "display_data",
          "data": {
            "application/vnd.jupyter.widget-view+json": {
              "model_id": "2d98baae06fb4a81975da61e2751d2af",
              "version_minor": 0,
              "version_major": 2
            },
            "text/plain": [
              "Dl Completed...: 0 url [00:00, ? url/s]"
            ]
          },
          "metadata": {}
        },
        {
          "output_type": "display_data",
          "data": {
            "application/vnd.jupyter.widget-view+json": {
              "model_id": "ed7744362b674594913959a5a4636989",
              "version_minor": 0,
              "version_major": 2
            },
            "text/plain": [
              "Dl Size...: 0 MiB [00:00, ? MiB/s]"
            ]
          },
          "metadata": {}
        },
        {
          "output_type": "display_data",
          "data": {
            "application/vnd.jupyter.widget-view+json": {
              "model_id": "f851573a127b4622a54424d1c9a2e834",
              "version_minor": 0,
              "version_major": 2
            },
            "text/plain": [
              "Extraction completed...: 0 file [00:00, ? file/s]"
            ]
          },
          "metadata": {}
        },
        {
          "output_type": "display_data",
          "data": {
            "application/vnd.jupyter.widget-view+json": {
              "model_id": "e04e78131db849c490f5ab056deb83a9",
              "version_minor": 0,
              "version_major": 2
            },
            "text/plain": [
              "Generating splits...:   0%|          | 0/1 [00:00<?, ? splits/s]"
            ]
          },
          "metadata": {}
        },
        {
          "output_type": "display_data",
          "data": {
            "application/vnd.jupyter.widget-view+json": {
              "model_id": "e32583a8c9da403faf68befa46848454",
              "version_minor": 0,
              "version_major": 2
            },
            "text/plain": [
              "Generating train examples...:   0%|          | 0/100000 [00:00<?, ? examples/s]"
            ]
          },
          "metadata": {}
        },
        {
          "output_type": "display_data",
          "data": {
            "application/vnd.jupyter.widget-view+json": {
              "model_id": "a1a13e317a5d4305b3d1631c495bc94d",
              "version_minor": 0,
              "version_major": 2
            },
            "text/plain": [
              "Shuffling movielens-train.tfrecord...:   0%|          | 0/100000 [00:00<?, ? examples/s]"
            ]
          },
          "metadata": {}
        },
        {
          "output_type": "stream",
          "name": "stdout",
          "text": [
            "\u001b[1mDataset movielens downloaded and prepared to /root/tensorflow_datasets/movielens/100k-ratings/0.1.0. Subsequent calls will reuse this data.\u001b[0m\n",
            "<PrefetchDataset shapes: {bucketized_user_age: (), movie_genres: (None,), movie_id: (), movie_title: (), raw_user_age: (), timestamp: (), user_gender: (), user_id: (), user_occupation_label: (), user_occupation_text: (), user_rating: (), user_zip_code: ()}, types: {bucketized_user_age: tf.float32, movie_genres: tf.int64, movie_id: tf.string, movie_title: tf.string, raw_user_age: tf.float32, timestamp: tf.int64, user_gender: tf.bool, user_id: tf.string, user_occupation_label: tf.int64, user_occupation_text: tf.string, user_rating: tf.float32, user_zip_code: tf.string}>\n"
          ]
        }
      ]
    },
    {
      "cell_type": "code",
      "metadata": {
        "id": "78eYWd0-wPup"
      },
      "source": [
        "ratings = ratings_raw.map(lambda x: {\n",
        "    \"movie_title\": x[\"movie_title\"],\n",
        "    \"user_id\": x[\"user_id\"],\n",
        "    \"user_rating\": x[\"user_rating\"]\n",
        "})"
      ],
      "execution_count": 9,
      "outputs": []
    },
    {
      "cell_type": "code",
      "metadata": {
        "id": "wM6crU_ftOsK"
      },
      "source": [
        "shuffled = ratings.shuffle(100_000, reshuffle_each_iteration=False)\n",
        "\n",
        "train = shuffled.take(80_000)\n",
        "test = shuffled.skip(80_000).take(20_000)"
      ],
      "execution_count": 10,
      "outputs": []
    },
    {
      "cell_type": "code",
      "metadata": {
        "id": "CU8hrE7mt2sQ"
      },
      "source": [
        "movie_titles = ratings.batch(1_000_000).map(lambda x: x[\"movie_title\"])\n",
        "user_ids = ratings.batch(1_000_000).map(lambda x: x[\"user_id\"])\n",
        "\n",
        "unique_movie_titles = np.unique(np.concatenate(list(movie_titles)))\n",
        "unique_user_ids = np.unique(np.concatenate(list(user_ids)))"
      ],
      "execution_count": 11,
      "outputs": []
    },
    {
      "cell_type": "code",
      "metadata": {
        "id": "ynfjgc0ht64W"
      },
      "source": [
        "class RankingModel(tf.keras.Model):\n",
        "\n",
        "  def __init__(self):\n",
        "    super().__init__()\n",
        "    embedding_dimension = 32\n",
        "\n",
        "    # Compute embeddings for users.\n",
        "    self.user_embeddings = tf.keras.Sequential([\n",
        "      tf.keras.layers.StringLookup(\n",
        "        vocabulary=unique_user_ids, mask_token=None),\n",
        "      tf.keras.layers.Embedding(len(unique_user_ids) + 1, embedding_dimension)\n",
        "    ])\n",
        "\n",
        "    # Compute embeddings for movies.\n",
        "    self.movie_embeddings = tf.keras.Sequential([\n",
        "      tf.keras.layers.StringLookup(\n",
        "        vocabulary=unique_movie_titles, mask_token=None),\n",
        "      tf.keras.layers.Embedding(len(unique_movie_titles) + 1, embedding_dimension)\n",
        "    ])\n",
        "\n",
        "    # Compute predictions.\n",
        "    self.ratings = tf.keras.Sequential([\n",
        "      # Learn multiple dense layers.\n",
        "      tf.keras.layers.Dense(256, activation='relu'),\n",
        "      # tf.keras.layers.Dense(config.layer_1, activation=config.layer_1_activation),\n",
        "      tf.keras.layers.Dense(64, activation='relu'),\n",
        "      # tf.keras.layers.Dense(config.layer_2, activation=config.layer_2_activation),\n",
        "      tf.keras.layers.Dropout(0.2),\n",
        "      # Make rating predictions in the final layer.\n",
        "      tf.keras.layers.Dense(1)\n",
        "  ])\n",
        "\n",
        "  def call(self, inputs):\n",
        "\n",
        "    user_id, movie_title = inputs\n",
        "\n",
        "    user_embedding = self.user_embeddings(user_id)\n",
        "    movie_embedding = self.movie_embeddings(movie_title)\n",
        "\n",
        "    return self.ratings(tf.concat([user_embedding, movie_embedding], axis=1))"
      ],
      "execution_count": 12,
      "outputs": []
    },
    {
      "cell_type": "code",
      "metadata": {
        "colab": {
          "base_uri": "https://localhost:8080/"
        },
        "id": "ZDShxAUQuFgP",
        "outputId": "cec074fe-8fb2-445a-f55c-a82f781a8dae"
      },
      "source": [
        "RankingModel()(([\"1\"], [\"One Flew Over the Cuckoo's Nest (1975)\"]))"
      ],
      "execution_count": 13,
      "outputs": [
        {
          "output_type": "stream",
          "name": "stdout",
          "text": [
            "WARNING:tensorflow:Layers in a Sequential model should only have a single input tensor, but we receive a <class 'list'> input: ['1']\n",
            "Consider rewriting this model with the Functional API.\n"
          ]
        },
        {
          "output_type": "stream",
          "name": "stderr",
          "text": [
            "WARNING:tensorflow:Layers in a Sequential model should only have a single input tensor, but we receive a <class 'list'> input: ['1']\n",
            "Consider rewriting this model with the Functional API.\n"
          ]
        },
        {
          "output_type": "stream",
          "name": "stdout",
          "text": [
            "WARNING:tensorflow:Layers in a Sequential model should only have a single input tensor, but we receive a <class 'list'> input: [\"One Flew Over the Cuckoo's Nest (1975)\"]\n",
            "Consider rewriting this model with the Functional API.\n"
          ]
        },
        {
          "output_type": "stream",
          "name": "stderr",
          "text": [
            "WARNING:tensorflow:Layers in a Sequential model should only have a single input tensor, but we receive a <class 'list'> input: [\"One Flew Over the Cuckoo's Nest (1975)\"]\n",
            "Consider rewriting this model with the Functional API.\n"
          ]
        },
        {
          "output_type": "execute_result",
          "data": {
            "text/plain": [
              "<tf.Tensor: shape=(1, 1), dtype=float32, numpy=array([[0.0085304]], dtype=float32)>"
            ]
          },
          "metadata": {},
          "execution_count": 13
        }
      ]
    },
    {
      "cell_type": "code",
      "metadata": {
        "id": "dT0TNRgHuMqm"
      },
      "source": [
        "task = tfrs.tasks.Ranking(\n",
        "  loss = tf.keras.losses.MeanSquaredError(),\n",
        "  metrics=[tf.keras.metrics.RootMeanSquaredError()]\n",
        ")"
      ],
      "execution_count": 14,
      "outputs": []
    },
    {
      "cell_type": "code",
      "metadata": {
        "id": "lwkKlD4juPqP"
      },
      "source": [
        ""
      ],
      "execution_count": 14,
      "outputs": []
    },
    {
      "cell_type": "code",
      "metadata": {
        "id": "b8JP7KESui8k"
      },
      "source": [
        ""
      ],
      "execution_count": 14,
      "outputs": []
    },
    {
      "cell_type": "code",
      "metadata": {
        "id": "csL94S0pui3B"
      },
      "source": [
        "class MovielensModel(tfrs.models.Model):\n",
        "\n",
        "  def __init__(self):\n",
        "    super().__init__()\n",
        "    self.ranking_model: tf.keras.Model = RankingModel()\n",
        "    self.task: tf.keras.layers.Layer = tfrs.tasks.Ranking(\n",
        "      loss = tf.keras.losses.MeanSquaredError(),\n",
        "      metrics=[tf.keras.metrics.RootMeanSquaredError()]\n",
        "    )\n",
        "\n",
        "  def call(self, features: Dict[str, tf.Tensor]) -> tf.Tensor:\n",
        "    return self.ranking_model(\n",
        "        (features[\"user_id\"], features[\"movie_title\"]))\n",
        "\n",
        "  def compute_loss(self, features: Dict[Text, tf.Tensor], training=False) -> tf.Tensor:\n",
        "    labels = features.pop(\"user_rating\")\n",
        "\n",
        "    rating_predictions = self(features)\n",
        "\n",
        "    # The task computes the loss and the metrics.\n",
        "    return self.task(labels=labels, predictions=rating_predictions)"
      ],
      "execution_count": 15,
      "outputs": []
    },
    {
      "cell_type": "code",
      "metadata": {
        "id": "4roNFszqukY0"
      },
      "source": [
        "model = MovielensModel()\n",
        "model.compile(optimizer=tf.keras.optimizers.Adagrad(learning_rate=0.01))"
      ],
      "execution_count": 16,
      "outputs": []
    },
    {
      "cell_type": "code",
      "metadata": {
        "id": "JH-aUnmtunxu"
      },
      "source": [
        "cached_train = train.shuffle(100_000).batch(4096).cache()\n",
        "cached_test = test.batch(2048).cache()"
      ],
      "execution_count": 17,
      "outputs": []
    },
    {
      "cell_type": "code",
      "metadata": {
        "colab": {
          "base_uri": "https://localhost:8080/"
        },
        "id": "ceKXt3cwupuy",
        "outputId": "a92c377a-df54-48be-988b-dcf867f758ca"
      },
      "source": [
        "model.fit(cached_train, epochs=100)"
      ],
      "execution_count": 18,
      "outputs": [
        {
          "output_type": "stream",
          "name": "stdout",
          "text": [
            "Epoch 1/100\n",
            "20/20 [==============================] - 5s 39ms/step - root_mean_squared_error: 2.7268 - loss: 7.0490 - regularization_loss: 0.0000e+00 - total_loss: 7.0490\n",
            "Epoch 2/100\n",
            "20/20 [==============================] - 1s 27ms/step - root_mean_squared_error: 1.1553 - loss: 1.3275 - regularization_loss: 0.0000e+00 - total_loss: 1.3275\n",
            "Epoch 3/100\n",
            "20/20 [==============================] - 1s 29ms/step - root_mean_squared_error: 1.1229 - loss: 1.2586 - regularization_loss: 0.0000e+00 - total_loss: 1.2586\n",
            "Epoch 4/100\n",
            "20/20 [==============================] - 1s 28ms/step - root_mean_squared_error: 1.1206 - loss: 1.2534 - regularization_loss: 0.0000e+00 - total_loss: 1.2534\n",
            "Epoch 5/100\n",
            "20/20 [==============================] - 1s 29ms/step - root_mean_squared_error: 1.1182 - loss: 1.2482 - regularization_loss: 0.0000e+00 - total_loss: 1.2482\n",
            "Epoch 6/100\n",
            "20/20 [==============================] - 1s 29ms/step - root_mean_squared_error: 1.1157 - loss: 1.2426 - regularization_loss: 0.0000e+00 - total_loss: 1.2426\n",
            "Epoch 7/100\n",
            "20/20 [==============================] - 1s 28ms/step - root_mean_squared_error: 1.1130 - loss: 1.2367 - regularization_loss: 0.0000e+00 - total_loss: 1.2367\n",
            "Epoch 8/100\n",
            "20/20 [==============================] - 1s 29ms/step - root_mean_squared_error: 1.1101 - loss: 1.2302 - regularization_loss: 0.0000e+00 - total_loss: 1.2302\n",
            "Epoch 9/100\n",
            "20/20 [==============================] - 1s 28ms/step - root_mean_squared_error: 1.1069 - loss: 1.2230 - regularization_loss: 0.0000e+00 - total_loss: 1.2230\n",
            "Epoch 10/100\n",
            "20/20 [==============================] - 1s 29ms/step - root_mean_squared_error: 1.1033 - loss: 1.2151 - regularization_loss: 0.0000e+00 - total_loss: 1.2151\n",
            "Epoch 11/100\n",
            "20/20 [==============================] - 1s 29ms/step - root_mean_squared_error: 1.0993 - loss: 1.2064 - regularization_loss: 0.0000e+00 - total_loss: 1.2064\n",
            "Epoch 12/100\n",
            "20/20 [==============================] - 1s 28ms/step - root_mean_squared_error: 1.0950 - loss: 1.1968 - regularization_loss: 0.0000e+00 - total_loss: 1.1968\n",
            "Epoch 13/100\n",
            "20/20 [==============================] - 1s 29ms/step - root_mean_squared_error: 1.0902 - loss: 1.1865 - regularization_loss: 0.0000e+00 - total_loss: 1.1865\n",
            "Epoch 14/100\n",
            "20/20 [==============================] - 1s 28ms/step - root_mean_squared_error: 1.0851 - loss: 1.1755 - regularization_loss: 0.0000e+00 - total_loss: 1.1755\n",
            "Epoch 15/100\n",
            "20/20 [==============================] - 1s 29ms/step - root_mean_squared_error: 1.0797 - loss: 1.1638 - regularization_loss: 0.0000e+00 - total_loss: 1.1638\n",
            "Epoch 16/100\n",
            "20/20 [==============================] - 1s 29ms/step - root_mean_squared_error: 1.0741 - loss: 1.1517 - regularization_loss: 0.0000e+00 - total_loss: 1.1517\n",
            "Epoch 17/100\n",
            "20/20 [==============================] - 1s 29ms/step - root_mean_squared_error: 1.0682 - loss: 1.1391 - regularization_loss: 0.0000e+00 - total_loss: 1.1391\n",
            "Epoch 18/100\n",
            "20/20 [==============================] - 1s 28ms/step - root_mean_squared_error: 1.0621 - loss: 1.1263 - regularization_loss: 0.0000e+00 - total_loss: 1.1263\n",
            "Epoch 19/100\n",
            "20/20 [==============================] - 1s 30ms/step - root_mean_squared_error: 1.0560 - loss: 1.1132 - regularization_loss: 0.0000e+00 - total_loss: 1.1132\n",
            "Epoch 20/100\n",
            "20/20 [==============================] - 1s 27ms/step - root_mean_squared_error: 1.0497 - loss: 1.1001 - regularization_loss: 0.0000e+00 - total_loss: 1.1001\n",
            "Epoch 21/100\n",
            "20/20 [==============================] - 1s 28ms/step - root_mean_squared_error: 1.0434 - loss: 1.0869 - regularization_loss: 0.0000e+00 - total_loss: 1.0869\n",
            "Epoch 22/100\n",
            "20/20 [==============================] - 1s 28ms/step - root_mean_squared_error: 1.0371 - loss: 1.0739 - regularization_loss: 0.0000e+00 - total_loss: 1.0739\n",
            "Epoch 23/100\n",
            "20/20 [==============================] - 1s 29ms/step - root_mean_squared_error: 1.0309 - loss: 1.0611 - regularization_loss: 0.0000e+00 - total_loss: 1.0611\n",
            "Epoch 24/100\n",
            "20/20 [==============================] - 1s 29ms/step - root_mean_squared_error: 1.0248 - loss: 1.0486 - regularization_loss: 0.0000e+00 - total_loss: 1.0486\n",
            "Epoch 25/100\n",
            "20/20 [==============================] - 1s 29ms/step - root_mean_squared_error: 1.0190 - loss: 1.0366 - regularization_loss: 0.0000e+00 - total_loss: 1.0366\n",
            "Epoch 26/100\n",
            "20/20 [==============================] - 1s 29ms/step - root_mean_squared_error: 1.0133 - loss: 1.0252 - regularization_loss: 0.0000e+00 - total_loss: 1.0252\n",
            "Epoch 27/100\n",
            "20/20 [==============================] - 1s 28ms/step - root_mean_squared_error: 1.0079 - loss: 1.0143 - regularization_loss: 0.0000e+00 - total_loss: 1.0143\n",
            "Epoch 28/100\n",
            "20/20 [==============================] - 1s 30ms/step - root_mean_squared_error: 1.0028 - loss: 1.0039 - regularization_loss: 0.0000e+00 - total_loss: 1.0039\n",
            "Epoch 29/100\n",
            "20/20 [==============================] - 1s 27ms/step - root_mean_squared_error: 0.9979 - loss: 0.9942 - regularization_loss: 0.0000e+00 - total_loss: 0.9942\n",
            "Epoch 30/100\n",
            "20/20 [==============================] - 1s 28ms/step - root_mean_squared_error: 0.9933 - loss: 0.9851 - regularization_loss: 0.0000e+00 - total_loss: 0.9851\n",
            "Epoch 31/100\n",
            "20/20 [==============================] - 1s 28ms/step - root_mean_squared_error: 0.9890 - loss: 0.9765 - regularization_loss: 0.0000e+00 - total_loss: 0.9765\n",
            "Epoch 32/100\n",
            "20/20 [==============================] - 1s 27ms/step - root_mean_squared_error: 0.9849 - loss: 0.9685 - regularization_loss: 0.0000e+00 - total_loss: 0.9685\n",
            "Epoch 33/100\n",
            "20/20 [==============================] - 1s 28ms/step - root_mean_squared_error: 0.9811 - loss: 0.9611 - regularization_loss: 0.0000e+00 - total_loss: 0.9611\n",
            "Epoch 34/100\n",
            "20/20 [==============================] - 1s 27ms/step - root_mean_squared_error: 0.9776 - loss: 0.9542 - regularization_loss: 0.0000e+00 - total_loss: 0.9542\n",
            "Epoch 35/100\n",
            "20/20 [==============================] - 1s 28ms/step - root_mean_squared_error: 0.9743 - loss: 0.9478 - regularization_loss: 0.0000e+00 - total_loss: 0.9478\n",
            "Epoch 36/100\n",
            "20/20 [==============================] - 1s 28ms/step - root_mean_squared_error: 0.9712 - loss: 0.9418 - regularization_loss: 0.0000e+00 - total_loss: 0.9418\n",
            "Epoch 37/100\n",
            "20/20 [==============================] - 1s 27ms/step - root_mean_squared_error: 0.9684 - loss: 0.9362 - regularization_loss: 0.0000e+00 - total_loss: 0.9362\n",
            "Epoch 38/100\n",
            "20/20 [==============================] - 1s 28ms/step - root_mean_squared_error: 0.9657 - loss: 0.9310 - regularization_loss: 0.0000e+00 - total_loss: 0.9310\n",
            "Epoch 39/100\n",
            "20/20 [==============================] - 1s 28ms/step - root_mean_squared_error: 0.9632 - loss: 0.9261 - regularization_loss: 0.0000e+00 - total_loss: 0.9261\n",
            "Epoch 40/100\n",
            "20/20 [==============================] - 1s 28ms/step - root_mean_squared_error: 0.9608 - loss: 0.9216 - regularization_loss: 0.0000e+00 - total_loss: 0.9216\n",
            "Epoch 41/100\n",
            "20/20 [==============================] - 1s 27ms/step - root_mean_squared_error: 0.9586 - loss: 0.9173 - regularization_loss: 0.0000e+00 - total_loss: 0.9173\n",
            "Epoch 42/100\n",
            "20/20 [==============================] - 1s 28ms/step - root_mean_squared_error: 0.9565 - loss: 0.9133 - regularization_loss: 0.0000e+00 - total_loss: 0.9133\n",
            "Epoch 43/100\n",
            "20/20 [==============================] - 1s 28ms/step - root_mean_squared_error: 0.9545 - loss: 0.9095 - regularization_loss: 0.0000e+00 - total_loss: 0.9095\n",
            "Epoch 44/100\n",
            "20/20 [==============================] - 1s 29ms/step - root_mean_squared_error: 0.9527 - loss: 0.9060 - regularization_loss: 0.0000e+00 - total_loss: 0.9060\n",
            "Epoch 45/100\n",
            "20/20 [==============================] - 1s 28ms/step - root_mean_squared_error: 0.9509 - loss: 0.9026 - regularization_loss: 0.0000e+00 - total_loss: 0.9026\n",
            "Epoch 46/100\n",
            "20/20 [==============================] - 1s 28ms/step - root_mean_squared_error: 0.9493 - loss: 0.8995 - regularization_loss: 0.0000e+00 - total_loss: 0.8995\n",
            "Epoch 47/100\n",
            "20/20 [==============================] - 1s 28ms/step - root_mean_squared_error: 0.9477 - loss: 0.8965 - regularization_loss: 0.0000e+00 - total_loss: 0.8965\n",
            "Epoch 48/100\n",
            "20/20 [==============================] - 1s 28ms/step - root_mean_squared_error: 0.9462 - loss: 0.8936 - regularization_loss: 0.0000e+00 - total_loss: 0.8936\n",
            "Epoch 49/100\n",
            "20/20 [==============================] - 1s 28ms/step - root_mean_squared_error: 0.9448 - loss: 0.8910 - regularization_loss: 0.0000e+00 - total_loss: 0.8910\n",
            "Epoch 50/100\n",
            "20/20 [==============================] - 1s 27ms/step - root_mean_squared_error: 0.9435 - loss: 0.8884 - regularization_loss: 0.0000e+00 - total_loss: 0.8884\n",
            "Epoch 51/100\n",
            "20/20 [==============================] - 1s 28ms/step - root_mean_squared_error: 0.9422 - loss: 0.8860 - regularization_loss: 0.0000e+00 - total_loss: 0.8860\n",
            "Epoch 52/100\n",
            "20/20 [==============================] - 1s 28ms/step - root_mean_squared_error: 0.9410 - loss: 0.8837 - regularization_loss: 0.0000e+00 - total_loss: 0.8837\n",
            "Epoch 53/100\n",
            "20/20 [==============================] - 1s 28ms/step - root_mean_squared_error: 0.9399 - loss: 0.8816 - regularization_loss: 0.0000e+00 - total_loss: 0.8816\n",
            "Epoch 54/100\n",
            "20/20 [==============================] - 1s 28ms/step - root_mean_squared_error: 0.9388 - loss: 0.8795 - regularization_loss: 0.0000e+00 - total_loss: 0.8795\n",
            "Epoch 55/100\n",
            "20/20 [==============================] - 1s 28ms/step - root_mean_squared_error: 0.9377 - loss: 0.8775 - regularization_loss: 0.0000e+00 - total_loss: 0.8775\n",
            "Epoch 56/100\n",
            "20/20 [==============================] - 1s 28ms/step - root_mean_squared_error: 0.9367 - loss: 0.8757 - regularization_loss: 0.0000e+00 - total_loss: 0.8757\n",
            "Epoch 57/100\n",
            "20/20 [==============================] - 1s 27ms/step - root_mean_squared_error: 0.9358 - loss: 0.8739 - regularization_loss: 0.0000e+00 - total_loss: 0.8739\n",
            "Epoch 58/100\n",
            "20/20 [==============================] - 1s 28ms/step - root_mean_squared_error: 0.9349 - loss: 0.8722 - regularization_loss: 0.0000e+00 - total_loss: 0.8722\n",
            "Epoch 59/100\n",
            "20/20 [==============================] - 1s 27ms/step - root_mean_squared_error: 0.9341 - loss: 0.8706 - regularization_loss: 0.0000e+00 - total_loss: 0.8706\n",
            "Epoch 60/100\n",
            "20/20 [==============================] - 1s 31ms/step - root_mean_squared_error: 0.9332 - loss: 0.8691 - regularization_loss: 0.0000e+00 - total_loss: 0.8691\n",
            "Epoch 61/100\n",
            "20/20 [==============================] - 1s 28ms/step - root_mean_squared_error: 0.9325 - loss: 0.8676 - regularization_loss: 0.0000e+00 - total_loss: 0.8676\n",
            "Epoch 62/100\n",
            "20/20 [==============================] - 1s 27ms/step - root_mean_squared_error: 0.9317 - loss: 0.8662 - regularization_loss: 0.0000e+00 - total_loss: 0.8662\n",
            "Epoch 63/100\n",
            "20/20 [==============================] - 1s 27ms/step - root_mean_squared_error: 0.9310 - loss: 0.8648 - regularization_loss: 0.0000e+00 - total_loss: 0.8648\n",
            "Epoch 64/100\n",
            "20/20 [==============================] - 1s 28ms/step - root_mean_squared_error: 0.9303 - loss: 0.8636 - regularization_loss: 0.0000e+00 - total_loss: 0.8636\n",
            "Epoch 65/100\n",
            "20/20 [==============================] - 1s 28ms/step - root_mean_squared_error: 0.9297 - loss: 0.8623 - regularization_loss: 0.0000e+00 - total_loss: 0.8623\n",
            "Epoch 66/100\n",
            "20/20 [==============================] - 1s 27ms/step - root_mean_squared_error: 0.9291 - loss: 0.8612 - regularization_loss: 0.0000e+00 - total_loss: 0.8612\n",
            "Epoch 67/100\n",
            "20/20 [==============================] - 1s 29ms/step - root_mean_squared_error: 0.9285 - loss: 0.8601 - regularization_loss: 0.0000e+00 - total_loss: 0.8601\n",
            "Epoch 68/100\n",
            "20/20 [==============================] - 1s 28ms/step - root_mean_squared_error: 0.9279 - loss: 0.8590 - regularization_loss: 0.0000e+00 - total_loss: 0.8590\n",
            "Epoch 69/100\n",
            "20/20 [==============================] - 1s 28ms/step - root_mean_squared_error: 0.9274 - loss: 0.8580 - regularization_loss: 0.0000e+00 - total_loss: 0.8580\n",
            "Epoch 70/100\n",
            "20/20 [==============================] - 1s 28ms/step - root_mean_squared_error: 0.9268 - loss: 0.8570 - regularization_loss: 0.0000e+00 - total_loss: 0.8570\n",
            "Epoch 71/100\n",
            "20/20 [==============================] - 1s 28ms/step - root_mean_squared_error: 0.9263 - loss: 0.8560 - regularization_loss: 0.0000e+00 - total_loss: 0.8560\n",
            "Epoch 72/100\n",
            "20/20 [==============================] - 1s 29ms/step - root_mean_squared_error: 0.9259 - loss: 0.8551 - regularization_loss: 0.0000e+00 - total_loss: 0.8551\n",
            "Epoch 73/100\n",
            "20/20 [==============================] - 1s 27ms/step - root_mean_squared_error: 0.9254 - loss: 0.8543 - regularization_loss: 0.0000e+00 - total_loss: 0.8543\n",
            "Epoch 74/100\n",
            "20/20 [==============================] - 1s 28ms/step - root_mean_squared_error: 0.9250 - loss: 0.8535 - regularization_loss: 0.0000e+00 - total_loss: 0.8535\n",
            "Epoch 75/100\n",
            "20/20 [==============================] - 1s 29ms/step - root_mean_squared_error: 0.9245 - loss: 0.8527 - regularization_loss: 0.0000e+00 - total_loss: 0.8527\n",
            "Epoch 76/100\n",
            "20/20 [==============================] - 1s 28ms/step - root_mean_squared_error: 0.9241 - loss: 0.8519 - regularization_loss: 0.0000e+00 - total_loss: 0.8519\n",
            "Epoch 77/100\n",
            "20/20 [==============================] - 1s 29ms/step - root_mean_squared_error: 0.9238 - loss: 0.8512 - regularization_loss: 0.0000e+00 - total_loss: 0.8512\n",
            "Epoch 78/100\n",
            "20/20 [==============================] - 1s 28ms/step - root_mean_squared_error: 0.9234 - loss: 0.8505 - regularization_loss: 0.0000e+00 - total_loss: 0.8505\n",
            "Epoch 79/100\n",
            "20/20 [==============================] - 1s 28ms/step - root_mean_squared_error: 0.9230 - loss: 0.8498 - regularization_loss: 0.0000e+00 - total_loss: 0.8498\n",
            "Epoch 80/100\n",
            "20/20 [==============================] - 1s 28ms/step - root_mean_squared_error: 0.9227 - loss: 0.8492 - regularization_loss: 0.0000e+00 - total_loss: 0.8492\n",
            "Epoch 81/100\n",
            "20/20 [==============================] - 1s 28ms/step - root_mean_squared_error: 0.9224 - loss: 0.8485 - regularization_loss: 0.0000e+00 - total_loss: 0.8485\n",
            "Epoch 82/100\n",
            "20/20 [==============================] - 1s 28ms/step - root_mean_squared_error: 0.9220 - loss: 0.8479 - regularization_loss: 0.0000e+00 - total_loss: 0.8479\n",
            "Epoch 83/100\n",
            "20/20 [==============================] - 1s 28ms/step - root_mean_squared_error: 0.9217 - loss: 0.8474 - regularization_loss: 0.0000e+00 - total_loss: 0.8474\n",
            "Epoch 84/100\n",
            "20/20 [==============================] - 1s 28ms/step - root_mean_squared_error: 0.9214 - loss: 0.8468 - regularization_loss: 0.0000e+00 - total_loss: 0.8468\n",
            "Epoch 85/100\n",
            "20/20 [==============================] - 1s 29ms/step - root_mean_squared_error: 0.9212 - loss: 0.8463 - regularization_loss: 0.0000e+00 - total_loss: 0.8463\n",
            "Epoch 86/100\n",
            "20/20 [==============================] - 1s 28ms/step - root_mean_squared_error: 0.9209 - loss: 0.8458 - regularization_loss: 0.0000e+00 - total_loss: 0.8458\n",
            "Epoch 87/100\n",
            "20/20 [==============================] - 1s 28ms/step - root_mean_squared_error: 0.9206 - loss: 0.8453 - regularization_loss: 0.0000e+00 - total_loss: 0.8453\n",
            "Epoch 88/100\n",
            "20/20 [==============================] - 1s 29ms/step - root_mean_squared_error: 0.9204 - loss: 0.8448 - regularization_loss: 0.0000e+00 - total_loss: 0.8448\n",
            "Epoch 89/100\n",
            "20/20 [==============================] - 1s 27ms/step - root_mean_squared_error: 0.9201 - loss: 0.8443 - regularization_loss: 0.0000e+00 - total_loss: 0.8443\n",
            "Epoch 90/100\n",
            "20/20 [==============================] - 1s 28ms/step - root_mean_squared_error: 0.9199 - loss: 0.8439 - regularization_loss: 0.0000e+00 - total_loss: 0.8439\n",
            "Epoch 91/100\n",
            "20/20 [==============================] - 1s 28ms/step - root_mean_squared_error: 0.9197 - loss: 0.8435 - regularization_loss: 0.0000e+00 - total_loss: 0.8435\n",
            "Epoch 92/100\n",
            "20/20 [==============================] - 1s 29ms/step - root_mean_squared_error: 0.9194 - loss: 0.8430 - regularization_loss: 0.0000e+00 - total_loss: 0.8430\n",
            "Epoch 93/100\n",
            "20/20 [==============================] - 1s 29ms/step - root_mean_squared_error: 0.9192 - loss: 0.8426 - regularization_loss: 0.0000e+00 - total_loss: 0.8426\n",
            "Epoch 94/100\n",
            "20/20 [==============================] - 1s 27ms/step - root_mean_squared_error: 0.9190 - loss: 0.8423 - regularization_loss: 0.0000e+00 - total_loss: 0.8423\n",
            "Epoch 95/100\n",
            "20/20 [==============================] - 1s 28ms/step - root_mean_squared_error: 0.9188 - loss: 0.8419 - regularization_loss: 0.0000e+00 - total_loss: 0.8419\n",
            "Epoch 96/100\n",
            "20/20 [==============================] - 1s 28ms/step - root_mean_squared_error: 0.9186 - loss: 0.8415 - regularization_loss: 0.0000e+00 - total_loss: 0.8415\n",
            "Epoch 97/100\n",
            "20/20 [==============================] - 1s 28ms/step - root_mean_squared_error: 0.9185 - loss: 0.8412 - regularization_loss: 0.0000e+00 - total_loss: 0.8412\n",
            "Epoch 98/100\n",
            "20/20 [==============================] - 1s 28ms/step - root_mean_squared_error: 0.9183 - loss: 0.8409 - regularization_loss: 0.0000e+00 - total_loss: 0.8409\n",
            "Epoch 99/100\n",
            "20/20 [==============================] - 1s 27ms/step - root_mean_squared_error: 0.9181 - loss: 0.8405 - regularization_loss: 0.0000e+00 - total_loss: 0.8405\n",
            "Epoch 100/100\n",
            "20/20 [==============================] - 1s 29ms/step - root_mean_squared_error: 0.9180 - loss: 0.8402 - regularization_loss: 0.0000e+00 - total_loss: 0.8402\n"
          ]
        },
        {
          "output_type": "execute_result",
          "data": {
            "text/plain": [
              "<keras.callbacks.History at 0x7f60aa3e4a50>"
            ]
          },
          "metadata": {},
          "execution_count": 18
        }
      ]
    },
    {
      "cell_type": "code",
      "metadata": {
        "colab": {
          "base_uri": "https://localhost:8080/"
        },
        "id": "UmLL49HiurSM",
        "outputId": "2c8fdb0e-0b15-4ff2-c216-e6a482cb61c8"
      },
      "source": [
        "model.evaluate(cached_test, return_dict=True)"
      ],
      "execution_count": 19,
      "outputs": [
        {
          "output_type": "stream",
          "name": "stdout",
          "text": [
            "10/10 [==============================] - 3s 15ms/step - root_mean_squared_error: 0.9399 - loss: 0.8772 - regularization_loss: 0.0000e+00 - total_loss: 0.8772\n"
          ]
        },
        {
          "output_type": "execute_result",
          "data": {
            "text/plain": [
              "{'loss': 0.8284850120544434,\n",
              " 'regularization_loss': 0,\n",
              " 'root_mean_squared_error': 0.9398870468139648,\n",
              " 'total_loss': 0.8284850120544434}"
            ]
          },
          "metadata": {},
          "execution_count": 19
        }
      ]
    },
    {
      "cell_type": "code",
      "metadata": {
        "colab": {
          "base_uri": "https://localhost:8080/"
        },
        "id": "ARB1YKZTus-c",
        "outputId": "6c573d71-006c-4da8-ed29-11e18c6d64fb"
      },
      "source": [
        "test_ratings = {}\n",
        "test_movie_titles = [\"M*A*S*H (1970)\", \"Dances with Wolves (1990)\", \"Speed (1994)\"]\n",
        "for movie_title in test_movie_titles:\n",
        "  test_ratings[movie_title] = model({\n",
        "      \"user_id\": np.array([\"42\"]),\n",
        "      \"movie_title\": np.array([movie_title])\n",
        "  })\n",
        "\n",
        "print(\"Ratings:\")\n",
        "for title, score in sorted(test_ratings.items(), key=lambda x: x[1], reverse=True):\n",
        "  print(f\"{title}: {score}\")"
      ],
      "execution_count": 20,
      "outputs": [
        {
          "output_type": "stream",
          "name": "stdout",
          "text": [
            "Ratings:\n",
            "M*A*S*H (1970): [[4.076833]]\n",
            "Dances with Wolves (1990): [[3.9437895]]\n",
            "Speed (1994): [[3.7906384]]\n"
          ]
        }
      ]
    },
    {
      "cell_type": "markdown",
      "metadata": {
        "id": "-uVKF8i0vFvK"
      },
      "source": [
        "# Serving"
      ]
    },
    {
      "cell_type": "code",
      "metadata": {
        "colab": {
          "base_uri": "https://localhost:8080/"
        },
        "id": "EX7bvxjLuy93",
        "outputId": "3e4b901a-e5fb-48b3-d3ec-576f789bb8ce"
      },
      "source": [
        "tf.saved_model.save(model, \"export\")"
      ],
      "execution_count": 21,
      "outputs": [
        {
          "output_type": "stream",
          "name": "stderr",
          "text": [
            "WARNING:absl:Found untraced functions such as ranking_1_layer_call_fn, ranking_1_layer_call_and_return_conditional_losses, ranking_1_layer_call_fn, ranking_1_layer_call_and_return_conditional_losses, ranking_1_layer_call_and_return_conditional_losses while saving (showing 5 of 5). These functions will not be directly callable after loading.\n"
          ]
        },
        {
          "output_type": "stream",
          "name": "stdout",
          "text": [
            "INFO:tensorflow:Assets written to: export/assets\n"
          ]
        },
        {
          "output_type": "stream",
          "name": "stderr",
          "text": [
            "INFO:tensorflow:Assets written to: export/assets\n"
          ]
        }
      ]
    },
    {
      "cell_type": "code",
      "metadata": {
        "colab": {
          "base_uri": "https://localhost:8080/"
        },
        "id": "7que-jfAvHgu",
        "outputId": "5af70d89-1ad5-4e60-99d0-fef2770ae202"
      },
      "source": [
        "# Loading\n",
        "loaded = tf.saved_model.load(\"export\")\n",
        "\n",
        "loaded({\"user_id\": np.array([\"42\"]), \"movie_title\": [\"Speed (1994)\"]}).numpy()"
      ],
      "execution_count": 22,
      "outputs": [
        {
          "output_type": "execute_result",
          "data": {
            "text/plain": [
              "array([[3.7906384]], dtype=float32)"
            ]
          },
          "metadata": {},
          "execution_count": 22
        }
      ]
    },
    {
      "cell_type": "code",
      "metadata": {
        "id": "EVeA3LldvKgA"
      },
      "source": [
        ""
      ],
      "execution_count": null,
      "outputs": []
    }
  ]
}