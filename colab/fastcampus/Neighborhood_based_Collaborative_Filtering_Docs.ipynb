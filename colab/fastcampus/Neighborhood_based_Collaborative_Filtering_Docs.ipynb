{
  "nbformat": 4,
  "nbformat_minor": 0,
  "metadata": {
    "colab": {
      "name": "Neighborhood-based_Collaborative_Filtering_Docs.ipynb",
      "provenance": [],
      "collapsed_sections": [],
      "authorship_tag": "ABX9TyPmV8Cj977wB83gBJSh9BL6",
      "include_colab_link": true
    },
    "kernelspec": {
      "name": "python3",
      "display_name": "Python 3"
    },
    "language_info": {
      "name": "python"
    }
  },
  "cells": [
    {
      "cell_type": "markdown",
      "metadata": {
        "id": "view-in-github",
        "colab_type": "text"
      },
      "source": [
        "<a href=\"https://colab.research.google.com/github/KevinTheRainmaker/Recommendation_Algorithms/blob/main/colab/fastcampus/Neighborhood_based_Collaborative_Filtering_Docs.ipynb\" target=\"_parent\"><img src=\"https://colab.research.google.com/assets/colab-badge.svg\" alt=\"Open In Colab\"/></a>"
      ]
    },
    {
      "cell_type": "markdown",
      "metadata": {
        "id": "RDoyR7UYZfT8"
      },
      "source": [
        "# 이웃기반 협업필터링\n",
        "- 많은 사람의 의견으로 더 나은 추천을 하는 필터링 방식\n",
        "- 개인보다 단체 또는 그룹의 선택과 취향에 의존\n",
        "- Memory-based Collaborative Filtering이라고도 함\n",
        "- User-Item간의 평점 등 주어진 데이터로 새로운 아이템 예측\n",
        "\n",
        "### 장점\n",
        "- 구현이 간편하다\n",
        "- Model-based CF에 비해 계산량이 적다\n",
        "- 새로운 user, item이 추가되더라도 비교적 안정적이다\n",
        "- 새로운 content를 추천할 수 있다"
      ]
    },
    {
      "cell_type": "markdown",
      "metadata": {
        "id": "EupdiYNlbvBn"
      },
      "source": [
        "## User-based Collaborative Filtering\n",
        "\n",
        "- 두 사용자가 얼마나 유사한 항목을 좋아했는지 바탕으로 추천: 취향이 비슷한 사용자끼리의 데이터를 바탕으로 추천\n",
        "- 플랫폼에서 유저가 많은 부분을 차지하는 시스템에 적용하기 적절\n",
        "- 평점 등 점수를 정규화하여 추천알고리즘에 적용 (Mean-Centering, Z-score normalization 등)"
      ]
    },
    {
      "cell_type": "markdown",
      "metadata": {
        "id": "stLDHmCMjWAd"
      },
      "source": [
        "## Item-based Collaborative Filtering\n",
        "\n",
        "- 아이템과 아이템 사이의 유사도 계산\n",
        "- 과거 아이템 선호도 데이터를 기반으로 선호 연관성 높은 다른 아이템 추천\n",
        "\n",
        "> **컨텐츠기반 추천시스템과의 차이점**\n",
        ">\n",
        "> 사용자가 좋아한 아이템과 비슷한 아이템을 추천해주는 컨텐츠기반과 달리, 여러 사용자의 과거 선호도 데이터로 연관성 높은 아이템을 찾고, 해당 아이템을 사용자에게 추천\n",
        "\n"
      ]
    },
    {
      "cell_type": "markdown",
      "metadata": {
        "id": "JvB1s7Dakp0x"
      },
      "source": [
        "## User-based V.S. Item-based\n",
        "\n",
        "1. 정확도\n",
        "- User수 < Item 수일 경우: User-based가 우세\n",
        "- User수 > Item 수일 경우: Item-based가 우세\n",
        "\n",
        "2. 모델 Robustness\n",
        "- 유저와 아이템이 얼마나 자주 그리고 많이 변하는지에 다라 다르다\n",
        "- 아이템 수가 크게 변하지 않는다면 Item-based\n",
        "\n",
        "3. 설명력\n",
        "- Item-based는 비슷한 item과 가중치로 함께 설명할 수 있다 (Good)\n",
        "- User-based는 특정 user와 비슷한 user로 분류된 user의 실제 취향을 알기 어렵다 (Bad)\n",
        "\n",
        "4. 새로운 추천 가능\n",
        "- Item-based는 과거 아이템 데이터에 의존하기 때문에 새로운 item을 추천하기 어렵다 (Bad)\n",
        "- User-based는 여러 유저의 데이터를 보기 때문에 더 새로운 추천 가능 (Good)"
      ]
    },
    {
      "cell_type": "markdown",
      "metadata": {
        "id": "uxGYHII8nCQ8"
      },
      "source": [
        "## Neighborhood-based Collaborative Filtering 문제점\n",
        "\n",
        "1. Cold-start\n",
        "- 충분한 데이터가 없다면 좋은 추천 불가\n",
        "- 유저에 대한 아무런 기록이 없다면, 새로운 아이템에 대한 정보가 없다면 추천 불가능\n",
        "\n",
        "2. 계산량\n",
        "- 데이터가 많아질수록 유사도 계산 증가 (속도 감소)\n",
        "- But, 데이터가 많아야 추천 품질 증가 (아이러니)\n",
        "\n",
        "3. Long-Tail Economy\n",
        "- 대부분의 사용자가 관심 갖는 소수 아이템으로 쏠림 현상 발생\n",
        "- 관심이 상대적으로 부족한 아이템은 추천되지 못할 수 있음"
      ]
    }
  ]
}