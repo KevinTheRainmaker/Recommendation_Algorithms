{
  "nbformat": 4,
  "nbformat_minor": 0,
  "metadata": {
    "colab": {
      "name": "Recommender_Trial.ipynb",
      "provenance": [],
      "collapsed_sections": [
        "boF8YkagAi-r",
        "_bt8NZz6Duwu",
        "JJQqPychGnYk"
      ],
      "authorship_tag": "ABX9TyOALbkhO6dsJkcX8rFBwywE",
      "include_colab_link": true
    },
    "kernelspec": {
      "name": "python3",
      "display_name": "Python 3"
    },
    "language_info": {
      "name": "python"
    }
  },
  "cells": [
    {
      "cell_type": "markdown",
      "metadata": {
        "id": "view-in-github",
        "colab_type": "text"
      },
      "source": [
        "<a href=\"https://colab.research.google.com/github/KevinTheRainmaker/Recommendation_Algorithms/blob/main/colab/fastcampus/Recommender_Trial.ipynb\" target=\"_parent\"><img src=\"https://colab.research.google.com/assets/colab-badge.svg\" alt=\"Open In Colab\"/></a>"
      ]
    },
    {
      "cell_type": "markdown",
      "metadata": {
        "id": "gQKMwuWMAAfZ"
      },
      "source": [
        "# 간단한 추천시스템 만들기\n",
        "\n",
        "- Movielens Dataset 이용\n",
        "- 3가지 방식의 간단한 추천 시스템을 구현해보고 평가\n",
        "  - 영화 평균 평점기반 예측\n",
        "  - 사용자 평균 평점기반 예측\n",
        "  - Rule-Based 평점 예측\n",
        "  \n",
        "- 평가 기준은 RMSE"
      ]
    },
    {
      "cell_type": "markdown",
      "metadata": {
        "id": "boF8YkagAi-r"
      },
      "source": [
        "## 0. Configuration\n"
      ]
    },
    {
      "cell_type": "code",
      "metadata": {
        "id": "jLBNiNvv_1n2"
      },
      "source": [
        "import os\n",
        "from tqdm import tqdm # 진행률 Process Bar\n",
        "import pandas as pd\n",
        "import numpy as np\n",
        "\n",
        "from sklearn.model_selection import train_test_split\n",
        "from sklearn.metrics import mean_squared_error\n",
        "from scipy.sparse import csr_matrix # 압축희소행렬(Compressed Sparse Row)\n",
        "\n",
        "import warnings\n",
        "warnings.filterwarnings('ignore')"
      ],
      "execution_count": 1,
      "outputs": []
    },
    {
      "cell_type": "markdown",
      "metadata": {
        "id": "H0w3RykeBiBr"
      },
      "source": [
        " **CSR이란**\n",
        "\n",
        " Compressed sparse row (CSR): 가로의 순서대로 재정렬하는 방법으로 행에 관여하여 정리 압축\n",
        "\n",
        "장점: 산술연산, 행 슬라이싱, 행렬 벡터 곱이 효율적이고 빠름\n",
        "\n",
        "단점: 느린 열 슬라이싱(Compressed Sparse Column 고려), 희소성 구조 변화 시 연산비용 큼 (LIL, DOK 고려)"
      ]
    },
    {
      "cell_type": "markdown",
      "metadata": {
        "id": "_bt8NZz6Duwu"
      },
      "source": [
        "## 1. Dataset\n",
        "\n",
        "- ratings.csv\n",
        "- movies.csv\n",
        "- tags.csv"
      ]
    },
    {
      "cell_type": "code",
      "metadata": {
        "colab": {
          "base_uri": "https://localhost:8080/"
        },
        "id": "NMR4pTZcBhMa",
        "outputId": "bd867292-730a-49c1-adf3-e2769b2f136e"
      },
      "source": [
        "from google.colab import drive\n",
        "drive.mount('/content/drive')"
      ],
      "execution_count": 2,
      "outputs": [
        {
          "output_type": "stream",
          "name": "stdout",
          "text": [
            "Mounted at /content/drive\n"
          ]
        }
      ]
    },
    {
      "cell_type": "code",
      "metadata": {
        "id": "DLA0iPpUD82d"
      },
      "source": [
        "path = '/content/drive/My Drive/data/ml-latest-small'"
      ],
      "execution_count": 4,
      "outputs": []
    },
    {
      "cell_type": "code",
      "metadata": {
        "id": "lIiC3RgpFC6o"
      },
      "source": [
        "ratings_df = pd.read_csv(os.path.join(path, 'ratings.csv'), encoding='utf-8')\n",
        "movies_df = pd.read_csv(os.path.join(path, 'movies.csv'), index_col='movieId', encoding='utf-8')\n",
        "tags_df = pd.read_csv(os.path.join(path, 'tags.csv'), encoding='utf-8')"
      ],
      "execution_count": 5,
      "outputs": []
    },
    {
      "cell_type": "code",
      "metadata": {
        "colab": {
          "base_uri": "https://localhost:8080/"
        },
        "id": "X0jdzs93FcTO",
        "outputId": "53f47cb5-2b78-419d-b8f5-2fc0d58aa5fa"
      },
      "source": [
        "print(ratings_df.shape)\n",
        "print(ratings_df.sample(5))"
      ],
      "execution_count": 6,
      "outputs": [
        {
          "output_type": "stream",
          "name": "stdout",
          "text": [
            "(100836, 4)\n",
            "       userId  movieId  rating   timestamp\n",
            "67883     438     4052     3.5  1105911093\n",
            "49707     318    92637     3.5  1426784369\n",
            "35782     241   118700     3.0  1447536831\n",
            "96741     603     2763     2.0   953926333\n",
            "53002     349      434     3.0   834750699\n"
          ]
        }
      ]
    },
    {
      "cell_type": "code",
      "metadata": {
        "colab": {
          "base_uri": "https://localhost:8080/"
        },
        "id": "KqB37lAWFhO5",
        "outputId": "b3f8d9c5-5b25-493f-dae2-2e6640c3be67"
      },
      "source": [
        "print(movies_df.shape)\n",
        "print(movies_df.sample(5))"
      ],
      "execution_count": 7,
      "outputs": [
        {
          "output_type": "stream",
          "name": "stdout",
          "text": [
            "(9742, 2)\n",
            "                                                     title                                genres\n",
            "movieId                                                                                         \n",
            "122886   Star Wars: Episode VII - The Force Awakens (2015)  Action|Adventure|Fantasy|Sci-Fi|IMAX\n",
            "1023           Winnie the Pooh and the Blustery Day (1968)            Animation|Children|Musical\n",
            "841      Eyes Without a Face (Yeux sans visage, Les) (1...                                Horror\n",
            "6702              Dickie Roberts: Former Child Star (2003)                                Comedy\n",
            "5450                               Lovely & Amazing (2001)                  Comedy|Drama|Romance\n"
          ]
        }
      ]
    },
    {
      "cell_type": "code",
      "metadata": {
        "colab": {
          "base_uri": "https://localhost:8080/"
        },
        "id": "74PJFhuWGUwt",
        "outputId": "4b4ad6f5-228c-4615-eab1-c9aded25c377"
      },
      "source": [
        "print(tags_df.shape)\n",
        "print(tags_df.sample(5))"
      ],
      "execution_count": 8,
      "outputs": [
        {
          "output_type": "stream",
          "name": "stdout",
          "text": [
            "(3683, 4)\n",
            "      userId  movieId          tag   timestamp\n",
            "3454     599      296         gore  1498456511\n",
            "3055     567     6818   disturbing  1525282337\n",
            "2712     477    68358        space  1262795932\n",
            "2592     477     4454  imagination  1245030178\n",
            "3274     567   152077       creepy  1525287447\n"
          ]
        }
      ]
    },
    {
      "cell_type": "markdown",
      "metadata": {
        "id": "JJQqPychGnYk"
      },
      "source": [
        "## 2. About ratings_df"
      ]
    },
    {
      "cell_type": "code",
      "metadata": {
        "colab": {
          "base_uri": "https://localhost:8080/"
        },
        "id": "YxPoDN8PGXOv",
        "outputId": "478ecfca-65a9-460f-d4e1-4d823398380e"
      },
      "source": [
        "num_users = ratings_df['userId'].unique()\n",
        "num_movies = ratings_df['movieId'].unique()\n",
        "\n",
        "print('Total Users:', len(num_users))\n",
        "print('Total Movies:', len(num_movies))"
      ],
      "execution_count": 9,
      "outputs": [
        {
          "output_type": "stream",
          "name": "stdout",
          "text": [
            "Total Users: 610\n",
            "Total Movies: 9724\n"
          ]
        }
      ]
    },
    {
      "cell_type": "code",
      "metadata": {
        "id": "nIgk6aAgHBPd"
      },
      "source": [
        "# pivot ratings into movie features\n",
        "\n",
        "user_movie_matrix = ratings_df.pivot(\n",
        "    index = 'movieId',\n",
        "    columns = 'userId',\n",
        "    values = 'rating'\n",
        ").fillna(0) # NaN to 0\n",
        "\n",
        "# convert dataframe of movie features to scipy sparse matrix\n",
        "sparse_mat = csr_matrix(user_movie_matrix.values)"
      ],
      "execution_count": 10,
      "outputs": []
    },
    {
      "cell_type": "code",
      "metadata": {
        "colab": {
          "base_uri": "https://localhost:8080/"
        },
        "id": "B7uQ3ThjHvPE",
        "outputId": "2d58ade0-2b98-4ef6-8271-9b35015dd3f0"
      },
      "source": [
        "print(user_movie_matrix)"
      ],
      "execution_count": 11,
      "outputs": [
        {
          "output_type": "stream",
          "name": "stdout",
          "text": [
            "userId   1    2    3    4    5    6    7    ...  604  605  606  607  608  609  610\n",
            "movieId                                     ...                                   \n",
            "1        4.0  0.0  0.0  0.0  4.0  0.0  4.5  ...  3.0  4.0  2.5  4.0  2.5  3.0  5.0\n",
            "2        0.0  0.0  0.0  0.0  0.0  4.0  0.0  ...  5.0  3.5  0.0  0.0  2.0  0.0  0.0\n",
            "3        4.0  0.0  0.0  0.0  0.0  5.0  0.0  ...  0.0  0.0  0.0  0.0  2.0  0.0  0.0\n",
            "4        0.0  0.0  0.0  0.0  0.0  3.0  0.0  ...  0.0  0.0  0.0  0.0  0.0  0.0  0.0\n",
            "5        0.0  0.0  0.0  0.0  0.0  5.0  0.0  ...  3.0  0.0  0.0  0.0  0.0  0.0  0.0\n",
            "...      ...  ...  ...  ...  ...  ...  ...  ...  ...  ...  ...  ...  ...  ...  ...\n",
            "193581   0.0  0.0  0.0  0.0  0.0  0.0  0.0  ...  0.0  0.0  0.0  0.0  0.0  0.0  0.0\n",
            "193583   0.0  0.0  0.0  0.0  0.0  0.0  0.0  ...  0.0  0.0  0.0  0.0  0.0  0.0  0.0\n",
            "193585   0.0  0.0  0.0  0.0  0.0  0.0  0.0  ...  0.0  0.0  0.0  0.0  0.0  0.0  0.0\n",
            "193587   0.0  0.0  0.0  0.0  0.0  0.0  0.0  ...  0.0  0.0  0.0  0.0  0.0  0.0  0.0\n",
            "193609   0.0  0.0  0.0  0.0  0.0  0.0  0.0  ...  0.0  0.0  0.0  0.0  0.0  0.0  0.0\n",
            "\n",
            "[9724 rows x 610 columns]\n"
          ]
        }
      ]
    },
    {
      "cell_type": "code",
      "metadata": {
        "colab": {
          "base_uri": "https://localhost:8080/"
        },
        "id": "5vRstBQzIJyA",
        "outputId": "0e0030b6-bee5-4d89-eb07-80a3ee0d3933"
      },
      "source": [
        "print(sparse_mat)"
      ],
      "execution_count": 12,
      "outputs": [
        {
          "output_type": "stream",
          "name": "stdout",
          "text": [
            "  (0, 0)\t4.0\n",
            "  (0, 4)\t4.0\n",
            "  (0, 6)\t4.5\n",
            "  (0, 14)\t2.5\n",
            "  (0, 16)\t4.5\n",
            "  (0, 17)\t3.5\n",
            "  (0, 18)\t4.0\n",
            "  (0, 20)\t3.5\n",
            "  (0, 26)\t3.0\n",
            "  (0, 30)\t5.0\n",
            "  (0, 31)\t3.0\n",
            "  (0, 32)\t3.0\n",
            "  (0, 39)\t5.0\n",
            "  (0, 42)\t5.0\n",
            "  (0, 43)\t3.0\n",
            "  (0, 44)\t4.0\n",
            "  (0, 45)\t5.0\n",
            "  (0, 49)\t3.0\n",
            "  (0, 53)\t3.0\n",
            "  (0, 56)\t5.0\n",
            "  (0, 62)\t5.0\n",
            "  (0, 63)\t4.0\n",
            "  (0, 65)\t4.0\n",
            "  (0, 67)\t2.5\n",
            "  (0, 70)\t5.0\n",
            "  :\t:\n",
            "  (9700, 337)\t2.5\n",
            "  (9701, 337)\t3.0\n",
            "  (9702, 183)\t4.0\n",
            "  (9702, 247)\t3.5\n",
            "  (9703, 317)\t2.5\n",
            "  (9704, 209)\t1.0\n",
            "  (9705, 461)\t2.5\n",
            "  (9706, 49)\t3.5\n",
            "  (9707, 337)\t1.5\n",
            "  (9708, 337)\t4.0\n",
            "  (9709, 337)\t1.0\n",
            "  (9710, 337)\t1.5\n",
            "  (9711, 337)\t1.0\n",
            "  (9712, 337)\t1.0\n",
            "  (9713, 183)\t4.5\n",
            "  (9714, 183)\t3.5\n",
            "  (9715, 183)\t3.0\n",
            "  (9716, 183)\t4.0\n",
            "  (9717, 183)\t4.0\n",
            "  (9718, 183)\t3.5\n",
            "  (9719, 183)\t4.0\n",
            "  (9720, 183)\t3.5\n",
            "  (9721, 183)\t3.5\n",
            "  (9722, 183)\t3.5\n",
            "  (9723, 330)\t4.0\n"
          ]
        }
      ]
    },
    {
      "cell_type": "code",
      "metadata": {
        "colab": {
          "base_uri": "https://localhost:8080/"
        },
        "id": "TQE5onVcH5ql",
        "outputId": "384f853b-a0b3-4783-8fb1-2d577cbb9b39"
      },
      "source": [
        "print(sparse_mat.indptr)\n",
        "print(sparse_mat.indices)\n",
        "print(sparse_mat.data)"
      ],
      "execution_count": 14,
      "outputs": [
        {
          "output_type": "stream",
          "name": "stdout",
          "text": [
            "[     0    215    325 ... 100834 100835 100836]\n",
            "[  0   4   6 ... 183 183 330]\n",
            "[4.  4.  4.5 ... 3.5 3.5 4. ]\n"
          ]
        }
      ]
    },
    {
      "cell_type": "code",
      "metadata": {
        "id": "OHaTy_dlH6vi"
      },
      "source": [
        "user_info_df = pd.DataFrame(data = [sum(list(user_movie_matrix[int(x)].value_counts())[1:]) for x in user_movie_matrix.columns],\n",
        "                            index = user_movie_matrix.columns, \n",
        "                            columns = ['movies_rated'])\n",
        "\n",
        "# sum(list(user_movie_matrix[1].value_counts())[1:])"
      ],
      "execution_count": 15,
      "outputs": []
    },
    {
      "cell_type": "code",
      "metadata": {
        "colab": {
          "base_uri": "https://localhost:8080/",
          "height": 450
        },
        "id": "ULrZRzxe3OiU",
        "outputId": "8011b808-a9bc-4466-9935-b6ee438c7fd2"
      },
      "source": [
        "user_info_df"
      ],
      "execution_count": 16,
      "outputs": [
        {
          "output_type": "execute_result",
          "data": {
            "text/html": [
              "<div>\n",
              "<style scoped>\n",
              "    .dataframe tbody tr th:only-of-type {\n",
              "        vertical-align: middle;\n",
              "    }\n",
              "\n",
              "    .dataframe tbody tr th {\n",
              "        vertical-align: top;\n",
              "    }\n",
              "\n",
              "    .dataframe thead th {\n",
              "        text-align: right;\n",
              "    }\n",
              "</style>\n",
              "<table border=\"1\" class=\"dataframe\">\n",
              "  <thead>\n",
              "    <tr style=\"text-align: right;\">\n",
              "      <th></th>\n",
              "      <th>movies_rated</th>\n",
              "    </tr>\n",
              "    <tr>\n",
              "      <th>userId</th>\n",
              "      <th></th>\n",
              "    </tr>\n",
              "  </thead>\n",
              "  <tbody>\n",
              "    <tr>\n",
              "      <th>1</th>\n",
              "      <td>232</td>\n",
              "    </tr>\n",
              "    <tr>\n",
              "      <th>2</th>\n",
              "      <td>29</td>\n",
              "    </tr>\n",
              "    <tr>\n",
              "      <th>3</th>\n",
              "      <td>39</td>\n",
              "    </tr>\n",
              "    <tr>\n",
              "      <th>4</th>\n",
              "      <td>216</td>\n",
              "    </tr>\n",
              "    <tr>\n",
              "      <th>5</th>\n",
              "      <td>44</td>\n",
              "    </tr>\n",
              "    <tr>\n",
              "      <th>...</th>\n",
              "      <td>...</td>\n",
              "    </tr>\n",
              "    <tr>\n",
              "      <th>606</th>\n",
              "      <td>1115</td>\n",
              "    </tr>\n",
              "    <tr>\n",
              "      <th>607</th>\n",
              "      <td>187</td>\n",
              "    </tr>\n",
              "    <tr>\n",
              "      <th>608</th>\n",
              "      <td>831</td>\n",
              "    </tr>\n",
              "    <tr>\n",
              "      <th>609</th>\n",
              "      <td>37</td>\n",
              "    </tr>\n",
              "    <tr>\n",
              "      <th>610</th>\n",
              "      <td>1302</td>\n",
              "    </tr>\n",
              "  </tbody>\n",
              "</table>\n",
              "<p>610 rows × 1 columns</p>\n",
              "</div>"
            ],
            "text/plain": [
              "        movies_rated\n",
              "userId              \n",
              "1                232\n",
              "2                 29\n",
              "3                 39\n",
              "4                216\n",
              "5                 44\n",
              "...              ...\n",
              "606             1115\n",
              "607              187\n",
              "608              831\n",
              "609               37\n",
              "610             1302\n",
              "\n",
              "[610 rows x 1 columns]"
            ]
          },
          "metadata": {},
          "execution_count": 16
        }
      ]
    },
    {
      "cell_type": "code",
      "metadata": {
        "id": "hCa8u_l73VKk"
      },
      "source": [
        "movie_info_df = pd.DataFrame(data = [sum(list(user_movie_matrix.loc[int(x)].value_counts())[1:]) for x in user_movie_matrix.index],\n",
        "                            index = user_movie_matrix.index, \n",
        "                            columns = ['movies_rated'])"
      ],
      "execution_count": 18,
      "outputs": []
    },
    {
      "cell_type": "code",
      "metadata": {
        "colab": {
          "base_uri": "https://localhost:8080/",
          "height": 450
        },
        "id": "hnXI1kZh3pi3",
        "outputId": "a801d515-8618-4126-a447-65152f72426b"
      },
      "source": [
        "movie_info_df"
      ],
      "execution_count": 19,
      "outputs": [
        {
          "output_type": "execute_result",
          "data": {
            "text/html": [
              "<div>\n",
              "<style scoped>\n",
              "    .dataframe tbody tr th:only-of-type {\n",
              "        vertical-align: middle;\n",
              "    }\n",
              "\n",
              "    .dataframe tbody tr th {\n",
              "        vertical-align: top;\n",
              "    }\n",
              "\n",
              "    .dataframe thead th {\n",
              "        text-align: right;\n",
              "    }\n",
              "</style>\n",
              "<table border=\"1\" class=\"dataframe\">\n",
              "  <thead>\n",
              "    <tr style=\"text-align: right;\">\n",
              "      <th></th>\n",
              "      <th>movies_rated</th>\n",
              "    </tr>\n",
              "    <tr>\n",
              "      <th>movieId</th>\n",
              "      <th></th>\n",
              "    </tr>\n",
              "  </thead>\n",
              "  <tbody>\n",
              "    <tr>\n",
              "      <th>1</th>\n",
              "      <td>215</td>\n",
              "    </tr>\n",
              "    <tr>\n",
              "      <th>2</th>\n",
              "      <td>110</td>\n",
              "    </tr>\n",
              "    <tr>\n",
              "      <th>3</th>\n",
              "      <td>52</td>\n",
              "    </tr>\n",
              "    <tr>\n",
              "      <th>4</th>\n",
              "      <td>7</td>\n",
              "    </tr>\n",
              "    <tr>\n",
              "      <th>5</th>\n",
              "      <td>49</td>\n",
              "    </tr>\n",
              "    <tr>\n",
              "      <th>...</th>\n",
              "      <td>...</td>\n",
              "    </tr>\n",
              "    <tr>\n",
              "      <th>193581</th>\n",
              "      <td>1</td>\n",
              "    </tr>\n",
              "    <tr>\n",
              "      <th>193583</th>\n",
              "      <td>1</td>\n",
              "    </tr>\n",
              "    <tr>\n",
              "      <th>193585</th>\n",
              "      <td>1</td>\n",
              "    </tr>\n",
              "    <tr>\n",
              "      <th>193587</th>\n",
              "      <td>1</td>\n",
              "    </tr>\n",
              "    <tr>\n",
              "      <th>193609</th>\n",
              "      <td>1</td>\n",
              "    </tr>\n",
              "  </tbody>\n",
              "</table>\n",
              "<p>9724 rows × 1 columns</p>\n",
              "</div>"
            ],
            "text/plain": [
              "         movies_rated\n",
              "movieId              \n",
              "1                 215\n",
              "2                 110\n",
              "3                  52\n",
              "4                   7\n",
              "5                  49\n",
              "...               ...\n",
              "193581              1\n",
              "193583              1\n",
              "193585              1\n",
              "193587              1\n",
              "193609              1\n",
              "\n",
              "[9724 rows x 1 columns]"
            ]
          },
          "metadata": {},
          "execution_count": 19
        }
      ]
    },
    {
      "cell_type": "markdown",
      "metadata": {
        "id": "rmeWOoY73zHu"
      },
      "source": [
        "## 3. Split Dataset"
      ]
    },
    {
      "cell_type": "code",
      "metadata": {
        "id": "lgi_UxYP3xBH"
      },
      "source": [
        ""
      ],
      "execution_count": null,
      "outputs": []
    }
  ]
}