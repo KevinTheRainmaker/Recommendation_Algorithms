{
  "nbformat": 4,
  "nbformat_minor": 0,
  "metadata": {
    "colab": {
      "name": "Recommender_Trial.ipynb",
      "provenance": [],
      "collapsed_sections": [],
      "authorship_tag": "ABX9TyPeNxwEAJbeMrbS2VM/B9SH",
      "include_colab_link": true
    },
    "kernelspec": {
      "name": "python3",
      "display_name": "Python 3"
    },
    "language_info": {
      "name": "python"
    }
  },
  "cells": [
    {
      "cell_type": "markdown",
      "metadata": {
        "id": "view-in-github",
        "colab_type": "text"
      },
      "source": [
        "<a href=\"https://colab.research.google.com/github/KevinTheRainmaker/Recommendation_Algorithms/blob/main/colab/fastcampus/Recommender_Trial.ipynb\" target=\"_parent\"><img src=\"https://colab.research.google.com/assets/colab-badge.svg\" alt=\"Open In Colab\"/></a>"
      ]
    },
    {
      "cell_type": "markdown",
      "metadata": {
        "id": "gQKMwuWMAAfZ"
      },
      "source": [
        "# 간단한 추천시스템 만들기\n",
        "\n",
        "- Movielens Dataset 이용\n",
        "- 3가지 방식의 간단한 추천 시스템을 구현해보고 평가\n",
        "  - 영화 평균 평점기반 예측\n",
        "  - 사용자 평균 평점기반 예측\n",
        "  - Rule-Based 평점 예측\n",
        "  \n",
        "- 평가 기준은 RMSE"
      ]
    },
    {
      "cell_type": "markdown",
      "metadata": {
        "id": "boF8YkagAi-r"
      },
      "source": [
        "## 0. Configuration\n"
      ]
    },
    {
      "cell_type": "code",
      "metadata": {
        "id": "jLBNiNvv_1n2"
      },
      "source": [
        "import os\n",
        "from tqdm import tqdm # 진행률 Process Bar\n",
        "import pandas as pd\n",
        "import numpy as np\n",
        "\n",
        "from sklearn.model_selection import train_test_split\n",
        "from sklearn.metrics import mean_squared_error\n",
        "from scipy.sparse import csr_matrix # 압축희소행렬(Compressed Sparse Row)\n",
        "\n",
        "import warnings\n",
        "warnings.filterwarnings('ignore')"
      ],
      "execution_count": 2,
      "outputs": []
    },
    {
      "cell_type": "markdown",
      "metadata": {
        "id": "H0w3RykeBiBr"
      },
      "source": [
        " **CSR이란**\n",
        "\n",
        " Compressed sparse row (CSR): 가로의 순서대로 재정렬하는 방법으로 행에 관여하여 정리 압축\n",
        "\n",
        "장점: 산술연산, 행 슬라이싱, 행렬 벡터 곱이 효율적이고 빠름\n",
        "\n",
        "단점: 느린 열 슬라이싱(Compressed Sparse Column 고려), 희소성 구조 변화 시 연산비용 큼 (LIL, DOK 고려)"
      ]
    },
    {
      "cell_type": "markdown",
      "metadata": {
        "id": "_bt8NZz6Duwu"
      },
      "source": [
        "## 1. Dataset\n",
        "\n",
        "- ratings.csv\n",
        "- movies.csv\n",
        "- tags.csv"
      ]
    },
    {
      "cell_type": "code",
      "metadata": {
        "colab": {
          "base_uri": "https://localhost:8080/"
        },
        "id": "NMR4pTZcBhMa",
        "outputId": "ba053c55-c6ec-4e90-989d-44e322c74c66"
      },
      "source": [
        "from google.colab import drive\n",
        "drive.mount('/content/drive')"
      ],
      "execution_count": 4,
      "outputs": [
        {
          "output_type": "stream",
          "name": "stdout",
          "text": [
            "Mounted at /content/drive\n"
          ]
        }
      ]
    },
    {
      "cell_type": "code",
      "metadata": {
        "id": "DLA0iPpUD82d"
      },
      "source": [
        "path = '/content/drive/My Drive/data/ml-latest-small'"
      ],
      "execution_count": 5,
      "outputs": []
    },
    {
      "cell_type": "code",
      "metadata": {
        "id": "lIiC3RgpFC6o"
      },
      "source": [
        "ratings_df = pd.read_csv(os.path.join(path, 'ratings.csv'), encoding='utf-8')\n",
        "movies_df = pd.read_csv(os.path.join(path, 'movies.csv'), index_col='movieId', encoding='utf-8')\n",
        "tags_df = pd.read_csv(os.path.join(path, 'tags.csv'), encoding='utf-8')"
      ],
      "execution_count": 11,
      "outputs": []
    },
    {
      "cell_type": "code",
      "metadata": {
        "colab": {
          "base_uri": "https://localhost:8080/"
        },
        "id": "X0jdzs93FcTO",
        "outputId": "4af4ffcc-47ac-4c75-f8d1-c6b70f51dc67"
      },
      "source": [
        "print(ratings_df.shape)\n",
        "print(ratings_df.sample(5))"
      ],
      "execution_count": 10,
      "outputs": [
        {
          "output_type": "stream",
          "name": "stdout",
          "text": [
            "(100836, 4)\n",
            "       userId  movieId  rating   timestamp\n",
            "63732     414     4591     3.0  1026225501\n",
            "16889     105   147300     5.0  1526207029\n",
            "95901     601     4993     5.0  1441639520\n",
            "24569     169     7004     3.5  1073179957\n",
            "16169     104    47629     4.0  1325962571\n"
          ]
        }
      ]
    },
    {
      "cell_type": "code",
      "metadata": {
        "colab": {
          "base_uri": "https://localhost:8080/"
        },
        "id": "KqB37lAWFhO5",
        "outputId": "1a7237d5-00ab-408e-e2d5-53546369a2f9"
      },
      "source": [
        "print(movies_df.shape)\n",
        "print(movies_df.sample(5))"
      ],
      "execution_count": 12,
      "outputs": [
        {
          "output_type": "stream",
          "name": "stdout",
          "text": [
            "(9742, 2)\n",
            "                                    title              genres\n",
            "movieId                                                      \n",
            "4881     Man Who Wasn't There, The (2001)         Crime|Drama\n",
            "76077         Hot Tub Time Machine (2010)       Comedy|Sci-Fi\n",
            "6027                      Dogfight (1991)       Drama|Romance\n",
            "110669             Honest Liar, An (2014)  Comedy|Documentary\n",
            "26467               Day After, The (1983)        Drama|Sci-Fi\n"
          ]
        }
      ]
    },
    {
      "cell_type": "code",
      "metadata": {
        "colab": {
          "base_uri": "https://localhost:8080/"
        },
        "id": "74PJFhuWGUwt",
        "outputId": "d90cc319-aceb-4af0-9b65-7ed347952bcc"
      },
      "source": [
        "print(tags_df.shape)\n",
        "print(tags_df.sample(5))"
      ],
      "execution_count": 13,
      "outputs": [
        {
          "output_type": "stream",
          "name": "stdout",
          "text": [
            "(3683, 4)\n",
            "      userId  movieId                 tag   timestamp\n",
            "347       62   135536  Horrible directing  1525555099\n",
            "899      424    48516      Jack Nicholson  1457843173\n",
            "2998     567     4144           nocturnal  1525283537\n",
            "788      424     1258            suspense  1457843361\n",
            "818      424     2700       controversial  1457844399\n"
          ]
        }
      ]
    },
    {
      "cell_type": "markdown",
      "metadata": {
        "id": "JJQqPychGnYk"
      },
      "source": [
        "## 2. About ratings_df"
      ]
    },
    {
      "cell_type": "code",
      "metadata": {
        "colab": {
          "base_uri": "https://localhost:8080/"
        },
        "id": "YxPoDN8PGXOv",
        "outputId": "3b7a4f16-1c98-4b95-9d6d-7f47902f641f"
      },
      "source": [
        "num_users = ratings_df['userId'].unique()\n",
        "num_movies = ratings_df['movieId'].unique()\n",
        "\n",
        "print('Total Users:', len(num_users))\n",
        "print('Total Movies:', len(num_movies))"
      ],
      "execution_count": 16,
      "outputs": [
        {
          "output_type": "stream",
          "name": "stdout",
          "text": [
            "Total Users: 610\n",
            "Total Movies: 9724\n"
          ]
        }
      ]
    },
    {
      "cell_type": "code",
      "metadata": {
        "id": "nIgk6aAgHBPd"
      },
      "source": [
        "# pivot ratings into movie features\n",
        "\n",
        "user_movie_matrix = ratings_df.pivot(\n",
        "    index = 'movieId',\n",
        "    columns = 'userId',\n",
        "    values = 'rating'\n",
        ").fillna(0) # NaN to 0\n",
        "\n",
        "# convert dataframe of movie features to scipy sparse matrix\n",
        "sparse_mat = csr_matrix(user_movie_matrix.values)"
      ],
      "execution_count": 26,
      "outputs": []
    },
    {
      "cell_type": "code",
      "metadata": {
        "colab": {
          "base_uri": "https://localhost:8080/"
        },
        "id": "B7uQ3ThjHvPE",
        "outputId": "dc852135-ca4e-43b7-e4cd-41881b9c31d6"
      },
      "source": [
        "print(user_movie_matrix)"
      ],
      "execution_count": 27,
      "outputs": [
        {
          "output_type": "stream",
          "name": "stdout",
          "text": [
            "userId   1    2    3    4    5    6    7    ...  604  605  606  607  608  609  610\n",
            "movieId                                     ...                                   \n",
            "1        4.0  0.0  0.0  0.0  4.0  0.0  4.5  ...  3.0  4.0  2.5  4.0  2.5  3.0  5.0\n",
            "2        0.0  0.0  0.0  0.0  0.0  4.0  0.0  ...  5.0  3.5  0.0  0.0  2.0  0.0  0.0\n",
            "3        4.0  0.0  0.0  0.0  0.0  5.0  0.0  ...  0.0  0.0  0.0  0.0  2.0  0.0  0.0\n",
            "4        0.0  0.0  0.0  0.0  0.0  3.0  0.0  ...  0.0  0.0  0.0  0.0  0.0  0.0  0.0\n",
            "5        0.0  0.0  0.0  0.0  0.0  5.0  0.0  ...  3.0  0.0  0.0  0.0  0.0  0.0  0.0\n",
            "...      ...  ...  ...  ...  ...  ...  ...  ...  ...  ...  ...  ...  ...  ...  ...\n",
            "193581   0.0  0.0  0.0  0.0  0.0  0.0  0.0  ...  0.0  0.0  0.0  0.0  0.0  0.0  0.0\n",
            "193583   0.0  0.0  0.0  0.0  0.0  0.0  0.0  ...  0.0  0.0  0.0  0.0  0.0  0.0  0.0\n",
            "193585   0.0  0.0  0.0  0.0  0.0  0.0  0.0  ...  0.0  0.0  0.0  0.0  0.0  0.0  0.0\n",
            "193587   0.0  0.0  0.0  0.0  0.0  0.0  0.0  ...  0.0  0.0  0.0  0.0  0.0  0.0  0.0\n",
            "193609   0.0  0.0  0.0  0.0  0.0  0.0  0.0  ...  0.0  0.0  0.0  0.0  0.0  0.0  0.0\n",
            "\n",
            "[9724 rows x 610 columns]\n"
          ]
        }
      ]
    },
    {
      "cell_type": "code",
      "metadata": {
        "colab": {
          "base_uri": "https://localhost:8080/"
        },
        "id": "5vRstBQzIJyA",
        "outputId": "8e680983-a393-4049-ffde-3912672b7823"
      },
      "source": [
        "print(sparse_mat)"
      ],
      "execution_count": 28,
      "outputs": [
        {
          "output_type": "stream",
          "name": "stdout",
          "text": [
            "  (0, 0)\t4.0\n",
            "  (0, 4)\t4.0\n",
            "  (0, 6)\t4.5\n",
            "  (0, 14)\t2.5\n",
            "  (0, 16)\t4.5\n",
            "  (0, 17)\t3.5\n",
            "  (0, 18)\t4.0\n",
            "  (0, 20)\t3.5\n",
            "  (0, 26)\t3.0\n",
            "  (0, 30)\t5.0\n",
            "  (0, 31)\t3.0\n",
            "  (0, 32)\t3.0\n",
            "  (0, 39)\t5.0\n",
            "  (0, 42)\t5.0\n",
            "  (0, 43)\t3.0\n",
            "  (0, 44)\t4.0\n",
            "  (0, 45)\t5.0\n",
            "  (0, 49)\t3.0\n",
            "  (0, 53)\t3.0\n",
            "  (0, 56)\t5.0\n",
            "  (0, 62)\t5.0\n",
            "  (0, 63)\t4.0\n",
            "  (0, 65)\t4.0\n",
            "  (0, 67)\t2.5\n",
            "  (0, 70)\t5.0\n",
            "  :\t:\n",
            "  (9700, 337)\t2.5\n",
            "  (9701, 337)\t3.0\n",
            "  (9702, 183)\t4.0\n",
            "  (9702, 247)\t3.5\n",
            "  (9703, 317)\t2.5\n",
            "  (9704, 209)\t1.0\n",
            "  (9705, 461)\t2.5\n",
            "  (9706, 49)\t3.5\n",
            "  (9707, 337)\t1.5\n",
            "  (9708, 337)\t4.0\n",
            "  (9709, 337)\t1.0\n",
            "  (9710, 337)\t1.5\n",
            "  (9711, 337)\t1.0\n",
            "  (9712, 337)\t1.0\n",
            "  (9713, 183)\t4.5\n",
            "  (9714, 183)\t3.5\n",
            "  (9715, 183)\t3.0\n",
            "  (9716, 183)\t4.0\n",
            "  (9717, 183)\t4.0\n",
            "  (9718, 183)\t3.5\n",
            "  (9719, 183)\t4.0\n",
            "  (9720, 183)\t3.5\n",
            "  (9721, 183)\t3.5\n",
            "  (9722, 183)\t3.5\n",
            "  (9723, 330)\t4.0\n"
          ]
        }
      ]
    },
    {
      "cell_type": "code",
      "metadata": {
        "colab": {
          "base_uri": "https://localhost:8080/"
        },
        "id": "TQE5onVcH5ql",
        "outputId": "e713740d-2fd8-47d8-f190-8b26048cc846"
      },
      "source": [
        "print(sparse_mat.indptr)\n",
        "print()\n",
        "print(sparse_mat.indices)\n",
        "print()\n",
        "print(sparse_mat.data)"
      ],
      "execution_count": 29,
      "outputs": [
        {
          "output_type": "stream",
          "name": "stdout",
          "text": [
            "[     0    215    325 ... 100834 100835 100836]\n",
            "\n",
            "[  0   4   6 ... 183 183 330]\n",
            "\n",
            "[4.  4.  4.5 ... 3.5 3.5 4. ]\n"
          ]
        }
      ]
    },
    {
      "cell_type": "code",
      "metadata": {
        "id": "OHaTy_dlH6vi"
      },
      "source": [
        ""
      ],
      "execution_count": null,
      "outputs": []
    }
  ]
}