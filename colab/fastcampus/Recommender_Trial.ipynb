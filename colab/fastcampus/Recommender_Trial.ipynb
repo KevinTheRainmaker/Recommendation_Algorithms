{
  "nbformat": 4,
  "nbformat_minor": 0,
  "metadata": {
    "colab": {
      "name": "Recommender_Trial.ipynb",
      "provenance": [],
      "collapsed_sections": [],
      "authorship_tag": "ABX9TyMGcUoI7yRMVhlCuteRYxcP",
      "include_colab_link": true
    },
    "kernelspec": {
      "name": "python3",
      "display_name": "Python 3"
    },
    "language_info": {
      "name": "python"
    }
  },
  "cells": [
    {
      "cell_type": "markdown",
      "metadata": {
        "id": "view-in-github",
        "colab_type": "text"
      },
      "source": [
        "<a href=\"https://colab.research.google.com/github/KevinTheRainmaker/Recommendation_Algorithms/blob/main/colab/fastcampus/Recommender_Trial.ipynb\" target=\"_parent\"><img src=\"https://colab.research.google.com/assets/colab-badge.svg\" alt=\"Open In Colab\"/></a>"
      ]
    },
    {
      "cell_type": "markdown",
      "metadata": {
        "id": "gQKMwuWMAAfZ"
      },
      "source": [
        "# 간단한 추천시스템 만들기\n",
        "\n",
        "- Movielens Dataset 이용\n",
        "- 3가지 방식의 간단한 추천 시스템을 구현해보고 평가\n",
        "  - 영화 평균 평점기반 예측\n",
        "  - 사용자 평균 평점기반 예측\n",
        "  - Rule-Based 평점 예측\n",
        "  \n",
        "- 평가 기준은 RMSE"
      ]
    },
    {
      "cell_type": "markdown",
      "metadata": {
        "id": "boF8YkagAi-r"
      },
      "source": [
        "## 0. Configuration\n"
      ]
    },
    {
      "cell_type": "code",
      "metadata": {
        "id": "jLBNiNvv_1n2"
      },
      "source": [
        "import os\n",
        "from tqdm import tqdm # 진행률 Process Bar\n",
        "import pandas as pd\n",
        "import numpy as np\n",
        "\n",
        "from sklearn.model_selection import train_test_split\n",
        "from sklearn.metrics import mean_squared_error\n",
        "from scipy.sparse import csr_matrix # 압축희소행렬(Compressed Sparse Row)\n",
        "\n",
        "import warnings\n",
        "warnings.filterwarnings('ignore')"
      ],
      "execution_count": 5,
      "outputs": []
    },
    {
      "cell_type": "markdown",
      "metadata": {
        "id": "H0w3RykeBiBr"
      },
      "source": [
        " **CSR이란**\n",
        "\n",
        " Compressed sparse row (CSR): 가로의 순서대로 재정렬하는 방법으로 행에 관여하여 정리 압축\n",
        "\n",
        "장점: 산술연산, 행 슬라이싱, 행렬 벡터 곱이 효율적이고 빠름\n",
        "\n",
        "단점: 느린 열 슬라이싱(Compressed Sparse Column 고려), 희소성 구조 변화 시 연산비용 큼 (LIL, DOK 고려)"
      ]
    },
    {
      "cell_type": "markdown",
      "metadata": {
        "id": "_bt8NZz6Duwu"
      },
      "source": [
        "## 1. Dataset\n",
        "\n",
        "- ratings.csv\n",
        "- movies.csv\n",
        "- tags.csv"
      ]
    },
    {
      "cell_type": "code",
      "metadata": {
        "colab": {
          "base_uri": "https://localhost:8080/"
        },
        "id": "NMR4pTZcBhMa",
        "outputId": "0b62ca17-b844-42d4-fe02-c21135b3de2d"
      },
      "source": [
        "from google.colab import drive\n",
        "drive.mount('/content/drive')"
      ],
      "execution_count": 6,
      "outputs": [
        {
          "output_type": "stream",
          "name": "stdout",
          "text": [
            "Mounted at /content/drive\n"
          ]
        }
      ]
    },
    {
      "cell_type": "code",
      "metadata": {
        "id": "DLA0iPpUD82d"
      },
      "source": [
        "path = '/content/drive/My Drive/data/ml-latest-small'"
      ],
      "execution_count": 7,
      "outputs": []
    },
    {
      "cell_type": "code",
      "metadata": {
        "id": "lIiC3RgpFC6o"
      },
      "source": [
        "ratings_df = pd.read_csv(os.path.join(path, 'ratings.csv'), encoding='utf-8')\n",
        "movies_df = pd.read_csv(os.path.join(path, 'movies.csv'), index_col='movieId', encoding='utf-8')\n",
        "tags_df = pd.read_csv(os.path.join(path, 'tags.csv'), encoding='utf-8')"
      ],
      "execution_count": 8,
      "outputs": []
    },
    {
      "cell_type": "code",
      "metadata": {
        "colab": {
          "base_uri": "https://localhost:8080/"
        },
        "id": "X0jdzs93FcTO",
        "outputId": "43ceb3d8-7498-48da-a235-09489033a1e5"
      },
      "source": [
        "print(ratings_df.shape)\n",
        "print(ratings_df.sample(5))"
      ],
      "execution_count": 9,
      "outputs": [
        {
          "output_type": "stream",
          "name": "stdout",
          "text": [
            "(100836, 4)\n",
            "       userId  movieId  rating   timestamp\n",
            "19427     125    88129     4.5  1474294429\n",
            "69589     448     7454     2.0  1084951203\n",
            "79688     495    70286     5.0  1458635551\n",
            "86465     560    60069     4.0  1469648050\n",
            "98463     606    64839     3.0  1291933030\n"
          ]
        }
      ]
    },
    {
      "cell_type": "code",
      "metadata": {
        "colab": {
          "base_uri": "https://localhost:8080/"
        },
        "id": "KqB37lAWFhO5",
        "outputId": "a7806456-a535-4731-803c-62f358b24e95"
      },
      "source": [
        "print(movies_df.shape)\n",
        "print(movies_df.sample(5))"
      ],
      "execution_count": 10,
      "outputs": [
        {
          "output_type": "stream",
          "name": "stdout",
          "text": [
            "(9742, 2)\n",
            "                                     title                          genres\n",
            "movieId                                                                   \n",
            "114670                         Tusk (2014)             Comedy|Drama|Horror\n",
            "1272                         Patton (1970)                       Drama|War\n",
            "589      Terminator 2: Judgment Day (1991)                   Action|Sci-Fi\n",
            "1267      Manchurian Candidate, The (1962)              Crime|Thriller|War\n",
            "63992                      Twilight (2008)  Drama|Fantasy|Romance|Thriller\n"
          ]
        }
      ]
    },
    {
      "cell_type": "code",
      "metadata": {
        "colab": {
          "base_uri": "https://localhost:8080/"
        },
        "id": "74PJFhuWGUwt",
        "outputId": "41630b96-08a5-47ae-d18f-e30760f732a0"
      },
      "source": [
        "print(tags_df.shape)\n",
        "print(tags_df.sample(5))"
      ],
      "execution_count": 11,
      "outputs": [
        {
          "output_type": "stream",
          "name": "stdout",
          "text": [
            "(3683, 4)\n",
            "      userId  movieId                    tag   timestamp\n",
            "147       62    34150  heroine in tight suit  1525554138\n",
            "3199     567   108932                 cheeky  1525283702\n",
            "131       62    27831              confusing  1532723364\n",
            "774      424     1240                 Action  1457901308\n",
            "3098     567    27773         claustrophobic  1525283317\n"
          ]
        }
      ]
    },
    {
      "cell_type": "markdown",
      "metadata": {
        "id": "JJQqPychGnYk"
      },
      "source": [
        "## 2. About ratings_df"
      ]
    },
    {
      "cell_type": "code",
      "metadata": {
        "colab": {
          "base_uri": "https://localhost:8080/"
        },
        "id": "YxPoDN8PGXOv",
        "outputId": "5f652029-1d49-4677-8d71-4eadf5c9bc0a"
      },
      "source": [
        "num_users = ratings_df['userId'].unique()\n",
        "num_movies = ratings_df['movieId'].unique()\n",
        "\n",
        "print('Total Users:', len(num_users))\n",
        "print('Total Movies:', len(num_movies))"
      ],
      "execution_count": 12,
      "outputs": [
        {
          "output_type": "stream",
          "name": "stdout",
          "text": [
            "Total Users: 610\n",
            "Total Movies: 9724\n"
          ]
        }
      ]
    },
    {
      "cell_type": "code",
      "metadata": {
        "id": "nIgk6aAgHBPd"
      },
      "source": [
        "# pivot ratings into movie features\n",
        "\n",
        "user_movie_matrix = ratings_df.pivot(\n",
        "    index = 'movieId',\n",
        "    columns = 'userId',\n",
        "    values = 'rating'\n",
        ").fillna(0) # NaN to 0\n",
        "\n",
        "# convert dataframe of movie features to scipy sparse matrix\n",
        "sparse_mat = csr_matrix(user_movie_matrix.values)"
      ],
      "execution_count": 13,
      "outputs": []
    },
    {
      "cell_type": "code",
      "metadata": {
        "colab": {
          "base_uri": "https://localhost:8080/"
        },
        "id": "B7uQ3ThjHvPE",
        "outputId": "426ee7bf-6375-4674-b616-6838263feeb6"
      },
      "source": [
        "print(user_movie_matrix)"
      ],
      "execution_count": 14,
      "outputs": [
        {
          "output_type": "stream",
          "name": "stdout",
          "text": [
            "userId   1    2    3    4    5    6    7    ...  604  605  606  607  608  609  610\n",
            "movieId                                     ...                                   \n",
            "1        4.0  0.0  0.0  0.0  4.0  0.0  4.5  ...  3.0  4.0  2.5  4.0  2.5  3.0  5.0\n",
            "2        0.0  0.0  0.0  0.0  0.0  4.0  0.0  ...  5.0  3.5  0.0  0.0  2.0  0.0  0.0\n",
            "3        4.0  0.0  0.0  0.0  0.0  5.0  0.0  ...  0.0  0.0  0.0  0.0  2.0  0.0  0.0\n",
            "4        0.0  0.0  0.0  0.0  0.0  3.0  0.0  ...  0.0  0.0  0.0  0.0  0.0  0.0  0.0\n",
            "5        0.0  0.0  0.0  0.0  0.0  5.0  0.0  ...  3.0  0.0  0.0  0.0  0.0  0.0  0.0\n",
            "...      ...  ...  ...  ...  ...  ...  ...  ...  ...  ...  ...  ...  ...  ...  ...\n",
            "193581   0.0  0.0  0.0  0.0  0.0  0.0  0.0  ...  0.0  0.0  0.0  0.0  0.0  0.0  0.0\n",
            "193583   0.0  0.0  0.0  0.0  0.0  0.0  0.0  ...  0.0  0.0  0.0  0.0  0.0  0.0  0.0\n",
            "193585   0.0  0.0  0.0  0.0  0.0  0.0  0.0  ...  0.0  0.0  0.0  0.0  0.0  0.0  0.0\n",
            "193587   0.0  0.0  0.0  0.0  0.0  0.0  0.0  ...  0.0  0.0  0.0  0.0  0.0  0.0  0.0\n",
            "193609   0.0  0.0  0.0  0.0  0.0  0.0  0.0  ...  0.0  0.0  0.0  0.0  0.0  0.0  0.0\n",
            "\n",
            "[9724 rows x 610 columns]\n"
          ]
        }
      ]
    },
    {
      "cell_type": "code",
      "metadata": {
        "colab": {
          "base_uri": "https://localhost:8080/"
        },
        "id": "5vRstBQzIJyA",
        "outputId": "ad952b6b-4c8a-4876-bb57-b8cab53397fe"
      },
      "source": [
        "print(sparse_mat)"
      ],
      "execution_count": 15,
      "outputs": [
        {
          "output_type": "stream",
          "name": "stdout",
          "text": [
            "  (0, 0)\t4.0\n",
            "  (0, 4)\t4.0\n",
            "  (0, 6)\t4.5\n",
            "  (0, 14)\t2.5\n",
            "  (0, 16)\t4.5\n",
            "  (0, 17)\t3.5\n",
            "  (0, 18)\t4.0\n",
            "  (0, 20)\t3.5\n",
            "  (0, 26)\t3.0\n",
            "  (0, 30)\t5.0\n",
            "  (0, 31)\t3.0\n",
            "  (0, 32)\t3.0\n",
            "  (0, 39)\t5.0\n",
            "  (0, 42)\t5.0\n",
            "  (0, 43)\t3.0\n",
            "  (0, 44)\t4.0\n",
            "  (0, 45)\t5.0\n",
            "  (0, 49)\t3.0\n",
            "  (0, 53)\t3.0\n",
            "  (0, 56)\t5.0\n",
            "  (0, 62)\t5.0\n",
            "  (0, 63)\t4.0\n",
            "  (0, 65)\t4.0\n",
            "  (0, 67)\t2.5\n",
            "  (0, 70)\t5.0\n",
            "  :\t:\n",
            "  (9700, 337)\t2.5\n",
            "  (9701, 337)\t3.0\n",
            "  (9702, 183)\t4.0\n",
            "  (9702, 247)\t3.5\n",
            "  (9703, 317)\t2.5\n",
            "  (9704, 209)\t1.0\n",
            "  (9705, 461)\t2.5\n",
            "  (9706, 49)\t3.5\n",
            "  (9707, 337)\t1.5\n",
            "  (9708, 337)\t4.0\n",
            "  (9709, 337)\t1.0\n",
            "  (9710, 337)\t1.5\n",
            "  (9711, 337)\t1.0\n",
            "  (9712, 337)\t1.0\n",
            "  (9713, 183)\t4.5\n",
            "  (9714, 183)\t3.5\n",
            "  (9715, 183)\t3.0\n",
            "  (9716, 183)\t4.0\n",
            "  (9717, 183)\t4.0\n",
            "  (9718, 183)\t3.5\n",
            "  (9719, 183)\t4.0\n",
            "  (9720, 183)\t3.5\n",
            "  (9721, 183)\t3.5\n",
            "  (9722, 183)\t3.5\n",
            "  (9723, 330)\t4.0\n"
          ]
        }
      ]
    },
    {
      "cell_type": "code",
      "metadata": {
        "colab": {
          "base_uri": "https://localhost:8080/"
        },
        "id": "TQE5onVcH5ql",
        "outputId": "b935bfb2-9769-45fe-d470-46da2c6bfa4d"
      },
      "source": [
        "print(sparse_mat.indptr)\n",
        "print(sparse_mat.indices)\n",
        "print(sparse_mat.data)"
      ],
      "execution_count": 16,
      "outputs": [
        {
          "output_type": "stream",
          "name": "stdout",
          "text": [
            "[     0    215    325 ... 100834 100835 100836]\n",
            "[  0   4   6 ... 183 183 330]\n",
            "[4.  4.  4.5 ... 3.5 3.5 4. ]\n"
          ]
        }
      ]
    },
    {
      "cell_type": "code",
      "metadata": {
        "id": "OHaTy_dlH6vi"
      },
      "source": [
        "user_info_df = pd.DataFrame(data = [sum(list(user_movie_matrix[int(x)].value_counts())[1:]) for x in user_movie_matrix.columns],\n",
        "                            index = user_movie_matrix.columns, \n",
        "                            columns = ['movies_rated'])\n",
        "\n",
        "# sum(list(user_movie_matrix[1].value_counts())[1:])"
      ],
      "execution_count": 17,
      "outputs": []
    },
    {
      "cell_type": "code",
      "metadata": {
        "colab": {
          "base_uri": "https://localhost:8080/",
          "height": 450
        },
        "id": "ULrZRzxe3OiU",
        "outputId": "c703b8a6-5614-4934-bedf-7ddfa4edc15d"
      },
      "source": [
        "user_info_df"
      ],
      "execution_count": 18,
      "outputs": [
        {
          "output_type": "execute_result",
          "data": {
            "text/html": [
              "<div>\n",
              "<style scoped>\n",
              "    .dataframe tbody tr th:only-of-type {\n",
              "        vertical-align: middle;\n",
              "    }\n",
              "\n",
              "    .dataframe tbody tr th {\n",
              "        vertical-align: top;\n",
              "    }\n",
              "\n",
              "    .dataframe thead th {\n",
              "        text-align: right;\n",
              "    }\n",
              "</style>\n",
              "<table border=\"1\" class=\"dataframe\">\n",
              "  <thead>\n",
              "    <tr style=\"text-align: right;\">\n",
              "      <th></th>\n",
              "      <th>movies_rated</th>\n",
              "    </tr>\n",
              "    <tr>\n",
              "      <th>userId</th>\n",
              "      <th></th>\n",
              "    </tr>\n",
              "  </thead>\n",
              "  <tbody>\n",
              "    <tr>\n",
              "      <th>1</th>\n",
              "      <td>232</td>\n",
              "    </tr>\n",
              "    <tr>\n",
              "      <th>2</th>\n",
              "      <td>29</td>\n",
              "    </tr>\n",
              "    <tr>\n",
              "      <th>3</th>\n",
              "      <td>39</td>\n",
              "    </tr>\n",
              "    <tr>\n",
              "      <th>4</th>\n",
              "      <td>216</td>\n",
              "    </tr>\n",
              "    <tr>\n",
              "      <th>5</th>\n",
              "      <td>44</td>\n",
              "    </tr>\n",
              "    <tr>\n",
              "      <th>...</th>\n",
              "      <td>...</td>\n",
              "    </tr>\n",
              "    <tr>\n",
              "      <th>606</th>\n",
              "      <td>1115</td>\n",
              "    </tr>\n",
              "    <tr>\n",
              "      <th>607</th>\n",
              "      <td>187</td>\n",
              "    </tr>\n",
              "    <tr>\n",
              "      <th>608</th>\n",
              "      <td>831</td>\n",
              "    </tr>\n",
              "    <tr>\n",
              "      <th>609</th>\n",
              "      <td>37</td>\n",
              "    </tr>\n",
              "    <tr>\n",
              "      <th>610</th>\n",
              "      <td>1302</td>\n",
              "    </tr>\n",
              "  </tbody>\n",
              "</table>\n",
              "<p>610 rows × 1 columns</p>\n",
              "</div>"
            ],
            "text/plain": [
              "        movies_rated\n",
              "userId              \n",
              "1                232\n",
              "2                 29\n",
              "3                 39\n",
              "4                216\n",
              "5                 44\n",
              "...              ...\n",
              "606             1115\n",
              "607              187\n",
              "608              831\n",
              "609               37\n",
              "610             1302\n",
              "\n",
              "[610 rows x 1 columns]"
            ]
          },
          "metadata": {},
          "execution_count": 18
        }
      ]
    },
    {
      "cell_type": "code",
      "metadata": {
        "id": "hCa8u_l73VKk"
      },
      "source": [
        "movie_info_df = pd.DataFrame(data = [sum(list(user_movie_matrix.loc[int(x)].value_counts())[1:]) for x in user_movie_matrix.index],\n",
        "                            index = user_movie_matrix.index, \n",
        "                            columns = ['movies_rated'])"
      ],
      "execution_count": 19,
      "outputs": []
    },
    {
      "cell_type": "code",
      "metadata": {
        "colab": {
          "base_uri": "https://localhost:8080/",
          "height": 450
        },
        "id": "hnXI1kZh3pi3",
        "outputId": "3ebe6baf-1692-4b42-fdea-7f425c39e306"
      },
      "source": [
        "movie_info_df"
      ],
      "execution_count": 20,
      "outputs": [
        {
          "output_type": "execute_result",
          "data": {
            "text/html": [
              "<div>\n",
              "<style scoped>\n",
              "    .dataframe tbody tr th:only-of-type {\n",
              "        vertical-align: middle;\n",
              "    }\n",
              "\n",
              "    .dataframe tbody tr th {\n",
              "        vertical-align: top;\n",
              "    }\n",
              "\n",
              "    .dataframe thead th {\n",
              "        text-align: right;\n",
              "    }\n",
              "</style>\n",
              "<table border=\"1\" class=\"dataframe\">\n",
              "  <thead>\n",
              "    <tr style=\"text-align: right;\">\n",
              "      <th></th>\n",
              "      <th>movies_rated</th>\n",
              "    </tr>\n",
              "    <tr>\n",
              "      <th>movieId</th>\n",
              "      <th></th>\n",
              "    </tr>\n",
              "  </thead>\n",
              "  <tbody>\n",
              "    <tr>\n",
              "      <th>1</th>\n",
              "      <td>215</td>\n",
              "    </tr>\n",
              "    <tr>\n",
              "      <th>2</th>\n",
              "      <td>110</td>\n",
              "    </tr>\n",
              "    <tr>\n",
              "      <th>3</th>\n",
              "      <td>52</td>\n",
              "    </tr>\n",
              "    <tr>\n",
              "      <th>4</th>\n",
              "      <td>7</td>\n",
              "    </tr>\n",
              "    <tr>\n",
              "      <th>5</th>\n",
              "      <td>49</td>\n",
              "    </tr>\n",
              "    <tr>\n",
              "      <th>...</th>\n",
              "      <td>...</td>\n",
              "    </tr>\n",
              "    <tr>\n",
              "      <th>193581</th>\n",
              "      <td>1</td>\n",
              "    </tr>\n",
              "    <tr>\n",
              "      <th>193583</th>\n",
              "      <td>1</td>\n",
              "    </tr>\n",
              "    <tr>\n",
              "      <th>193585</th>\n",
              "      <td>1</td>\n",
              "    </tr>\n",
              "    <tr>\n",
              "      <th>193587</th>\n",
              "      <td>1</td>\n",
              "    </tr>\n",
              "    <tr>\n",
              "      <th>193609</th>\n",
              "      <td>1</td>\n",
              "    </tr>\n",
              "  </tbody>\n",
              "</table>\n",
              "<p>9724 rows × 1 columns</p>\n",
              "</div>"
            ],
            "text/plain": [
              "         movies_rated\n",
              "movieId              \n",
              "1                 215\n",
              "2                 110\n",
              "3                  52\n",
              "4                   7\n",
              "5                  49\n",
              "...               ...\n",
              "193581              1\n",
              "193583              1\n",
              "193585              1\n",
              "193587              1\n",
              "193609              1\n",
              "\n",
              "[9724 rows x 1 columns]"
            ]
          },
          "metadata": {},
          "execution_count": 20
        }
      ]
    },
    {
      "cell_type": "markdown",
      "metadata": {
        "id": "rmeWOoY73zHu"
      },
      "source": [
        "## 3. Split Dataset"
      ]
    },
    {
      "cell_type": "code",
      "metadata": {
        "id": "lgi_UxYP3xBH"
      },
      "source": [
        "train_df, test_df = train_test_split(ratings_df, test_size = 0.2, random_state = 1234)"
      ],
      "execution_count": 21,
      "outputs": []
    },
    {
      "cell_type": "code",
      "metadata": {
        "colab": {
          "base_uri": "https://localhost:8080/"
        },
        "id": "W5W6RUd25cqz",
        "outputId": "c26ebe71-329c-4fad-c758-8fc000943630"
      },
      "source": [
        "print(train_df.shape)\n",
        "print(test_df.shape)"
      ],
      "execution_count": 22,
      "outputs": [
        {
          "output_type": "stream",
          "name": "stdout",
          "text": [
            "(80668, 4)\n",
            "(20168, 4)\n"
          ]
        }
      ]
    },
    {
      "cell_type": "markdown",
      "metadata": {
        "id": "ZryEtYVO5op3"
      },
      "source": [
        "### Unseen data rate in test set"
      ]
    },
    {
      "cell_type": "code",
      "metadata": {
        "colab": {
          "base_uri": "https://localhost:8080/"
        },
        "id": "TesCLIod5hIo",
        "outputId": "4bc0d0f1-7a78-4874-d316-fee66c921544"
      },
      "source": [
        "# userId\n",
        "print('User:', len(list(set(test_df['userId'].unique()) - set(train_df['userId'].unique()))))\n",
        "\n",
        "# movieId\n",
        "print('Movie:', len(list(set(test_df['movieId'].unique()) - set(train_df['movieId'].unique()))))\n",
        "print('Total movie nums in test set:', len(test_df['movieId'].unique()))"
      ],
      "execution_count": 23,
      "outputs": [
        {
          "output_type": "stream",
          "name": "stdout",
          "text": [
            "User: 0\n",
            "Movie: 786\n",
            "Total movie nums in test set: 5171\n"
          ]
        }
      ]
    },
    {
      "cell_type": "code",
      "metadata": {
        "colab": {
          "base_uri": "https://localhost:8080/"
        },
        "id": "6XHIu-YH6vFe",
        "outputId": "e9a99f67-837c-46f6-8a4d-1107c0445223"
      },
      "source": [
        "movies_not_included = list(set(test_df['movieId'].unique()) - set(train_df['movieId'].unique()))\n",
        "print(sorted(movies_not_included)[:10])\n",
        "\n",
        "not_included_df = test_df[test_df.movieId.isin(movies_not_included)].sort_values(by='movieId')\n",
        "print(not_included_df.sample(10))\n",
        "\n",
        "print('\\nNumber of Unseen data in test set:', not_included_df.shape)"
      ],
      "execution_count": 24,
      "outputs": [
        {
          "output_type": "stream",
          "name": "stdout",
          "text": [
            "[49, 117, 137, 178, 241, 320, 359, 478, 488, 495]\n",
            "       userId  movieId  rating   timestamp\n",
            "63263     414     2893     3.0   961437647\n",
            "94725     599    71327     3.5  1498797401\n",
            "67030     432    71902     3.5  1315243103\n",
            "70275     448   115151     2.0  1433082348\n",
            "49324     318     7238     4.0  1428491623\n",
            "88040     567   110603     0.5  1525290024\n",
            "16897     105   158402     2.5  1526208164\n",
            "63881     414     5209     2.0  1064941928\n",
            "70170     448   105121     1.0  1415740266\n",
            "69376     448     4660     4.0  1019127974\n",
            "\n",
            "Number of Unseen data in test set: (852, 4)\n"
          ]
        }
      ]
    },
    {
      "cell_type": "markdown",
      "metadata": {
        "id": "GQ3LBdq07lsM"
      },
      "source": [
        "## 4. Simple Recommender Practice\n"
      ]
    },
    {
      "cell_type": "markdown",
      "metadata": {
        "id": "jtX8x7Fi8DYc"
      },
      "source": [
        "### 4-1. 영화 평균 평점기반 예측\n",
        "- train set의 모든 영화에 대해서 평균 평점 계산\n",
        "- test set 예측 시, train set의 영화 평균 평점 활용 / 없을 경우 random"
      ]
    },
    {
      "cell_type": "code",
      "metadata": {
        "colab": {
          "base_uri": "https://localhost:8080/"
        },
        "id": "CrtpObqw9fYk",
        "outputId": "f7b3fbfa-1c75-4304-c235-fb45ef13ac71"
      },
      "source": [
        "import random\n",
        "ratings_range = np.arange(0.5, 5.5, step=0.5)\n",
        "ratings_range"
      ],
      "execution_count": 25,
      "outputs": [
        {
          "output_type": "execute_result",
          "data": {
            "text/plain": [
              "array([0.5, 1. , 1.5, 2. , 2.5, 3. , 3.5, 4. , 4.5, 5. ])"
            ]
          },
          "metadata": {},
          "execution_count": 25
        }
      ]
    },
    {
      "cell_type": "code",
      "metadata": {
        "colab": {
          "base_uri": "https://localhost:8080/"
        },
        "id": "4BiJlu0V91on",
        "outputId": "1e2e734d-a7fe-4153-8a85-fc1c38d2f811"
      },
      "source": [
        "pred_random = [random.choice(ratings_range) for x in range(len(test_df))]\n",
        "pred_random[:10]"
      ],
      "execution_count": 26,
      "outputs": [
        {
          "output_type": "execute_result",
          "data": {
            "text/plain": [
              "[1.0, 2.5, 2.5, 2.5, 1.5, 4.0, 1.0, 4.5, 5.0, 2.0]"
            ]
          },
          "metadata": {},
          "execution_count": 26
        }
      ]
    },
    {
      "cell_type": "code",
      "metadata": {
        "colab": {
          "base_uri": "https://localhost:8080/"
        },
        "id": "YfRB2fZM7b__",
        "outputId": "40c56df9-252f-42e4-97b8-2e421227c165"
      },
      "source": [
        "train_movie_df = train_df.groupby('movieId').mean()\n",
        "\n",
        "print(train_movie_df.shape)\n",
        "print(train_movie_df.sample(5))"
      ],
      "execution_count": 27,
      "outputs": [
        {
          "output_type": "stream",
          "name": "stdout",
          "text": [
            "(8938, 3)\n",
            "             userId    rating     timestamp\n",
            "movieId                                    \n",
            "2880     370.200000  3.200000  1.110195e+09\n",
            "107348   327.222222  3.333333  1.463103e+09\n",
            "26599    606.000000  4.000000  1.171410e+09\n",
            "34321    347.333333  3.000000  1.309196e+09\n",
            "168612   366.000000  3.750000  1.515317e+09\n"
          ]
        }
      ]
    },
    {
      "cell_type": "code",
      "metadata": {
        "id": "Ff1gFNI58n0N"
      },
      "source": [
        "def avg_rating_prediction(training_set, x):\n",
        "  if x in training_set.index:\n",
        "    pred_rating = training_set.loc[x]['rating']\n",
        "  else:\n",
        "    pred_rating = random.choice(ratings_range)\n",
        "  return pred_rating"
      ],
      "execution_count": 28,
      "outputs": []
    },
    {
      "cell_type": "code",
      "metadata": {
        "colab": {
          "base_uri": "https://localhost:8080/",
          "height": 204
        },
        "id": "TsL4xmfa9HuF",
        "outputId": "5135026d-453b-4a38-d910-3f52324729f1"
      },
      "source": [
        "test_df['pred_rating_movie'] = test_df['movieId'].apply(lambda x: avg_rating_prediction(train_movie_df, x))\n",
        "\n",
        "test_df.head()"
      ],
      "execution_count": 29,
      "outputs": [
        {
          "output_type": "execute_result",
          "data": {
            "text/html": [
              "<div>\n",
              "<style scoped>\n",
              "    .dataframe tbody tr th:only-of-type {\n",
              "        vertical-align: middle;\n",
              "    }\n",
              "\n",
              "    .dataframe tbody tr th {\n",
              "        vertical-align: top;\n",
              "    }\n",
              "\n",
              "    .dataframe thead th {\n",
              "        text-align: right;\n",
              "    }\n",
              "</style>\n",
              "<table border=\"1\" class=\"dataframe\">\n",
              "  <thead>\n",
              "    <tr style=\"text-align: right;\">\n",
              "      <th></th>\n",
              "      <th>userId</th>\n",
              "      <th>movieId</th>\n",
              "      <th>rating</th>\n",
              "      <th>timestamp</th>\n",
              "      <th>pred_rating_movie</th>\n",
              "    </tr>\n",
              "  </thead>\n",
              "  <tbody>\n",
              "    <tr>\n",
              "      <th>99731</th>\n",
              "      <td>610</td>\n",
              "      <td>3527</td>\n",
              "      <td>5.0</td>\n",
              "      <td>1479545223</td>\n",
              "      <td>3.604167</td>\n",
              "    </tr>\n",
              "    <tr>\n",
              "      <th>97583</th>\n",
              "      <td>606</td>\n",
              "      <td>1250</td>\n",
              "      <td>3.5</td>\n",
              "      <td>1171376891</td>\n",
              "      <td>4.180556</td>\n",
              "    </tr>\n",
              "    <tr>\n",
              "      <th>38197</th>\n",
              "      <td>262</td>\n",
              "      <td>213</td>\n",
              "      <td>5.0</td>\n",
              "      <td>840310907</td>\n",
              "      <td>3.750000</td>\n",
              "    </tr>\n",
              "    <tr>\n",
              "      <th>11474</th>\n",
              "      <td>68</td>\n",
              "      <td>69406</td>\n",
              "      <td>3.0</td>\n",
              "      <td>1261622505</td>\n",
              "      <td>3.571429</td>\n",
              "    </tr>\n",
              "    <tr>\n",
              "      <th>34105</th>\n",
              "      <td>232</td>\n",
              "      <td>4728</td>\n",
              "      <td>3.0</td>\n",
              "      <td>1218166950</td>\n",
              "      <td>2.769231</td>\n",
              "    </tr>\n",
              "  </tbody>\n",
              "</table>\n",
              "</div>"
            ],
            "text/plain": [
              "       userId  movieId  rating   timestamp  pred_rating_movie\n",
              "99731     610     3527     5.0  1479545223           3.604167\n",
              "97583     606     1250     3.5  1171376891           4.180556\n",
              "38197     262      213     5.0   840310907           3.750000\n",
              "11474      68    69406     3.0  1261622505           3.571429\n",
              "34105     232     4728     3.0  1218166950           2.769231"
            ]
          },
          "metadata": {},
          "execution_count": 29
        }
      ]
    },
    {
      "cell_type": "code",
      "metadata": {
        "colab": {
          "base_uri": "https://localhost:8080/"
        },
        "id": "wwz1hXd89Zbl",
        "outputId": "2894c8c4-731c-40f0-b8b6-24684b407e86"
      },
      "source": [
        "mse = mean_squared_error(y_true=test_df['rating'].values, y_pred=test_df['pred_rating_movie'].values)\n",
        "rmse = np.sqrt(mse)\n",
        "\n",
        "print(mse, rmse)"
      ],
      "execution_count": 30,
      "outputs": [
        {
          "output_type": "stream",
          "name": "stdout",
          "text": [
            "1.0513017822006636 1.0253300845096975\n"
          ]
        }
      ]
    },
    {
      "cell_type": "markdown",
      "metadata": {
        "id": "vqMiuF61BIP3"
      },
      "source": [
        "### 4-2. 사용자 평균 평점기반 예측\n",
        "- train set의 모든 유저가 준 평균 평점\n",
        "- test set 예측할 때, 유저가 train set에서 준 평균 평점을 활용 / 유저가 없을 경우 random 평점 적용"
      ]
    },
    {
      "cell_type": "code",
      "metadata": {
        "colab": {
          "base_uri": "https://localhost:8080/"
        },
        "id": "OOvlggeSBGIA",
        "outputId": "40aed813-a628-424a-8139-b3254e671625"
      },
      "source": [
        "train_user_df = train_df.groupby('userId').mean()\n",
        "\n",
        "print(train_user_df.shape)\n",
        "print(train_user_df.head())"
      ],
      "execution_count": 31,
      "outputs": [
        {
          "output_type": "stream",
          "name": "stdout",
          "text": [
            "(610, 3)\n",
            "             movieId    rating     timestamp\n",
            "userId                                      \n",
            "1        1891.168478  4.320652  9.649865e+08\n",
            "2       70402.760000  3.940000  1.445715e+09\n",
            "3        8394.733333  2.516667  1.306464e+09\n",
            "4        1957.923077  3.631868  9.655941e+08\n",
            "5         337.606061  3.636364  8.474351e+08\n"
          ]
        }
      ]
    },
    {
      "cell_type": "code",
      "metadata": {
        "colab": {
          "base_uri": "https://localhost:8080/",
          "height": 204
        },
        "id": "MMS-DNkbB2Jg",
        "outputId": "e770bd70-b84c-4e0d-fd88-3cefe29be0f4"
      },
      "source": [
        "test_df['pred_rating_user'] = test_df['userId'].apply(lambda x: avg_rating_prediction(train_user_df, x))\n",
        "\n",
        "test_df.head()"
      ],
      "execution_count": 32,
      "outputs": [
        {
          "output_type": "execute_result",
          "data": {
            "text/html": [
              "<div>\n",
              "<style scoped>\n",
              "    .dataframe tbody tr th:only-of-type {\n",
              "        vertical-align: middle;\n",
              "    }\n",
              "\n",
              "    .dataframe tbody tr th {\n",
              "        vertical-align: top;\n",
              "    }\n",
              "\n",
              "    .dataframe thead th {\n",
              "        text-align: right;\n",
              "    }\n",
              "</style>\n",
              "<table border=\"1\" class=\"dataframe\">\n",
              "  <thead>\n",
              "    <tr style=\"text-align: right;\">\n",
              "      <th></th>\n",
              "      <th>userId</th>\n",
              "      <th>movieId</th>\n",
              "      <th>rating</th>\n",
              "      <th>timestamp</th>\n",
              "      <th>pred_rating_movie</th>\n",
              "      <th>pred_rating_user</th>\n",
              "    </tr>\n",
              "  </thead>\n",
              "  <tbody>\n",
              "    <tr>\n",
              "      <th>99731</th>\n",
              "      <td>610</td>\n",
              "      <td>3527</td>\n",
              "      <td>5.0</td>\n",
              "      <td>1479545223</td>\n",
              "      <td>3.604167</td>\n",
              "      <td>3.678709</td>\n",
              "    </tr>\n",
              "    <tr>\n",
              "      <th>97583</th>\n",
              "      <td>606</td>\n",
              "      <td>1250</td>\n",
              "      <td>3.5</td>\n",
              "      <td>1171376891</td>\n",
              "      <td>4.180556</td>\n",
              "      <td>3.649718</td>\n",
              "    </tr>\n",
              "    <tr>\n",
              "      <th>38197</th>\n",
              "      <td>262</td>\n",
              "      <td>213</td>\n",
              "      <td>5.0</td>\n",
              "      <td>840310907</td>\n",
              "      <td>3.750000</td>\n",
              "      <td>2.925000</td>\n",
              "    </tr>\n",
              "    <tr>\n",
              "      <th>11474</th>\n",
              "      <td>68</td>\n",
              "      <td>69406</td>\n",
              "      <td>3.0</td>\n",
              "      <td>1261622505</td>\n",
              "      <td>3.571429</td>\n",
              "      <td>3.229331</td>\n",
              "    </tr>\n",
              "    <tr>\n",
              "      <th>34105</th>\n",
              "      <td>232</td>\n",
              "      <td>4728</td>\n",
              "      <td>3.0</td>\n",
              "      <td>1218166950</td>\n",
              "      <td>2.769231</td>\n",
              "      <td>3.242268</td>\n",
              "    </tr>\n",
              "  </tbody>\n",
              "</table>\n",
              "</div>"
            ],
            "text/plain": [
              "       userId  movieId  rating   timestamp  pred_rating_movie  pred_rating_user\n",
              "99731     610     3527     5.0  1479545223           3.604167          3.678709\n",
              "97583     606     1250     3.5  1171376891           4.180556          3.649718\n",
              "38197     262      213     5.0   840310907           3.750000          2.925000\n",
              "11474      68    69406     3.0  1261622505           3.571429          3.229331\n",
              "34105     232     4728     3.0  1218166950           2.769231          3.242268"
            ]
          },
          "metadata": {},
          "execution_count": 32
        }
      ]
    },
    {
      "cell_type": "code",
      "metadata": {
        "colab": {
          "base_uri": "https://localhost:8080/"
        },
        "id": "Zrjwz4yUCD4H",
        "outputId": "db5b863e-1bcd-47f5-f55b-48768ddf35a2"
      },
      "source": [
        "mse = mean_squared_error(y_true=test_df['rating'].values, y_pred=test_df['pred_rating_user'].values)\n",
        "rmse = np.sqrt(mse)\n",
        "\n",
        "print(mse, rmse)"
      ],
      "execution_count": 33,
      "outputs": [
        {
          "output_type": "stream",
          "name": "stdout",
          "text": [
            "0.8905889036428333 0.9437101798978504\n"
          ]
        }
      ]
    },
    {
      "cell_type": "markdown",
      "metadata": {
        "id": "XlB8Vwm-Cd-F"
      },
      "source": [
        "### 4-3. Rule-Based 평점 예측\n",
        "- train set에 포함된 유저의 영화 평균 평점과 영화의 장르를 활용하여, 장르별 평균 평점 계산 -> test set의 영화 장르의 평균 평점으로 예측\n",
        "- user의 평균 영화 평점을 normalize해서 확인: 평점 측정 수, 표준편차 등 활용 가능"
      ]
    },
    {
      "cell_type": "code",
      "metadata": {
        "id": "eWKFzyIZCXhU",
        "colab": {
          "base_uri": "https://localhost:8080/",
          "height": 450
        },
        "outputId": "44e37342-2345-41e4-846f-bee92889247f"
      },
      "source": [
        "train_user_info_df = pd.DataFrame({\n",
        "    'avg_ratings':train_df.groupby('userId')['rating'].mean(),\n",
        "    'std_ratings':train_df.groupby('userId')['rating'].std(),\n",
        "    'count_ratings':train_df.groupby('userId')['rating'].count()\n",
        "})\n",
        "\n",
        "train_user_info_df"
      ],
      "execution_count": 34,
      "outputs": [
        {
          "output_type": "execute_result",
          "data": {
            "text/html": [
              "<div>\n",
              "<style scoped>\n",
              "    .dataframe tbody tr th:only-of-type {\n",
              "        vertical-align: middle;\n",
              "    }\n",
              "\n",
              "    .dataframe tbody tr th {\n",
              "        vertical-align: top;\n",
              "    }\n",
              "\n",
              "    .dataframe thead th {\n",
              "        text-align: right;\n",
              "    }\n",
              "</style>\n",
              "<table border=\"1\" class=\"dataframe\">\n",
              "  <thead>\n",
              "    <tr style=\"text-align: right;\">\n",
              "      <th></th>\n",
              "      <th>avg_ratings</th>\n",
              "      <th>std_ratings</th>\n",
              "      <th>count_ratings</th>\n",
              "    </tr>\n",
              "    <tr>\n",
              "      <th>userId</th>\n",
              "      <th></th>\n",
              "      <th></th>\n",
              "      <th></th>\n",
              "    </tr>\n",
              "  </thead>\n",
              "  <tbody>\n",
              "    <tr>\n",
              "      <th>1</th>\n",
              "      <td>4.320652</td>\n",
              "      <td>0.836600</td>\n",
              "      <td>184</td>\n",
              "    </tr>\n",
              "    <tr>\n",
              "      <th>2</th>\n",
              "      <td>3.940000</td>\n",
              "      <td>0.820569</td>\n",
              "      <td>25</td>\n",
              "    </tr>\n",
              "    <tr>\n",
              "      <th>3</th>\n",
              "      <td>2.516667</td>\n",
              "      <td>2.127340</td>\n",
              "      <td>30</td>\n",
              "    </tr>\n",
              "    <tr>\n",
              "      <th>4</th>\n",
              "      <td>3.631868</td>\n",
              "      <td>1.317823</td>\n",
              "      <td>182</td>\n",
              "    </tr>\n",
              "    <tr>\n",
              "      <th>5</th>\n",
              "      <td>3.636364</td>\n",
              "      <td>1.084498</td>\n",
              "      <td>33</td>\n",
              "    </tr>\n",
              "    <tr>\n",
              "      <th>...</th>\n",
              "      <td>...</td>\n",
              "      <td>...</td>\n",
              "      <td>...</td>\n",
              "    </tr>\n",
              "    <tr>\n",
              "      <th>606</th>\n",
              "      <td>3.649718</td>\n",
              "      <td>0.734887</td>\n",
              "      <td>885</td>\n",
              "    </tr>\n",
              "    <tr>\n",
              "      <th>607</th>\n",
              "      <td>3.772414</td>\n",
              "      <td>0.955574</td>\n",
              "      <td>145</td>\n",
              "    </tr>\n",
              "    <tr>\n",
              "      <th>608</th>\n",
              "      <td>3.145865</td>\n",
              "      <td>1.071503</td>\n",
              "      <td>665</td>\n",
              "    </tr>\n",
              "    <tr>\n",
              "      <th>609</th>\n",
              "      <td>3.275862</td>\n",
              "      <td>0.454859</td>\n",
              "      <td>29</td>\n",
              "    </tr>\n",
              "    <tr>\n",
              "      <th>610</th>\n",
              "      <td>3.678709</td>\n",
              "      <td>0.863712</td>\n",
              "      <td>1038</td>\n",
              "    </tr>\n",
              "  </tbody>\n",
              "</table>\n",
              "<p>610 rows × 3 columns</p>\n",
              "</div>"
            ],
            "text/plain": [
              "        avg_ratings  std_ratings  count_ratings\n",
              "userId                                         \n",
              "1          4.320652     0.836600            184\n",
              "2          3.940000     0.820569             25\n",
              "3          2.516667     2.127340             30\n",
              "4          3.631868     1.317823            182\n",
              "5          3.636364     1.084498             33\n",
              "...             ...          ...            ...\n",
              "606        3.649718     0.734887            885\n",
              "607        3.772414     0.955574            145\n",
              "608        3.145865     1.071503            665\n",
              "609        3.275862     0.454859             29\n",
              "610        3.678709     0.863712           1038\n",
              "\n",
              "[610 rows x 3 columns]"
            ]
          },
          "metadata": {},
          "execution_count": 34
        }
      ]
    },
    {
      "cell_type": "code",
      "metadata": {
        "id": "eDcaeCcgPVv1"
      },
      "source": [
        "min_count = train_user_info_df['count_ratings'].min()\n",
        "max_count = train_user_info_df['count_ratings'].max()\n",
        "avg_count = train_user_info_df['count_ratings'].mean()\n",
        "\n",
        "train_user_info_df['weights'] = train_user_info_df['count_ratings'].apply(lambda x: (x-avg_count)/(max_count-min_count))"
      ],
      "execution_count": 35,
      "outputs": []
    },
    {
      "cell_type": "code",
      "metadata": {
        "colab": {
          "base_uri": "https://localhost:8080/",
          "height": 450
        },
        "id": "SIp2W6JyP-9V",
        "outputId": "90d358a7-9d6f-4623-df53-6e2f278f1a7a"
      },
      "source": [
        "train_user_info_df"
      ],
      "execution_count": 36,
      "outputs": [
        {
          "output_type": "execute_result",
          "data": {
            "text/html": [
              "<div>\n",
              "<style scoped>\n",
              "    .dataframe tbody tr th:only-of-type {\n",
              "        vertical-align: middle;\n",
              "    }\n",
              "\n",
              "    .dataframe tbody tr th {\n",
              "        vertical-align: top;\n",
              "    }\n",
              "\n",
              "    .dataframe thead th {\n",
              "        text-align: right;\n",
              "    }\n",
              "</style>\n",
              "<table border=\"1\" class=\"dataframe\">\n",
              "  <thead>\n",
              "    <tr style=\"text-align: right;\">\n",
              "      <th></th>\n",
              "      <th>avg_ratings</th>\n",
              "      <th>std_ratings</th>\n",
              "      <th>count_ratings</th>\n",
              "      <th>weights</th>\n",
              "    </tr>\n",
              "    <tr>\n",
              "      <th>userId</th>\n",
              "      <th></th>\n",
              "      <th></th>\n",
              "      <th></th>\n",
              "      <th></th>\n",
              "    </tr>\n",
              "  </thead>\n",
              "  <tbody>\n",
              "    <tr>\n",
              "      <th>1</th>\n",
              "      <td>4.320652</td>\n",
              "      <td>0.836600</td>\n",
              "      <td>184</td>\n",
              "      <td>0.023995</td>\n",
              "    </tr>\n",
              "    <tr>\n",
              "      <th>2</th>\n",
              "      <td>3.940000</td>\n",
              "      <td>0.820569</td>\n",
              "      <td>25</td>\n",
              "      <td>-0.049718</td>\n",
              "    </tr>\n",
              "    <tr>\n",
              "      <th>3</th>\n",
              "      <td>2.516667</td>\n",
              "      <td>2.127340</td>\n",
              "      <td>30</td>\n",
              "      <td>-0.047400</td>\n",
              "    </tr>\n",
              "    <tr>\n",
              "      <th>4</th>\n",
              "      <td>3.631868</td>\n",
              "      <td>1.317823</td>\n",
              "      <td>182</td>\n",
              "      <td>0.023068</td>\n",
              "    </tr>\n",
              "    <tr>\n",
              "      <th>5</th>\n",
              "      <td>3.636364</td>\n",
              "      <td>1.084498</td>\n",
              "      <td>33</td>\n",
              "      <td>-0.046010</td>\n",
              "    </tr>\n",
              "    <tr>\n",
              "      <th>...</th>\n",
              "      <td>...</td>\n",
              "      <td>...</td>\n",
              "      <td>...</td>\n",
              "      <td>...</td>\n",
              "    </tr>\n",
              "    <tr>\n",
              "      <th>606</th>\n",
              "      <td>3.649718</td>\n",
              "      <td>0.734887</td>\n",
              "      <td>885</td>\n",
              "      <td>0.348983</td>\n",
              "    </tr>\n",
              "    <tr>\n",
              "      <th>607</th>\n",
              "      <td>3.772414</td>\n",
              "      <td>0.955574</td>\n",
              "      <td>145</td>\n",
              "      <td>0.005914</td>\n",
              "    </tr>\n",
              "    <tr>\n",
              "      <th>608</th>\n",
              "      <td>3.145865</td>\n",
              "      <td>1.071503</td>\n",
              "      <td>665</td>\n",
              "      <td>0.246990</td>\n",
              "    </tr>\n",
              "    <tr>\n",
              "      <th>609</th>\n",
              "      <td>3.275862</td>\n",
              "      <td>0.454859</td>\n",
              "      <td>29</td>\n",
              "      <td>-0.047864</td>\n",
              "    </tr>\n",
              "    <tr>\n",
              "      <th>610</th>\n",
              "      <td>3.678709</td>\n",
              "      <td>0.863712</td>\n",
              "      <td>1038</td>\n",
              "      <td>0.419915</td>\n",
              "    </tr>\n",
              "  </tbody>\n",
              "</table>\n",
              "<p>610 rows × 4 columns</p>\n",
              "</div>"
            ],
            "text/plain": [
              "        avg_ratings  std_ratings  count_ratings   weights\n",
              "userId                                                   \n",
              "1          4.320652     0.836600            184  0.023995\n",
              "2          3.940000     0.820569             25 -0.049718\n",
              "3          2.516667     2.127340             30 -0.047400\n",
              "4          3.631868     1.317823            182  0.023068\n",
              "5          3.636364     1.084498             33 -0.046010\n",
              "...             ...          ...            ...       ...\n",
              "606        3.649718     0.734887            885  0.348983\n",
              "607        3.772414     0.955574            145  0.005914\n",
              "608        3.145865     1.071503            665  0.246990\n",
              "609        3.275862     0.454859             29 -0.047864\n",
              "610        3.678709     0.863712           1038  0.419915\n",
              "\n",
              "[610 rows x 4 columns]"
            ]
          },
          "metadata": {},
          "execution_count": 36
        }
      ]
    },
    {
      "cell_type": "code",
      "metadata": {
        "colab": {
          "base_uri": "https://localhost:8080/",
          "height": 450
        },
        "id": "pqfUqGdkQAzd",
        "outputId": "f70882e3-e5c7-4dec-da03-613283903265"
      },
      "source": [
        "from sklearn import preprocessing\n",
        "\n",
        "min_max_scaler = preprocessing.MinMaxScaler()\n",
        "np_scaled = min_max_scaler.fit_transform(train_user_info_df)\n",
        "df_normalized = pd.DataFrame(np_scaled, columns = train_user_info_df.columns, index = train_user_info_df.index)\n",
        "df_normalized"
      ],
      "execution_count": 40,
      "outputs": [
        {
          "output_type": "execute_result",
          "data": {
            "text/html": [
              "<div>\n",
              "<style scoped>\n",
              "    .dataframe tbody tr th:only-of-type {\n",
              "        vertical-align: middle;\n",
              "    }\n",
              "\n",
              "    .dataframe tbody tr th {\n",
              "        vertical-align: top;\n",
              "    }\n",
              "\n",
              "    .dataframe thead th {\n",
              "        text-align: right;\n",
              "    }\n",
              "</style>\n",
              "<table border=\"1\" class=\"dataframe\">\n",
              "  <thead>\n",
              "    <tr style=\"text-align: right;\">\n",
              "      <th></th>\n",
              "      <th>avg_ratings</th>\n",
              "      <th>std_ratings</th>\n",
              "      <th>count_ratings</th>\n",
              "      <th>weights</th>\n",
              "    </tr>\n",
              "    <tr>\n",
              "      <th>userId</th>\n",
              "      <th></th>\n",
              "      <th></th>\n",
              "      <th></th>\n",
              "      <th></th>\n",
              "    </tr>\n",
              "  </thead>\n",
              "  <tbody>\n",
              "    <tr>\n",
              "      <th>1</th>\n",
              "      <td>0.822227</td>\n",
              "      <td>0.393261</td>\n",
              "      <td>0.079740</td>\n",
              "      <td>0.079740</td>\n",
              "    </tr>\n",
              "    <tr>\n",
              "      <th>2</th>\n",
              "      <td>0.722617</td>\n",
              "      <td>0.385725</td>\n",
              "      <td>0.006027</td>\n",
              "      <td>0.006027</td>\n",
              "    </tr>\n",
              "    <tr>\n",
              "      <th>3</th>\n",
              "      <td>0.350156</td>\n",
              "      <td>1.000000</td>\n",
              "      <td>0.008345</td>\n",
              "      <td>0.008345</td>\n",
              "    </tr>\n",
              "    <tr>\n",
              "      <th>4</th>\n",
              "      <td>0.641984</td>\n",
              "      <td>0.619470</td>\n",
              "      <td>0.078813</td>\n",
              "      <td>0.078813</td>\n",
              "    </tr>\n",
              "    <tr>\n",
              "      <th>5</th>\n",
              "      <td>0.643161</td>\n",
              "      <td>0.509791</td>\n",
              "      <td>0.009736</td>\n",
              "      <td>0.009736</td>\n",
              "    </tr>\n",
              "    <tr>\n",
              "      <th>...</th>\n",
              "      <td>...</td>\n",
              "      <td>...</td>\n",
              "      <td>...</td>\n",
              "      <td>...</td>\n",
              "    </tr>\n",
              "    <tr>\n",
              "      <th>606</th>\n",
              "      <td>0.646655</td>\n",
              "      <td>0.345449</td>\n",
              "      <td>0.404729</td>\n",
              "      <td>0.404729</td>\n",
              "    </tr>\n",
              "    <tr>\n",
              "      <th>607</th>\n",
              "      <td>0.678762</td>\n",
              "      <td>0.449188</td>\n",
              "      <td>0.061660</td>\n",
              "      <td>0.061660</td>\n",
              "    </tr>\n",
              "    <tr>\n",
              "      <th>608</th>\n",
              "      <td>0.514806</td>\n",
              "      <td>0.503682</td>\n",
              "      <td>0.302735</td>\n",
              "      <td>0.302735</td>\n",
              "    </tr>\n",
              "    <tr>\n",
              "      <th>609</th>\n",
              "      <td>0.548824</td>\n",
              "      <td>0.213816</td>\n",
              "      <td>0.007881</td>\n",
              "      <td>0.007881</td>\n",
              "    </tr>\n",
              "    <tr>\n",
              "      <th>610</th>\n",
              "      <td>0.654242</td>\n",
              "      <td>0.406005</td>\n",
              "      <td>0.475661</td>\n",
              "      <td>0.475661</td>\n",
              "    </tr>\n",
              "  </tbody>\n",
              "</table>\n",
              "<p>610 rows × 4 columns</p>\n",
              "</div>"
            ],
            "text/plain": [
              "        avg_ratings  std_ratings  count_ratings   weights\n",
              "userId                                                   \n",
              "1          0.822227     0.393261       0.079740  0.079740\n",
              "2          0.722617     0.385725       0.006027  0.006027\n",
              "3          0.350156     1.000000       0.008345  0.008345\n",
              "4          0.641984     0.619470       0.078813  0.078813\n",
              "5          0.643161     0.509791       0.009736  0.009736\n",
              "...             ...          ...            ...       ...\n",
              "606        0.646655     0.345449       0.404729  0.404729\n",
              "607        0.678762     0.449188       0.061660  0.061660\n",
              "608        0.514806     0.503682       0.302735  0.302735\n",
              "609        0.548824     0.213816       0.007881  0.007881\n",
              "610        0.654242     0.406005       0.475661  0.475661\n",
              "\n",
              "[610 rows x 4 columns]"
            ]
          },
          "metadata": {},
          "execution_count": 40
        }
      ]
    },
    {
      "cell_type": "code",
      "metadata": {
        "colab": {
          "base_uri": "https://localhost:8080/",
          "height": 450
        },
        "id": "KVX5yPxgQDGH",
        "outputId": "27cb7b6f-8fc7-4eaa-8b8e-7f951a67ea28"
      },
      "source": [
        "df_normalized['normalized_avg_ratings'] = df_normalized['avg_ratings'] * 5\n",
        "df_normalized"
      ],
      "execution_count": 41,
      "outputs": [
        {
          "output_type": "execute_result",
          "data": {
            "text/html": [
              "<div>\n",
              "<style scoped>\n",
              "    .dataframe tbody tr th:only-of-type {\n",
              "        vertical-align: middle;\n",
              "    }\n",
              "\n",
              "    .dataframe tbody tr th {\n",
              "        vertical-align: top;\n",
              "    }\n",
              "\n",
              "    .dataframe thead th {\n",
              "        text-align: right;\n",
              "    }\n",
              "</style>\n",
              "<table border=\"1\" class=\"dataframe\">\n",
              "  <thead>\n",
              "    <tr style=\"text-align: right;\">\n",
              "      <th></th>\n",
              "      <th>avg_ratings</th>\n",
              "      <th>std_ratings</th>\n",
              "      <th>count_ratings</th>\n",
              "      <th>weights</th>\n",
              "      <th>normalized_avg_ratings</th>\n",
              "    </tr>\n",
              "    <tr>\n",
              "      <th>userId</th>\n",
              "      <th></th>\n",
              "      <th></th>\n",
              "      <th></th>\n",
              "      <th></th>\n",
              "      <th></th>\n",
              "    </tr>\n",
              "  </thead>\n",
              "  <tbody>\n",
              "    <tr>\n",
              "      <th>1</th>\n",
              "      <td>0.822227</td>\n",
              "      <td>0.393261</td>\n",
              "      <td>0.079740</td>\n",
              "      <td>0.079740</td>\n",
              "      <td>4.111134</td>\n",
              "    </tr>\n",
              "    <tr>\n",
              "      <th>2</th>\n",
              "      <td>0.722617</td>\n",
              "      <td>0.385725</td>\n",
              "      <td>0.006027</td>\n",
              "      <td>0.006027</td>\n",
              "      <td>3.613084</td>\n",
              "    </tr>\n",
              "    <tr>\n",
              "      <th>3</th>\n",
              "      <td>0.350156</td>\n",
              "      <td>1.000000</td>\n",
              "      <td>0.008345</td>\n",
              "      <td>0.008345</td>\n",
              "      <td>1.750779</td>\n",
              "    </tr>\n",
              "    <tr>\n",
              "      <th>4</th>\n",
              "      <td>0.641984</td>\n",
              "      <td>0.619470</td>\n",
              "      <td>0.078813</td>\n",
              "      <td>0.078813</td>\n",
              "      <td>3.209921</td>\n",
              "    </tr>\n",
              "    <tr>\n",
              "      <th>5</th>\n",
              "      <td>0.643161</td>\n",
              "      <td>0.509791</td>\n",
              "      <td>0.009736</td>\n",
              "      <td>0.009736</td>\n",
              "      <td>3.215803</td>\n",
              "    </tr>\n",
              "    <tr>\n",
              "      <th>...</th>\n",
              "      <td>...</td>\n",
              "      <td>...</td>\n",
              "      <td>...</td>\n",
              "      <td>...</td>\n",
              "      <td>...</td>\n",
              "    </tr>\n",
              "    <tr>\n",
              "      <th>606</th>\n",
              "      <td>0.646655</td>\n",
              "      <td>0.345449</td>\n",
              "      <td>0.404729</td>\n",
              "      <td>0.404729</td>\n",
              "      <td>3.233275</td>\n",
              "    </tr>\n",
              "    <tr>\n",
              "      <th>607</th>\n",
              "      <td>0.678762</td>\n",
              "      <td>0.449188</td>\n",
              "      <td>0.061660</td>\n",
              "      <td>0.061660</td>\n",
              "      <td>3.393812</td>\n",
              "    </tr>\n",
              "    <tr>\n",
              "      <th>608</th>\n",
              "      <td>0.514806</td>\n",
              "      <td>0.503682</td>\n",
              "      <td>0.302735</td>\n",
              "      <td>0.302735</td>\n",
              "      <td>2.574029</td>\n",
              "    </tr>\n",
              "    <tr>\n",
              "      <th>609</th>\n",
              "      <td>0.548824</td>\n",
              "      <td>0.213816</td>\n",
              "      <td>0.007881</td>\n",
              "      <td>0.007881</td>\n",
              "      <td>2.744119</td>\n",
              "    </tr>\n",
              "    <tr>\n",
              "      <th>610</th>\n",
              "      <td>0.654242</td>\n",
              "      <td>0.406005</td>\n",
              "      <td>0.475661</td>\n",
              "      <td>0.475661</td>\n",
              "      <td>3.271208</td>\n",
              "    </tr>\n",
              "  </tbody>\n",
              "</table>\n",
              "<p>610 rows × 5 columns</p>\n",
              "</div>"
            ],
            "text/plain": [
              "        avg_ratings  std_ratings  ...   weights  normalized_avg_ratings\n",
              "userId                            ...                                  \n",
              "1          0.822227     0.393261  ...  0.079740                4.111134\n",
              "2          0.722617     0.385725  ...  0.006027                3.613084\n",
              "3          0.350156     1.000000  ...  0.008345                1.750779\n",
              "4          0.641984     0.619470  ...  0.078813                3.209921\n",
              "5          0.643161     0.509791  ...  0.009736                3.215803\n",
              "...             ...          ...  ...       ...                     ...\n",
              "606        0.646655     0.345449  ...  0.404729                3.233275\n",
              "607        0.678762     0.449188  ...  0.061660                3.393812\n",
              "608        0.514806     0.503682  ...  0.302735                2.574029\n",
              "609        0.548824     0.213816  ...  0.007881                2.744119\n",
              "610        0.654242     0.406005  ...  0.475661                3.271208\n",
              "\n",
              "[610 rows x 5 columns]"
            ]
          },
          "metadata": {},
          "execution_count": 41
        }
      ]
    },
    {
      "cell_type": "code",
      "metadata": {
        "colab": {
          "base_uri": "https://localhost:8080/",
          "height": 419
        },
        "id": "nbyZmpjlQrsd",
        "outputId": "5e51257b-cbb7-4aef-e465-cb5d72ba76e5"
      },
      "source": [
        "test_df['pred_rating_normalized'] = test_df['userId'].apply(lambda x: df_normalized.loc[x]['normalized_avg_ratings'])\n",
        "test_df"
      ],
      "execution_count": 42,
      "outputs": [
        {
          "output_type": "execute_result",
          "data": {
            "text/html": [
              "<div>\n",
              "<style scoped>\n",
              "    .dataframe tbody tr th:only-of-type {\n",
              "        vertical-align: middle;\n",
              "    }\n",
              "\n",
              "    .dataframe tbody tr th {\n",
              "        vertical-align: top;\n",
              "    }\n",
              "\n",
              "    .dataframe thead th {\n",
              "        text-align: right;\n",
              "    }\n",
              "</style>\n",
              "<table border=\"1\" class=\"dataframe\">\n",
              "  <thead>\n",
              "    <tr style=\"text-align: right;\">\n",
              "      <th></th>\n",
              "      <th>userId</th>\n",
              "      <th>movieId</th>\n",
              "      <th>rating</th>\n",
              "      <th>timestamp</th>\n",
              "      <th>pred_rating_movie</th>\n",
              "      <th>pred_rating_user</th>\n",
              "      <th>pred_rating_normalized</th>\n",
              "    </tr>\n",
              "  </thead>\n",
              "  <tbody>\n",
              "    <tr>\n",
              "      <th>99731</th>\n",
              "      <td>610</td>\n",
              "      <td>3527</td>\n",
              "      <td>5.0</td>\n",
              "      <td>1479545223</td>\n",
              "      <td>3.604167</td>\n",
              "      <td>3.678709</td>\n",
              "      <td>3.271208</td>\n",
              "    </tr>\n",
              "    <tr>\n",
              "      <th>97583</th>\n",
              "      <td>606</td>\n",
              "      <td>1250</td>\n",
              "      <td>3.5</td>\n",
              "      <td>1171376891</td>\n",
              "      <td>4.180556</td>\n",
              "      <td>3.649718</td>\n",
              "      <td>3.233275</td>\n",
              "    </tr>\n",
              "    <tr>\n",
              "      <th>38197</th>\n",
              "      <td>262</td>\n",
              "      <td>213</td>\n",
              "      <td>5.0</td>\n",
              "      <td>840310907</td>\n",
              "      <td>3.750000</td>\n",
              "      <td>2.925000</td>\n",
              "      <td>2.285047</td>\n",
              "    </tr>\n",
              "    <tr>\n",
              "      <th>11474</th>\n",
              "      <td>68</td>\n",
              "      <td>69406</td>\n",
              "      <td>3.0</td>\n",
              "      <td>1261622505</td>\n",
              "      <td>3.571429</td>\n",
              "      <td>3.229331</td>\n",
              "      <td>2.683236</td>\n",
              "    </tr>\n",
              "    <tr>\n",
              "      <th>34105</th>\n",
              "      <td>232</td>\n",
              "      <td>4728</td>\n",
              "      <td>3.0</td>\n",
              "      <td>1218166950</td>\n",
              "      <td>2.769231</td>\n",
              "      <td>3.242268</td>\n",
              "      <td>2.700164</td>\n",
              "    </tr>\n",
              "    <tr>\n",
              "      <th>...</th>\n",
              "      <td>...</td>\n",
              "      <td>...</td>\n",
              "      <td>...</td>\n",
              "      <td>...</td>\n",
              "      <td>...</td>\n",
              "      <td>...</td>\n",
              "      <td>...</td>\n",
              "    </tr>\n",
              "    <tr>\n",
              "      <th>41080</th>\n",
              "      <td>279</td>\n",
              "      <td>593</td>\n",
              "      <td>4.0</td>\n",
              "      <td>1506394242</td>\n",
              "      <td>4.127907</td>\n",
              "      <td>3.666667</td>\n",
              "      <td>3.255452</td>\n",
              "    </tr>\n",
              "    <tr>\n",
              "      <th>4897</th>\n",
              "      <td>31</td>\n",
              "      <td>780</td>\n",
              "      <td>4.0</td>\n",
              "      <td>850466616</td>\n",
              "      <td>3.470760</td>\n",
              "      <td>3.911765</td>\n",
              "      <td>3.576141</td>\n",
              "    </tr>\n",
              "    <tr>\n",
              "      <th>8023</th>\n",
              "      <td>56</td>\n",
              "      <td>410</td>\n",
              "      <td>3.0</td>\n",
              "      <td>835799188</td>\n",
              "      <td>3.131148</td>\n",
              "      <td>3.837838</td>\n",
              "      <td>3.479414</td>\n",
              "    </tr>\n",
              "    <tr>\n",
              "      <th>77467</th>\n",
              "      <td>483</td>\n",
              "      <td>2291</td>\n",
              "      <td>4.0</td>\n",
              "      <td>1415579167</td>\n",
              "      <td>3.734375</td>\n",
              "      <td>3.598940</td>\n",
              "      <td>3.166837</td>\n",
              "    </tr>\n",
              "    <tr>\n",
              "      <th>99662</th>\n",
              "      <td>610</td>\n",
              "      <td>1953</td>\n",
              "      <td>5.0</td>\n",
              "      <td>1493850274</td>\n",
              "      <td>3.822581</td>\n",
              "      <td>3.678709</td>\n",
              "      <td>3.271208</td>\n",
              "    </tr>\n",
              "  </tbody>\n",
              "</table>\n",
              "<p>20168 rows × 7 columns</p>\n",
              "</div>"
            ],
            "text/plain": [
              "       userId  movieId  ...  pred_rating_user  pred_rating_normalized\n",
              "99731     610     3527  ...          3.678709                3.271208\n",
              "97583     606     1250  ...          3.649718                3.233275\n",
              "38197     262      213  ...          2.925000                2.285047\n",
              "11474      68    69406  ...          3.229331                2.683236\n",
              "34105     232     4728  ...          3.242268                2.700164\n",
              "...       ...      ...  ...               ...                     ...\n",
              "41080     279      593  ...          3.666667                3.255452\n",
              "4897       31      780  ...          3.911765                3.576141\n",
              "8023       56      410  ...          3.837838                3.479414\n",
              "77467     483     2291  ...          3.598940                3.166837\n",
              "99662     610     1953  ...          3.678709                3.271208\n",
              "\n",
              "[20168 rows x 7 columns]"
            ]
          },
          "metadata": {},
          "execution_count": 42
        }
      ]
    },
    {
      "cell_type": "code",
      "metadata": {
        "colab": {
          "base_uri": "https://localhost:8080/"
        },
        "id": "p54konT8Q6Zg",
        "outputId": "d0e6ff97-8d4f-49b6-dcec-5ff7417cf6c2"
      },
      "source": [
        "mse = mean_squared_error(y_true = test_df['rating'].values, y_pred = test_df['pred_rating_normalized'].values)\n",
        "rmse = np.sqrt(mse)\n",
        "\n",
        "print(mse, rmse)"
      ],
      "execution_count": 43,
      "outputs": [
        {
          "output_type": "stream",
          "name": "stdout",
          "text": [
            "1.120579096060227 1.05857408624065\n"
          ]
        }
      ]
    }
  ]
}