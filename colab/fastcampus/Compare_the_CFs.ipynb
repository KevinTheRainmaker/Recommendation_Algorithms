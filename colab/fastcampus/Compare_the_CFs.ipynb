{
  "nbformat": 4,
  "nbformat_minor": 0,
  "metadata": {
    "colab": {
      "name": "Compare_the_CFs.ipynb",
      "provenance": [],
      "collapsed_sections": [],
      "authorship_tag": "ABX9TyN7NMbjo+FR3DLtAFNvuH4J",
      "include_colab_link": true
    },
    "kernelspec": {
      "name": "python3",
      "display_name": "Python 3"
    },
    "language_info": {
      "name": "python"
    }
  },
  "cells": [
    {
      "cell_type": "markdown",
      "metadata": {
        "id": "view-in-github",
        "colab_type": "text"
      },
      "source": [
        "<a href=\"https://colab.research.google.com/github/KevinTheRainmaker/Recommendation_Algorithms/blob/main/colab/fastcampus/Compare_the_CFs.ipynb\" target=\"_parent\"><img src=\"https://colab.research.google.com/assets/colab-badge.svg\" alt=\"Open In Colab\"/></a>"
      ]
    },
    {
      "cell_type": "markdown",
      "metadata": {
        "id": "J7DRX3Jn4FoH"
      },
      "source": [
        "# 협업필터링 성능 비교 분석하기\n",
        "## Matrix Factorization\n",
        "\n",
        "- Train Matrix Factorization from Scratch\n",
        "- Code Source: [albertauyeung/matrix-factorization-in-python](https://github.com/albertauyeung/matrix-factorization-in-python/blob/master/mf.py)\n",
        "- SGD 이용 MF 기법\n",
        "![image](https://user-images.githubusercontent.com/76294398/142833012-f1033b2d-9cab-4394-ab4b-fc73128b8994.png)\n",
        "\n"
      ]
    },
    {
      "cell_type": "markdown",
      "metadata": {
        "id": "miCqs65i5S7g"
      },
      "source": [
        "## Load Dataset & Packages"
      ]
    },
    {
      "cell_type": "code",
      "metadata": {
        "id": "ljUkxXmPIZZw",
        "colab": {
          "base_uri": "https://localhost:8080/"
        },
        "outputId": "c9ef453f-ccb8-4349-d70c-d5d01056e807"
      },
      "source": [
        "from google.colab import drive\n",
        "drive.mount('/content/drive')"
      ],
      "execution_count": 1,
      "outputs": [
        {
          "output_type": "stream",
          "name": "stdout",
          "text": [
            "Mounted at /content/drive\n"
          ]
        }
      ]
    },
    {
      "cell_type": "code",
      "metadata": {
        "id": "qTRfnEI15bqQ"
      },
      "source": [
        "import os\n",
        "import pandas as pd\n",
        "import numpy as np\n",
        "from math import sqrt\n",
        "from tqdm import tqdm_notebook as tqdm\n",
        "\n",
        "from sklearn.model_selection import train_test_split\n",
        "from sklearn.metrics import mean_squared_error\n",
        "import matplotlib.pyplot as plt"
      ],
      "execution_count": 2,
      "outputs": []
    },
    {
      "cell_type": "code",
      "metadata": {
        "colab": {
          "base_uri": "https://localhost:8080/"
        },
        "id": "ZmZiLABl5jnl",
        "outputId": "46305560-5946-4e39-803e-f7483ac15e4d"
      },
      "source": [
        "path = '/content/drive/MyDrive/data/movielens'\n",
        "ratings_df = pd.read_csv(os.path.join(path, 'ratings.csv'), encoding='utf-8')\n",
        "\n",
        "print(ratings_df.shape)\n",
        "print(ratings_df.head())"
      ],
      "execution_count": 3,
      "outputs": [
        {
          "output_type": "stream",
          "name": "stdout",
          "text": [
            "(100836, 4)\n",
            "   userId  movieId  rating  timestamp\n",
            "0       1        1     4.0  964982703\n",
            "1       1        3     4.0  964981247\n",
            "2       1        6     4.0  964982224\n",
            "3       1       47     5.0  964983815\n",
            "4       1       50     5.0  964982931\n"
          ]
        }
      ]
    },
    {
      "cell_type": "code",
      "metadata": {
        "colab": {
          "base_uri": "https://localhost:8080/"
        },
        "id": "WrvZqlf75mAX",
        "outputId": "cb358466-7b2a-446f-ac11-a0b10ce55ae3"
      },
      "source": [
        "train_df, test_df = train_test_split(ratings_df, test_size=0.2, random_state=1234)\n",
        "\n",
        "print(train_df.shape)\n",
        "print(test_df.shape)"
      ],
      "execution_count": 4,
      "outputs": [
        {
          "output_type": "stream",
          "name": "stdout",
          "text": [
            "(80668, 4)\n",
            "(20168, 4)\n"
          ]
        }
      ]
    },
    {
      "cell_type": "code",
      "metadata": {
        "colab": {
          "base_uri": "https://localhost:8080/"
        },
        "id": "XahxadKc5pjn",
        "outputId": "5a89a2f7-5cfa-4475-819c-b39763e0977a"
      },
      "source": [
        "# Small dataset\n",
        "train_df = train_df[:1000]\n",
        "print(train_df.shape)"
      ],
      "execution_count": 5,
      "outputs": [
        {
          "output_type": "stream",
          "name": "stdout",
          "text": [
            "(1000, 4)\n"
          ]
        }
      ]
    },
    {
      "cell_type": "markdown",
      "metadata": {
        "id": "SPTbpHAT6G6y"
      },
      "source": [
        "## Create Sparse Matrix\n"
      ]
    },
    {
      "cell_type": "code",
      "metadata": {
        "id": "TSiNnheV5q1v"
      },
      "source": [
        "sparse_matrix = train_df.groupby('movieId').apply(lambda x: pd.Series(x['rating'].values, index=x['userId'])).unstack()\n",
        "sparse_matrix.index.name = 'moviedId'\n",
        "\n",
        "# fill sparse matrix with zero\n",
        "sparse_matrix.fillna(0, inplace=True)\n",
        "\n",
        "# fill sparse matrix with average of movie ratings\n",
        "sparse_matrix_withmovie = sparse_matrix.apply(lambda x: x.fillna(x.mean()), axis=1)\n",
        "\n",
        "# fill sparse matrix with average of user ratings\n",
        "sparse_matrix_withuser = sparse_matrix.apply(lambda x: x.fillna(x.mean()), axis=0)"
      ],
      "execution_count": 6,
      "outputs": []
    },
    {
      "cell_type": "code",
      "metadata": {
        "colab": {
          "base_uri": "https://localhost:8080/"
        },
        "id": "VCeBhnTC7O-p",
        "outputId": "ac01c40a-3669-4f24-d86e-27619316eebe"
      },
      "source": [
        "# dataframe to numpy\n",
        "sparse_matrix = sparse_matrix.to_numpy()\n",
        "sparse_matrix_withmovie = sparse_matrix_withmovie.to_numpy()\n",
        "sparse_matrix_withuser = sparse_matrix_withuser.to_numpy()\n",
        "\n",
        "sparse_matrix"
      ],
      "execution_count": 7,
      "outputs": [
        {
          "output_type": "execute_result",
          "data": {
            "text/plain": [
              "array([[0., 0., 0., ..., 0., 0., 0.],\n",
              "       [0., 0., 0., ..., 0., 0., 0.],\n",
              "       [0., 0., 0., ..., 0., 0., 0.],\n",
              "       ...,\n",
              "       [0., 0., 0., ..., 0., 0., 0.],\n",
              "       [0., 0., 0., ..., 0., 0., 0.],\n",
              "       [0., 0., 0., ..., 0., 0., 0.]])"
            ]
          },
          "metadata": {},
          "execution_count": 7
        }
      ]
    },
    {
      "cell_type": "markdown",
      "metadata": {
        "id": "1uwRGE608SK5"
      },
      "source": [
        "## Implement Matrix Factorization"
      ]
    },
    {
      "cell_type": "code",
      "metadata": {
        "id": "dOFWSFZI7iHE"
      },
      "source": [
        "class MF():\n",
        "  def __init__(self, R, K, alpha, beta, iterations):\n",
        "    '''\n",
        "    Perform Matrix Factorization to predict empty\n",
        "    entries in a matrix.\n",
        "\n",
        "    Arguments\n",
        "    - R (ndarray)   : user-item rating matrix\n",
        "    - K (int)       : number of latent dimensions\n",
        "    - alpha (float) : learning rate\n",
        "    - beta (float)  : regularization parameter\n",
        "    '''\n",
        "\n",
        "    self.R = R\n",
        "    self.num_users, self.num_items = R.shape\n",
        "    self.K = K\n",
        "    self.alpha = alpha\n",
        "    self.beta = beta # lambda\n",
        "    self.iterations = iterations # epochs\n",
        "\n",
        "  def train(self):\n",
        "    # Initialize user and item latent feature matrice\n",
        "    # Update later using SGD\n",
        "    self.P = np.random.normal(scale=1.0/self.K, size=(self.num_users, self.K)) # scale == 표준편차 -> 1/number of latent dimensions\n",
        "    self.Q = np.random.normal(scale=1.0/self.K, size=(self.num_items, self.K))\n",
        "\n",
        "    # Initialize the biases\n",
        "    self.b_u = np.zeros(self.num_users) # deviation of user u about entire users\n",
        "    self.b_i = np.zeros(self.num_items) # deviation of item i about entire items\n",
        "    self.b = np.mean(self.R[np.where(self.R != 0)]) # average rating of all items == $\\mu$\n",
        "\n",
        "    # Create a list of training samples\n",
        "    self.samples = [\n",
        "                    (i, j, self.R[i,j])\n",
        "                    for i in range(self.num_users)\n",
        "                    for j in range(self.num_items)\n",
        "                    if self.R[i,j] > 0\n",
        "    ]\n",
        "\n",
        "    # Perform Stochastic Gradient Descent(SGD) for number of iterations\n",
        "    training_process = []\n",
        "    for i in range(self.iterations):\n",
        "      np.random.shuffle(self.samples)\n",
        "      self.sgd()\n",
        "      mse = self.mse()\n",
        "      training_process.append((i,mse))\n",
        "      # if(i+1) % 10 ==0:\n",
        "      print('Iteration: %d ; error(MSE) = %.4f' % (i+1, mse))\n",
        "\n",
        "    return training_process\n",
        "\n",
        "  def mse(self):\n",
        "    '''\n",
        "    A function to compute the total Mean Squared Error\n",
        "    '''\n",
        "    xs, ys = self.R.nonzero()\n",
        "    predicted = self.full_matrix()\n",
        "    error = 0\n",
        "    for x, y in zip(xs, ys):\n",
        "      error += pow(self.R[x,y] - predicted[x,y], 2)\n",
        "    return np.sqrt(error)\n",
        "\n",
        "  def sgd(self):\n",
        "    '''\n",
        "    Perform Stochastic Gradient Descent\n",
        "    '''\n",
        "    for i, j, r in self.samples:\n",
        "      # Compute prediction and error\n",
        "      prediction = self.get_rating(i,j)\n",
        "      e = (r-prediction)\n",
        "\n",
        "      # Update biases\n",
        "      self.b_u[i] += self.alpha * (e - self.beta * self.b_u[i])\n",
        "      self.b_i[j] += self.alpha * (e - self.beta * self.b_i[j])\n",
        "\n",
        "      # Create copy of row of P since we need to update it but use older values for update on Q\n",
        "      P_i = self.P[i, :][:]\n",
        "\n",
        "      # Update user and item latent feature matrices\n",
        "      self.P[i, :] += self.alpha * (e * self.Q[j,:] - self.beta * self.P[i,:])\n",
        "      self.Q[j, :] += self.alpha * (e * P_i - self.beta * self.Q[j, :])\n",
        "\n",
        "  def get_rating(self, i, j):\n",
        "    '''\n",
        "    Get the predicted rating of user i and item j\n",
        "    '''\n",
        "    prediction = self.b + self.b_u[i] + self.b_i[j] + self.P[i, :].dot(self.Q[j, :].T)\n",
        "    return prediction\n",
        "\n",
        "  # helper function\n",
        "  def full_matrix(self):\n",
        "    '''\n",
        "    Compute the full matrix using the resultant biases, P & Q\n",
        "    '''\n",
        "    return self.b + self.b_u[:, np.newaxis] + self.b_i[np.newaxis:,] + self.P.dot(self.Q.T)"
      ],
      "execution_count": 47,
      "outputs": []
    },
    {
      "cell_type": "markdown",
      "metadata": {
        "id": "GskCsIg51S7B"
      },
      "source": [
        "## Train Matrix Factorization"
      ]
    },
    {
      "cell_type": "code",
      "metadata": {
        "colab": {
          "base_uri": "https://localhost:8080/"
        },
        "id": "ukFPDdx_105E",
        "outputId": "a1e90e24-75f5-4673-8c6f-2e9eb8727a15"
      },
      "source": [
        "sparse_matrix.shape"
      ],
      "execution_count": 48,
      "outputs": [
        {
          "output_type": "execute_result",
          "data": {
            "text/plain": [
              "(799, 347)"
            ]
          },
          "metadata": {},
          "execution_count": 48
        }
      ]
    },
    {
      "cell_type": "code",
      "metadata": {
        "id": "R3bptlKWt2dV"
      },
      "source": [
        "mf = MF(sparse_matrix, K=50, alpha=0.1, beta=0.01, iterations=20)"
      ],
      "execution_count": 49,
      "outputs": []
    },
    {
      "cell_type": "code",
      "metadata": {
        "colab": {
          "base_uri": "https://localhost:8080/"
        },
        "id": "WM1A_VcP1lc7",
        "outputId": "1f950377-417a-469b-933c-415577268229"
      },
      "source": [
        "training_process = mf.train()"
      ],
      "execution_count": 50,
      "outputs": [
        {
          "output_type": "stream",
          "name": "stdout",
          "text": [
            "Iteration: 1 ; error(MSE) = 25.1516\n",
            "Iteration: 2 ; error(MSE) = 21.4216\n",
            "Iteration: 3 ; error(MSE) = 18.7693\n",
            "Iteration: 4 ; error(MSE) = 16.5651\n",
            "Iteration: 5 ; error(MSE) = 14.7382\n",
            "Iteration: 6 ; error(MSE) = 13.0546\n",
            "Iteration: 7 ; error(MSE) = 11.5328\n",
            "Iteration: 8 ; error(MSE) = 10.1499\n",
            "Iteration: 9 ; error(MSE) = 8.8890\n",
            "Iteration: 10 ; error(MSE) = 7.7849\n",
            "Iteration: 11 ; error(MSE) = 6.8033\n",
            "Iteration: 12 ; error(MSE) = 5.9478\n",
            "Iteration: 13 ; error(MSE) = 5.2100\n",
            "Iteration: 14 ; error(MSE) = 4.5780\n",
            "Iteration: 15 ; error(MSE) = 4.0320\n",
            "Iteration: 16 ; error(MSE) = 3.5652\n",
            "Iteration: 17 ; error(MSE) = 3.1704\n",
            "Iteration: 18 ; error(MSE) = 2.8287\n",
            "Iteration: 19 ; error(MSE) = 2.5417\n",
            "Iteration: 20 ; error(MSE) = 2.2947\n"
          ]
        }
      ]
    },
    {
      "cell_type": "code",
      "metadata": {
        "colab": {
          "base_uri": "https://localhost:8080/"
        },
        "id": "CYt065Qb1oXA",
        "outputId": "bd4953b0-ac38-4a82-9705-42b57de94a54"
      },
      "source": [
        "mf.full_matrix()"
      ],
      "execution_count": 46,
      "outputs": [
        {
          "output_type": "execute_result",
          "data": {
            "text/plain": [
              "array([[4.78514137, 4.76598748, 4.43101176, ..., 3.87741203, 3.75630101,\n",
              "        3.94117071],\n",
              "       [4.19690914, 4.14162595, 3.86853084, ..., 3.31080566, 3.08039991,\n",
              "        3.43570658],\n",
              "       [3.7213288 , 3.66658312, 3.39489012, ..., 2.83147693, 2.63312459,\n",
              "        2.97922276],\n",
              "       ...,\n",
              "       [4.10892812, 4.0484573 , 3.77126079, ..., 3.21218742, 3.01176114,\n",
              "        3.37450302],\n",
              "       [4.39481632, 4.3393295 , 4.06522125, ..., 3.49996517, 3.27711073,\n",
              "        3.68152898],\n",
              "       [3.86821334, 3.80998575, 3.54007449, ..., 2.97387597, 2.72967356,\n",
              "        3.13633572]])"
            ]
          },
          "metadata": {},
          "execution_count": 46
        }
      ]
    },
    {
      "cell_type": "markdown",
      "metadata": {
        "id": "fAf92yuL3225"
      },
      "source": [
        "### Visualize"
      ]
    },
    {
      "cell_type": "code",
      "metadata": {
        "colab": {
          "base_uri": "https://localhost:8080/",
          "height": 279
        },
        "id": "lk4xlrmX1qiF",
        "outputId": "9d11670b-7122-4982-c5f6-1025fd997dcf"
      },
      "source": [
        "x = [x for x, y in training_process]\n",
        "y = [y for x, y in training_process]\n",
        "plt.figure(figsize=(16,4))\n",
        "plt.plot(x, y)\n",
        "plt.xticks(x, x)\n",
        "plt.xlabel('Iterations')\n",
        "plt.ylabel('MSE')\n",
        "plt.grid(axis='y')"
      ],
      "execution_count": 53,
      "outputs": [
        {
          "output_type": "display_data",
          "data": {
            "image/png": "[encoded data removed]",
            "text/plain": [
              "<Figure size 1152x288 with 1 Axes>"
            ]
          },
          "metadata": {
            "needs_background": "light"
          }
        }
      ]
    },
    {
      "cell_type": "code",
      "metadata": {
        "id": "rbB9UVSm4Mq8"
      },
      "source": [
        ""
      ],
      "execution_count": null,
      "outputs": []
    }
  ]
}