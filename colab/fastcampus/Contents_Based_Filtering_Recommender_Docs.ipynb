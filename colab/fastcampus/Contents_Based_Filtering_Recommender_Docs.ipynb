{
  "nbformat": 4,
  "nbformat_minor": 0,
  "metadata": {
    "colab": {
      "name": "Contents Based Filtering Recommender.ipynb",
      "provenance": [],
      "collapsed_sections": [],
      "authorship_tag": "ABX9TyM0orN6dyIq1GVMYeeuNWrj",
      "include_colab_link": true
    },
    "kernelspec": {
      "name": "python3",
      "display_name": "Python 3"
    },
    "language_info": {
      "name": "python"
    }
  },
  "cells": [
    {
      "cell_type": "markdown",
      "metadata": {
        "id": "view-in-github",
        "colab_type": "text"
      },
      "source": [
        "<a href=\"https://colab.research.google.com/github/KevinTheRainmaker/Recommendation_Algorithms/blob/main/colab/fastcampus/Contents_Based_Filtering_Recommender_Docs.ipynb\" target=\"_parent\"><img src=\"https://colab.research.google.com/assets/colab-badge.svg\" alt=\"Open In Colab\"/></a>"
      ]
    },
    {
      "cell_type": "markdown",
      "metadata": {
        "id": "vuOO1lK1Pzcd"
      },
      "source": [
        "# 컨텐츠기반 추천시스템\n",
        "\n",
        "- 컨텐츠가 비슷한 아이템을 추천하는 추천시스템\n",
        "- 사용자가 과거에 경험했던 아이템 중 비슷한 아이템을 현재 시점에 추천\n",
        "- Information Retrieval과 ML의 중간 지점\n",
        "  - 정보(아이템)를 찾는 과정과 과거 정보를 활용해서 유저의 성향을 배우는 문제\n",
        "\n",
        "## Main Idea\n",
        "- 유저 A가 높은 평점을 주거나 큰 관심을 가진 아이템 x와 유사한 아이템 y를 추천\n",
        "\n",
        "### 장점\n",
        "1. 다른 유저의 데이터가 필요하지 않다\n",
        "2. 추천할 수 있는 아이템의 범위가 넓다\n",
        "3. 추천의 이유(특정 feature)를 제시할 수 있다\n",
        "\n",
        "### 단점\n",
        "1. 적절한 features를 찾기 어렵다\n",
        "2. 새로운 유저를 위한 추천이 어렵다\n",
        "3. 선호하는 특성을 가진 항목을 반복 추천한다 - Overspecialization"
      ]
    },
    {
      "cell_type": "markdown",
      "metadata": {
        "id": "9sUueZrCSAjK"
      },
      "source": [
        "# 컨텐츠 기반 추천시스템 Architecture\n",
        "\n",
        "### 1. Contents Analyzer: \n",
        "텍스트 등 비정형 데이터로부터 관련있는 정보를 얻는 작업 - feature extraction, vector representation(item profiling)\n",
        "### 2. Profile Learner: \n",
        "유저가 선호하는 아이템, 취향 파악 / 머신러닝 등 알고리즘 통해 유저 데이터 일반화\n",
        "### 3. Filtering Component: \n",
        "아이템 중 가장 적절하게 match하는, 유사 아이템 선택\n",
        "### 4. List Output: \n",
        "관련있는 아이템으로 최종 추천 리스트 도출"
      ]
    },
    {
      "cell_type": "markdown",
      "metadata": {
        "id": "obiW-cQaZitg"
      },
      "source": [
        "# 근접이웃 추천  (kNN)\n",
        "- 데이터(아이템 또는 유저)로부터 거리가 가까운 k개의 다른 데이터를 선택하는 알고리즘\n",
        "- 데이터와 다른 데이터 사이의 거리를 측정할 때 'Euclidean distance'등 거리계산 metric을 활용 (metric 변경 가능)\n",
        "- Model-based Learning이 아닌 Lazy Model\n",
        "\n",
        "\n"
      ]
    },
    {
      "cell_type": "markdown",
      "metadata": {
        "id": "6JrXyDMNcjbj"
      },
      "source": [
        "# 나이브베이즈 추천 (Naive Bayes)\n",
        "- feture간 관계가 독립적인 경우 우수한 성능\n",
        "- Continuous Variable보다 Discrete Variable에 더 적절\n",
        "- 데이터의 차원이 높아질수록 모든 class에 대해 확률이 0으로 수렴가능 - Laplace Smoothing으로 처리\n",
        "\n",
        "\n",
        "### 베이즈 정리 (Bayes' Theorem)\n",
        "\n",
        "- 사전확률(prior, p(A))을 바탕으로 사후확률(posterior, p(A|B))을 계산\n",
        "- 사건 B가 사건 A로부터 발생했다는 가정하에 사건 A의 확률 업데이트\n",
        "\n"
      ]
    },
    {
      "cell_type": "code",
      "metadata": {
        "id": "O9vChDFqPuCE"
      },
      "source": [
        ""
      ],
      "execution_count": null,
      "outputs": []
    }
  ]
}